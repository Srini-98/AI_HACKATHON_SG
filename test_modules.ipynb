{
 "cells": [
  {
   "cell_type": "markdown",
   "id": "8c0bfd4e-348e-41dd-9999-6ccdfd55e38e",
   "metadata": {},
   "source": [
    "# import"
   ]
  },
  {
   "cell_type": "code",
   "execution_count": 1,
   "id": "94520407-5710-43ac-a56f-e45e830c4a49",
   "metadata": {
    "scrolled": true
   },
   "outputs": [],
   "source": [
    "import os\n",
    "import pdb\n",
    "import time\n",
    "from pprint import pprint\n",
    "\n",
    "import pandas as pd\n",
    "from dotenv import load_dotenv, find_dotenv\n",
    "from tqdm import tqdm\n",
    "\n",
    "from utils import RecruiterAgent"
   ]
  },
  {
   "cell_type": "code",
   "execution_count": 2,
   "id": "fc89e931-0959-41a2-8cb3-e06edd2c7890",
   "metadata": {},
   "outputs": [],
   "source": [
    "import requests\n",
    "import json"
   ]
  },
  {
   "cell_type": "code",
   "execution_count": 3,
   "id": "40948eb8-aaa9-4136-903d-5c69ee2f1b10",
   "metadata": {},
   "outputs": [],
   "source": [
    "# Model\n",
    "load_dotenv(find_dotenv()) # read local .env file\n",
    "assert os.environ[\"JIGSAW_API_KEY\"]  != ''\n",
    "assert os.environ[\"JIGSAW_PUBLIC_KEY\"]  != ''\n",
    "assert os.environ[\"GROQ_API_KEY\"]  != ''"
   ]
  },
  {
   "attachments": {},
   "cell_type": "markdown",
   "id": "8750db12-b416-435d-ba9a-4531c444e21f",
   "metadata": {},
   "source": [
    "# Jigsaw"
   ]
  },
  {
   "cell_type": "code",
   "execution_count": 4,
   "id": "212a353c-77f5-4e01-b34a-bbab9ec400e1",
   "metadata": {},
   "outputs": [],
   "source": [
    "JIGSAW_API_KEY = os.environ[\"JIGSAW_API_KEY\"]"
   ]
  },
  {
   "cell_type": "code",
   "execution_count": 5,
   "id": "a14e6bb3-e55a-45d6-a51d-9556e8e04c62",
   "metadata": {},
   "outputs": [],
   "source": [
    "JIGSAW_PUBLIC_KEY = os.environ[\"JIGSAW_PUBLIC_KEY\"]"
   ]
  },
  {
   "cell_type": "markdown",
   "id": "4906fcfe-6a8f-4954-9152-a0eb63f6a8c5",
   "metadata": {},
   "source": [
    "## upload"
   ]
  },
  {
   "cell_type": "code",
   "execution_count": 6,
   "id": "19d52be5-e878-40f8-8daf-f42843bdbcb6",
   "metadata": {},
   "outputs": [
    {
     "name": "stdout",
     "output_type": "stream",
     "text": [
      "https://api.jigsawstack.com/v1/store/file?key=gettysburg.wav&overwrite=true\n"
     ]
    }
   ],
   "source": [
    "# Define the endpoint and the API key\n",
    "endpoint = \"https://api.jigsawstack.com/v1/store/file?key=gettysburg.wav&overwrite=true\"\n",
    "print(endpoint)\n",
    "\n",
    "# Define the headers\n",
    "headers = {\n",
    "    \"Content-Type\": \"audio/wav\",\n",
    "    \"x-api-key\": JIGSAW_API_KEY,\n",
    "}"
   ]
  },
  {
   "cell_type": "code",
   "execution_count": 7,
   "id": "5e8d4703-1a92-40a1-9229-1b6956e8ce09",
   "metadata": {},
   "outputs": [
    {
     "name": "stdout",
     "output_type": "stream",
     "text": [
      "{'success': True, 'url': 'https://api.jigsawstack.com/v1/store/file/gettysburg.wav', 'key': 'gettysburg.wav'}\n",
      "CPU times: user 20.5 ms, sys: 0 ns, total: 20.5 ms\n",
      "Wall time: 7.68 s\n"
     ]
    }
   ],
   "source": [
    "%%time\n",
    "# Define the body of the request\n",
    "body = open('data/gettysburg.wav', 'rb')\n",
    "\n",
    "# Make the POST request\n",
    "response = requests.post(endpoint,\n",
    "                         headers=headers,\n",
    "                         data=body\n",
    "                        )\n",
    "\n",
    "# Parse the JSON response\n",
    "data = response.json()\n",
    "\n",
    "# Print the result\n",
    "print(data)"
   ]
  },
  {
   "cell_type": "markdown",
   "id": "8d7c4563-6b2b-4fc8-9b72-30330ca97b28",
   "metadata": {},
   "source": [
    "## transcribe"
   ]
  },
  {
   "cell_type": "code",
   "execution_count": 8,
   "id": "baed2216-2e7b-4edf-b92c-13b2a6890847",
   "metadata": {},
   "outputs": [],
   "source": [
    "# Define the endpoint and the API key\n",
    "endpoint = \"https://api.jigsawstack.com/v1/ai/transcribe\"\n",
    "\n",
    "# Define the headers\n",
    "headers = {\n",
    "    \"Content-Type\": \"application/json\",\n",
    "    \"x-api-key\": JIGSAW_API_KEY,\n",
    "}\n",
    "\n",
    "# Define the body of the request\n",
    "body = {\n",
    "    \"file_store_key\": \"gettysburg.wav\",\n",
    "}"
   ]
  },
  {
   "cell_type": "code",
   "execution_count": 9,
   "id": "53e5251d-3c48-4f52-be97-d99776af16b1",
   "metadata": {},
   "outputs": [
    {
     "name": "stdout",
     "output_type": "stream",
     "text": [
      "https://api.jigsawstack.com/v1/ai/transcribe\n",
      "{'Content-Type': 'application/json', 'x-api-key': 'sk_acd188330c1f9f68e2bc78bd43d8166965a8dad216eb01cb95a0a338b962ef30639891eb20133044ef621920a9f2dde49c00b5f0eedb6977219e1843f0d7688d024AFgZoUHfu6FCv1Hjg4'}\n",
      "{'file_store_key': 'gettysburg.wav'}\n"
     ]
    }
   ],
   "source": [
    "print(endpoint)\n",
    "print(headers)\n",
    "print(body)"
   ]
  },
  {
   "cell_type": "code",
   "execution_count": 10,
   "id": "e618357b-77c7-44ef-af40-6af08bc21dce",
   "metadata": {},
   "outputs": [
    {
     "name": "stdout",
     "output_type": "stream",
     "text": [
      "{'success': True, 'text': ' four score and seven years ago our fathers brought forth on this continent a new nation conceived in liberty and dedicated to the proposition that all men are created equal now we are engaged in a great civil war testing whether that nation or any nation so conceived and so dedicated can long endure', 'chunks': [{'timestamp': [0, 17.58], 'text': ' four score and seven years ago our fathers brought forth on this continent a new nation conceived in liberty and dedicated to the proposition that all men are created equal now we are engaged in a great civil war testing whether that nation or any nation so conceived and so dedicated can long endure'}]}\n",
      "CPU times: user 15.5 ms, sys: 0 ns, total: 15.5 ms\n",
      "Wall time: 35.8 s\n"
     ]
    }
   ],
   "source": [
    "%%time\n",
    "# Make the POST request\n",
    "response = requests.post(endpoint,\n",
    "                         headers=headers,\n",
    "                         data=json.dumps(body)\n",
    "                        )\n",
    "\n",
    "# Parse the JSON response\n",
    "data = response.json()\n",
    "\n",
    "# Print the result\n",
    "print(data)"
   ]
  },
  {
   "cell_type": "code",
   "execution_count": 11,
   "id": "f0d66519-ec5d-4595-ba34-b29240d0ed92",
   "metadata": {},
   "outputs": [
    {
     "name": "stdout",
     "output_type": "stream",
     "text": [
      "{'success': True, 'text': ' four score and seven years ago our fathers brought forth on this continent a new nation conceived in liberty and dedicated to the proposition that all men are created equal now we are engaged in a great civil war testing whether that nation or any nation so conceived and so dedicated can long endure', 'chunks': [{'timestamp': [0, 17.58], 'text': ' four score and seven years ago our fathers brought forth on this continent a new nation conceived in liberty and dedicated to the proposition that all men are created equal now we are engaged in a great civil war testing whether that nation or any nation so conceived and so dedicated can long endure'}]}\n",
      "CPU times: user 7.54 ms, sys: 6.47 ms, total: 14 ms\n",
      "Wall time: 4.51 s\n"
     ]
    }
   ],
   "source": [
    "%%time\n",
    "# Define the endpoint and the API key\n",
    "endpoint = \"https://api.jigsawstack.com/v1/ai/transcribe\"\n",
    "\n",
    "# Define the headers\n",
    "headers = {\n",
    "    \"Content-Type\": \"application/json\",\n",
    "    \"x-api-key\": JIGSAW_API_KEY,\n",
    "}\n",
    "\n",
    "# Define the body of the request\n",
    "body = {\n",
    "    \"file_store_key\": \"gettysburg.wav\",\n",
    "}\n",
    "\n",
    "# Make the POST request\n",
    "response = requests.post(endpoint,\n",
    "                         headers=headers,\n",
    "                         data=json.dumps(body)\n",
    "                        )\n",
    "\n",
    "# Parse the JSON response\n",
    "data = response.json()\n",
    "\n",
    "# Print the result\n",
    "print(data)"
   ]
  },
  {
   "cell_type": "code",
   "execution_count": null,
   "id": "dbfb6940-6713-4492-89e3-bf2b408777b3",
   "metadata": {},
   "outputs": [],
   "source": []
  }
 ],
 "metadata": {
  "kernelspec": {
   "display_name": "Python 3 (ipykernel)",
   "language": "python",
   "name": "python3"
  },
  "language_info": {
   "codemirror_mode": {
    "name": "ipython",
    "version": 3
   },
   "file_extension": ".py",
   "mimetype": "text/x-python",
   "name": "python",
   "nbconvert_exporter": "python",
   "pygments_lexer": "ipython3",
   "version": "3.12.3"
  }
 },
 "nbformat": 4,
 "nbformat_minor": 5
}
