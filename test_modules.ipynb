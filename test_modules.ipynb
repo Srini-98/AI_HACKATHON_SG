{
 "cells": [
  {
   "cell_type": "markdown",
   "id": "8c0bfd4e-348e-41dd-9999-6ccdfd55e38e",
   "metadata": {},
   "source": [
    "# import"
   ]
  },
  {
   "cell_type": "code",
   "execution_count": 1,
   "id": "1f059ca0-f24d-4c87-979f-d8e1b1ee10ed",
   "metadata": {},
   "outputs": [],
   "source": [
    "%load_ext autoreload\n",
    "%autoreload 2"
   ]
  },
  {
   "cell_type": "code",
   "execution_count": 2,
   "id": "94520407-5710-43ac-a56f-e45e830c4a49",
   "metadata": {
    "scrolled": true
   },
   "outputs": [],
   "source": [
    "import os\n",
    "import pdb\n",
    "import time\n",
    "from pprint import pprint\n",
    "import requests\n",
    "import json\n",
    "\n",
    "import pandas as pd\n",
    "from dotenv import load_dotenv, find_dotenv\n",
    "from tqdm import tqdm"
   ]
  },
  {
   "cell_type": "code",
   "execution_count": 3,
   "id": "1094a208-a9b1-49cd-9530-d49a36dbdbe7",
   "metadata": {},
   "outputs": [],
   "source": [
    "from IPython.display import Markdown, display"
   ]
  },
  {
   "cell_type": "code",
   "execution_count": 4,
   "id": "40948eb8-aaa9-4136-903d-5c69ee2f1b10",
   "metadata": {},
   "outputs": [],
   "source": [
    "# Model\n",
    "load_dotenv(find_dotenv()) # read local .env file\n",
    "assert os.environ[\"JIGSAW_API_KEY\"]  != ''\n",
    "assert os.environ[\"JIGSAW_PUBLIC_KEY\"]  != ''\n",
    "assert os.environ[\"GROQ_API_KEY\"]  != ''"
   ]
  },
  {
   "cell_type": "code",
   "execution_count": 5,
   "id": "18e6618f-7930-4e21-941d-392ff3823904",
   "metadata": {},
   "outputs": [],
   "source": [
    "from utils import RecruiterAgent"
   ]
  },
  {
   "attachments": {},
   "cell_type": "markdown",
   "id": "13204013-20fc-4a68-9993-b397ab361895",
   "metadata": {},
   "source": [
    "# Jigsaw"
   ]
  },
  {
   "cell_type": "code",
   "execution_count": 21,
   "id": "b92804b2-0d8e-4b78-ac01-d911fbe1e622",
   "metadata": {},
   "outputs": [],
   "source": [
    "JIGSAW_API_KEY = os.environ[\"JIGSAW_API_KEY\"]\n",
    "\n",
    "JIGSAW_PUBLIC_KEY = os.environ[\"JIGSAW_PUBLIC_KEY\"]"
   ]
  },
  {
   "cell_type": "markdown",
   "id": "4906fcfe-6a8f-4954-9152-a0eb63f6a8c5",
   "metadata": {
    "jp-MarkdownHeadingCollapsed": true
   },
   "source": [
    "## upload"
   ]
  },
  {
   "cell_type": "code",
   "execution_count": 6,
   "id": "19d52be5-e878-40f8-8daf-f42843bdbcb6",
   "metadata": {},
   "outputs": [
    {
     "name": "stdout",
     "output_type": "stream",
     "text": [
      "https://api.jigsawstack.com/v1/store/file?key=gettysburg.wav&overwrite=true\n"
     ]
    }
   ],
   "source": [
    "# Define the endpoint and the API key\n",
    "endpoint = \"https://api.jigsawstack.com/v1/store/file?key=gettysburg.wav&overwrite=true\"\n",
    "print(endpoint)\n",
    "\n",
    "# Define the headers\n",
    "headers = {\n",
    "    \"Content-Type\": \"audio/wav\",\n",
    "    \"x-api-key\": JIGSAW_API_KEY,\n",
    "}"
   ]
  },
  {
   "cell_type": "code",
   "execution_count": 7,
   "id": "5e8d4703-1a92-40a1-9229-1b6956e8ce09",
   "metadata": {},
   "outputs": [
    {
     "name": "stdout",
     "output_type": "stream",
     "text": [
      "{'success': True, 'url': 'https://api.jigsawstack.com/v1/store/file/gettysburg.wav', 'key': 'gettysburg.wav'}\n",
      "CPU times: user 45.2 ms, sys: 63.1 ms, total: 108 ms\n",
      "Wall time: 4.62 s\n"
     ]
    }
   ],
   "source": [
    "%%time\n",
    "# Define the body of the request\n",
    "body = open('data/gettysburg.wav', 'rb')\n",
    "\n",
    "# Make the POST request\n",
    "response = requests.post(endpoint,\n",
    "                         headers=headers,\n",
    "                         data=body\n",
    "                        )\n",
    "\n",
    "# Parse the JSON response\n",
    "data = response.json()\n",
    "\n",
    "# Print the result\n",
    "print(data)"
   ]
  },
  {
   "cell_type": "markdown",
   "id": "8d7c4563-6b2b-4fc8-9b72-30330ca97b28",
   "metadata": {},
   "source": [
    "## transcribe"
   ]
  },
  {
   "cell_type": "code",
   "execution_count": 22,
   "id": "a9d83569-043d-4067-9621-a8598a061c14",
   "metadata": {},
   "outputs": [],
   "source": [
    "# Define the endpoint and the API key\n",
    "endpoint = \"https://api.jigsawstack.com/v1/ai/transcribe\"\n",
    "\n",
    "# Define the headers\n",
    "headers = {\n",
    "    \"Content-Type\": \"application/json\",\n",
    "    \"x-api-key\": JIGSAW_API_KEY,\n",
    "}"
   ]
  },
  {
   "cell_type": "markdown",
   "id": "37c41517-46b5-4c5b-bc05-79dc1d59ceb1",
   "metadata": {
    "jp-MarkdownHeadingCollapsed": true
   },
   "source": [
    "### gettysburg.wav"
   ]
  },
  {
   "cell_type": "code",
   "execution_count": null,
   "id": "fb39e2ac-714c-41cd-b372-29901a88cc39",
   "metadata": {},
   "outputs": [],
   "source": [
    "# Define the body of the request\n",
    "body = {\n",
    "    \"file_store_key\": \"gettysburg.wav\",\n",
    "}"
   ]
  },
  {
   "cell_type": "code",
   "execution_count": 9,
   "id": "53e5251d-3c48-4f52-be97-d99776af16b1",
   "metadata": {},
   "outputs": [
    {
     "name": "stdout",
     "output_type": "stream",
     "text": [
      "https://api.jigsawstack.com/v1/ai/transcribe\n",
      "{'Content-Type': 'application/json', 'x-api-key': 'sk_acd188330c1f9f68e2bc78bd43d8166965a8dad216eb01cb95a0a338b962ef30639891eb20133044ef621920a9f2dde49c00b5f0eedb6977219e1843f0d7688d024AFgZoUHfu6FCv1Hjg4'}\n",
      "{'file_store_key': 'gettysburg.wav'}\n"
     ]
    }
   ],
   "source": [
    "print(endpoint)\n",
    "print(headers)\n",
    "print(body)"
   ]
  },
  {
   "cell_type": "code",
   "execution_count": 10,
   "id": "e618357b-77c7-44ef-af40-6af08bc21dce",
   "metadata": {},
   "outputs": [
    {
     "name": "stdout",
     "output_type": "stream",
     "text": [
      "{'success': True, 'text': ' four score and seven years ago our fathers brought forth on this continent a new nation conceived in liberty and dedicated to the proposition that all men are created equal now we are engaged in a great civil war testing whether that nation or any nation so conceived and so dedicated can long endure', 'chunks': [{'timestamp': [0, 17.58], 'text': ' four score and seven years ago our fathers brought forth on this continent a new nation conceived in liberty and dedicated to the proposition that all men are created equal now we are engaged in a great civil war testing whether that nation or any nation so conceived and so dedicated can long endure'}]}\n",
      "CPU times: user 11.4 ms, sys: 1.08 ms, total: 12.5 ms\n",
      "Wall time: 37.6 s\n"
     ]
    }
   ],
   "source": [
    "%%time\n",
    "# Make the POST request\n",
    "response = requests.post(endpoint,\n",
    "                         headers=headers,\n",
    "                         data=json.dumps(body)\n",
    "                        )\n",
    "\n",
    "# Parse the JSON response\n",
    "data = response.json()\n",
    "\n",
    "# Print the result\n",
    "print(data)"
   ]
  },
  {
   "cell_type": "code",
   "execution_count": 11,
   "id": "f0d66519-ec5d-4595-ba34-b29240d0ed92",
   "metadata": {},
   "outputs": [
    {
     "name": "stdout",
     "output_type": "stream",
     "text": [
      "{'success': True, 'text': ' four score and seven years ago our fathers brought forth on this continent a new nation conceived in liberty and dedicated to the proposition that all men are created equal now we are engaged in a great civil war testing whether that nation or any nation so conceived and so dedicated can long endure', 'chunks': [{'timestamp': [0, 17.58], 'text': ' four score and seven years ago our fathers brought forth on this continent a new nation conceived in liberty and dedicated to the proposition that all men are created equal now we are engaged in a great civil war testing whether that nation or any nation so conceived and so dedicated can long endure'}]}\n",
      "CPU times: user 6.02 ms, sys: 18.1 ms, total: 24.1 ms\n",
      "Wall time: 6.99 s\n"
     ]
    }
   ],
   "source": [
    "%%time\n",
    "# Define the endpoint and the API key\n",
    "endpoint = \"https://api.jigsawstack.com/v1/ai/transcribe\"\n",
    "\n",
    "# Define the headers\n",
    "headers = {\n",
    "    \"Content-Type\": \"application/json\",\n",
    "    \"x-api-key\": JIGSAW_API_KEY,\n",
    "}\n",
    "\n",
    "# Define the body of the request\n",
    "body = {\n",
    "    \"file_store_key\": \"gettysburg.wav\",\n",
    "}\n",
    "\n",
    "# Make the POST request\n",
    "response = requests.post(endpoint,\n",
    "                         headers=headers,\n",
    "                         data=json.dumps(body)\n",
    "                        )\n",
    "\n",
    "# Parse the JSON response\n",
    "data = response.json()\n",
    "\n",
    "# Print the result\n",
    "print(data)"
   ]
  },
  {
   "cell_type": "markdown",
   "id": "d611da39-547b-4f40-9426-cbe88841c464",
   "metadata": {},
   "source": [
    "### Interview.wav"
   ]
  },
  {
   "cell_type": "code",
   "execution_count": 18,
   "id": "38d3aaa4-d398-45db-ac1c-e682f35e3250",
   "metadata": {},
   "outputs": [],
   "source": [
    "# Define the body of the request\n",
    "body = {\n",
    "    \"file_store_key\": \"Interview.wav\",\n",
    "}"
   ]
  },
  {
   "cell_type": "code",
   "execution_count": 23,
   "id": "7cf8126d-27a7-4d7e-9cdf-2e4fd3b8b428",
   "metadata": {},
   "outputs": [
    {
     "name": "stdout",
     "output_type": "stream",
     "text": [
      "https://api.jigsawstack.com/v1/ai/transcribe\n",
      "{'Content-Type': 'application/json', 'x-api-key': 'sk_acd188330c1f9f68e2bc78bd43d8166965a8dad216eb01cb95a0a338b962ef30639891eb20133044ef621920a9f2dde49c00b5f0eedb6977219e1843f0d7688d024AFgZoUHfu6FCv1Hjg4'}\n",
      "{'file_store_key': 'Interview.wav'}\n"
     ]
    }
   ],
   "source": [
    "print(endpoint)\n",
    "print(headers)\n",
    "print(body)"
   ]
  },
  {
   "cell_type": "code",
   "execution_count": 24,
   "id": "a1127ee6-ca8b-48ae-aaee-83b5cbd7ac0b",
   "metadata": {
    "scrolled": true
   },
   "outputs": [
    {
     "name": "stdout",
     "output_type": "stream",
     "text": [
      "{'success': True, 'text': \" Hai, nama saya Leonard dan saya adalah pengemudi untuk syarikat talent yang baik. Hai Leonard, nama saya John Doe. Saya mahu mengambil beberapa soalan melalui anda. Apa jenis anda? Saya adalah lelaki dan saya berusia 26 tahun. Apa bahasa anda? Saya bercakap bahasa Inggeris dan Mandarin. Di mana anda tinggal? Saya berpindah ke Singapura 4 tahun lepas negara anda tinggal? Saya berpindah ke Singapura 4 tahun lepas dan sekarang saya tinggal di Singapura. Okey, terima kasih. Adakah anda memerlukan pembantu visa? Ya, saya memerlukan. Saya sedang dalam perjalanan kerja, jadi, bahkan dalam masa depan, saya akan memerlukan. Okey, terima kasih. Apa perjalanan anda sekarang? Perjalanan saya sekarang adalah satu bulan Kenapa anda mencari kerja baru? Saya rasa saya ingin mempunyai peluang untuk mengembangkan kerjaya dan mempelajari kerja saya sekarang Bagus, bagus. Boleh awak beritahu lebih detail apa yang anda cari dalam kerjaya seterusnya? What kind of a very point in detail? What are you looking out for in the next role? Yeah, so I would actually like to work in a in a team which has very good engineering culture where there's a lot of feedback loops from like senior engineers as well about programming and stuff like and maintaining a very good work culture and And there's an environment where like I get to learn new technological stacks as well. Interesting. Okay, so currently do you have any other interviews right now? Yeah, so as you know I am actually interviewing with two other companies, Tech Solutions and DataCorp. Okay, so what are you currently drawing now for your salary? Oh yeah, so mine is approximately $80,000 per year without the bonus and one year month-on-month bonus based on performance. Okay, what is your expected salary? Yeah, I would actually, based on the current industry trends, I would like my current salary to be around 100,000 Singapura dolar setahun Okey, sudah Jadi, untuk mengetahui beberapa cek latar belakang, Manul, apa nombor identiti anda? Ya, jadi nombor saya adalah G1234567N Okey, adakah anda akan terbuka kepada model konsultasi? Ya, pasti Okey, sekarang berapa banyak pekerjaan anda? Saya mempunyai 18 hari pekerjaan dan 30 hari pekerjaan penyakit. Adakah anda pernah bekerja untuk syarikat ini? Tidak, saya tidak pernah. Ini adalah pertama kali saya mempunyai syarikat. Saya rasa anda adalah pasangan yang bagus, jadi saya ingin menyarankan anda. Ada apa-apa komen akhir? Saya sangat motivasi dan saya rasa saya akan menjadi pasangan yang sempurna untuk syarikat ini kerana saya telah melihat beberapa pasukan anda dan kerja yang mereka lakukan. Jadi saya pasti tertarik dalam menjelajahi untuk peranan ini ok terima kasih banyak, saya menghargai masa anda saya akan memberitahu anda jika saya mempunyai apa-apa pengetahuan untuk anda ya, terima kasih dan saya menantikan mendengar daripada anda\", 'chunks': [{'timestamp': [0, 4], 'text': ' Hai, nama saya Leonard dan saya adalah pengemudi untuk syarikat talent yang baik.'}, {'timestamp': [4, 7], 'text': ' Hai Leonard, nama saya John Doe.'}, {'timestamp': [7, 11], 'text': ' Saya mahu mengambil beberapa soalan melalui anda.'}, {'timestamp': [11, 13], 'text': ' Apa jenis anda?'}, {'timestamp': [13, 16], 'text': ' Saya adalah lelaki dan saya berusia 26 tahun.'}, {'timestamp': [16, 18], 'text': ' Apa bahasa anda?'}, {'timestamp': [18, 21], 'text': ' Saya bercakap bahasa Inggeris dan Mandarin.'}, {'timestamp': [23, 25], 'text': ' Di mana anda tinggal? Saya berpindah ke Singapura 4 tahun lepas negara anda tinggal?'}, {'timestamp': [25, 29], 'text': ' Saya berpindah ke Singapura 4 tahun lepas dan sekarang saya tinggal di Singapura.'}, {'timestamp': [29, 31], 'text': ' Okey, terima kasih.'}, {'timestamp': [31, 33], 'text': ' Adakah anda memerlukan pembantu visa?'}, {'timestamp': [33, 35], 'text': ' Ya, saya memerlukan.'}, {'timestamp': [35, 37], 'text': ' Saya sedang dalam perjalanan kerja, jadi,'}, {'timestamp': [37, 39], 'text': ' bahkan dalam masa depan, saya akan memerlukan.'}, {'timestamp': [39, 41], 'text': ' Okey, terima kasih.'}, {'timestamp': [41, 43], 'text': ' Apa perjalanan anda sekarang?'}, {'timestamp': [43, 46], 'text': ' Perjalanan saya sekarang adalah satu bulan'}, {'timestamp': [46, 49], 'text': ' Kenapa anda mencari kerja baru?'}, {'timestamp': [49, 57], 'text': ' Saya rasa saya ingin mempunyai peluang untuk mengembangkan kerjaya dan mempelajari kerja saya sekarang'}, {'timestamp': [57, 65.14], 'text': ' Bagus, bagus. Boleh awak beritahu lebih detail apa yang anda cari dalam kerjaya seterusnya? What kind of a very point in detail? What are you looking out for in the next role?'}, {'timestamp': [65.52, 73], 'text': \" Yeah, so I would actually like to work in a in a team which has very good engineering culture where there's a lot of\"}, {'timestamp': [73.66, 77], 'text': ' feedback loops from like senior engineers as well about'}, {'timestamp': [78.24, 80.72], 'text': ' programming and stuff like and maintaining a very good'}, {'timestamp': [81.72, 83.72], 'text': ' work culture and'}, {'timestamp': [84.24, 88.6], 'text': \" And there's an environment where like I get to learn new technological stacks\"}, {'timestamp': [88.6, 89.6], 'text': ' as well.'}, {'timestamp': [89.6, 90.6], 'text': ' Interesting.'}, {'timestamp': [90.6, 94.24], 'text': ' Okay, so currently do you have any other interviews right now?'}, {'timestamp': [94.24, 100], 'text': ' Yeah, so as you know I am actually interviewing with two other companies, Tech Solutions and'}, {'timestamp': [100, 101], 'text': ' DataCorp.'}, {'timestamp': [101, 105], 'text': ' Okay, so what are you currently drawing now for your salary?'}, {'timestamp': [105, 112.5], 'text': ' Oh yeah, so mine is approximately $80,000 per year without the bonus and one year'}, {'timestamp': [112.5, 117.24], 'text': ' month-on-month bonus based on performance. Okay, what is your expected'}, {'timestamp': [117.24, 122.44], 'text': ' salary? Yeah, I would actually, based on the current industry trends, I would like'}, {'timestamp': [122.44, 126], 'text': ' my current salary to be around 100,000 Singapura dolar setahun'}, {'timestamp': [126, 127], 'text': ' Okey, sudah'}, {'timestamp': [127, 134], 'text': ' Jadi, untuk mengetahui beberapa cek latar belakang, Manul, apa nombor identiti anda?'}, {'timestamp': [134, 139], 'text': ' Ya, jadi nombor saya adalah G1234567N'}, {'timestamp': [139, 142], 'text': ' Okey, adakah anda akan terbuka kepada model konsultasi?'}, {'timestamp': [142, 144], 'text': ' Ya, pasti'}, {'timestamp': [144, 148], 'text': ' Okey, sekarang berapa banyak pekerjaan anda?'}, {'timestamp': [148, 155], 'text': ' Saya mempunyai 18 hari pekerjaan dan 30 hari pekerjaan penyakit.'}, {'timestamp': [155, 159], 'text': ' Adakah anda pernah bekerja untuk syarikat ini?'}, {'timestamp': [159, 162], 'text': ' Tidak, saya tidak pernah. Ini adalah pertama kali saya mempunyai syarikat.'}, {'timestamp': [162, 168], 'text': ' Saya rasa anda adalah pasangan yang bagus, jadi saya ingin menyarankan anda.'}, {'timestamp': [170, 173], 'text': ' Ada apa-apa komen akhir?'}, {'timestamp': [174, 183], 'text': ' Saya sangat motivasi dan saya rasa saya akan menjadi pasangan yang sempurna untuk syarikat ini kerana saya telah melihat beberapa pasukan anda dan kerja yang mereka lakukan.'}, {'timestamp': [183, 187], 'text': ' Jadi saya pasti tertarik dalam menjelajahi untuk peranan ini'}, {'timestamp': [187, 191], 'text': ' ok terima kasih banyak, saya menghargai masa anda'}, {'timestamp': [191, 194], 'text': ' saya akan memberitahu anda jika saya mempunyai apa-apa pengetahuan untuk anda'}, {'timestamp': [194, 198], 'text': ' ya, terima kasih dan saya menantikan mendengar daripada anda'}]}\n",
      "CPU times: user 67.1 ms, sys: 0 ns, total: 67.1 ms\n",
      "Wall time: 37.4 s\n"
     ]
    }
   ],
   "source": [
    "%%time\n",
    "# Make the POST request\n",
    "response = requests.post(endpoint,\n",
    "                         headers=headers,\n",
    "                         data=json.dumps(body)\n",
    "                        )\n",
    "\n",
    "# Parse the JSON response\n",
    "data = response.json()\n",
    "\n",
    "# Print the result\n",
    "print(data)"
   ]
  },
  {
   "cell_type": "code",
   "execution_count": 27,
   "id": "2f373d4a-5601-45b5-9794-88a99cf4ba9d",
   "metadata": {},
   "outputs": [],
   "source": [
    "# Define the body of the request\n",
    "body_en = {\n",
    "    \"file_store_key\": \"Interview.wav\",\n",
    "    \"language\": \"en\",\n",
    "    \"translate\":True,\n",
    "    \"by_speaker\":True,\n",
    "}"
   ]
  },
  {
   "cell_type": "code",
   "execution_count": 28,
   "id": "6d7090d6-8bf8-47f2-ade8-bcec85362149",
   "metadata": {
    "scrolled": true
   },
   "outputs": [
    {
     "name": "stdout",
     "output_type": "stream",
     "text": [
      "{'success': True, 'text': \" Hi, my name is Leonard and I'm a recruiter for Good Talent Company. Hi Leonard, my name is John Doe. Hi, so I just want to run some questions through you. So may I know what's your gender? Yeah, I'm a male and I'm 26. What languages do you speak? I speak English and Mandarin. And which country are you residing in? I moved to Singapore 4 years back and I'm you residing in uh actually i moved to singapore four years back and i'm currently residing in singapore yeah okay thanks for that uh do you require a visa sponsorship uh yes yeah i do need it yeah i'm currently on an employment pass so yeah in even in the future i would need one yeah okay thanks for that uh what is your current notice period What is your current notice period? My current notice period is one month. Why are you looking out for a new job? I feel like I would like to have some better career growth opportunities and a bit more of learning as well in my current role. Good, that's great. Can you elaborate more in detail what are you looking out for in the next role? Yeah, so I would actually like to work in a in a team which has very good engineering culture where there's a lot of feedback loops from like senior engineers as well about programming and stuff like and maintaining a very good work culture and And there's an environment where like I get to learn new technological stacks as well. Interesting. Okay, so currently do you have any other interviews right now? Yeah, so as you know I am actually interviewing with two other companies, Tech Solutions and DataCorp. Okay, so what are you currently drawing now for your salary? Oh yeah, so mine is approximately $80,000 per year without the bonus and one year month-on-month bonus based on performance. Okay, what is your expected salary? Yeah, I would actually, based on the current industry trends, I would like my current salary to be around 100,000 Singapore dollars a year. Okay, sure. So, just to fill out some of the background check, may I know what's your identity number? Yeah, so my number is G1234567N. Okay. Will you be open to a consulting model? Yeah, definitely. Yeah. Okay. okay currently how many leave do you have oh yeah so I have 18 days of holiday leave and 30 days of sick leave yeah have you worked for this company good startup before no I haven't there's the first time I'm in fact up like okay okay so yeah I would like to I think that you're a good match so I would like to recommend that for you. So any final comments? Actually I'm highly motivated and I feel like I would be a perfect fit for this company because I've looked at some of your teams and the kind of work that they do. So I'm definitely interested in interviewing for this particular role. Okay thank you very much. I appreciate your time. I'll let you know if I have any updates for you. Yeah sure thank you and I look forward to hearing from you.\", 'chunks': [{'timestamp': [0, 4], 'text': \" Hi, my name is Leonard and I'm a recruiter for Good Talent Company.\"}, {'timestamp': [4, 7], 'text': ' Hi Leonard, my name is John Doe.'}, {'timestamp': [7, 11], 'text': ' Hi, so I just want to run some questions through you.'}, {'timestamp': [11, 13], 'text': \" So may I know what's your gender?\"}, {'timestamp': [13, 16], 'text': \" Yeah, I'm a male and I'm 26.\"}, {'timestamp': [16, 18], 'text': ' What languages do you speak?'}, {'timestamp': [18, 21], 'text': ' I speak English and Mandarin.'}, {'timestamp': [21, 27.28], 'text': \" And which country are you residing in? I moved to Singapore 4 years back and I'm you residing in uh actually i moved to singapore four years back\"}, {'timestamp': [27.28, 31.92], 'text': \" and i'm currently residing in singapore yeah okay thanks for that uh do you require a visa\"}, {'timestamp': [31.92, 36.96], 'text': \" sponsorship uh yes yeah i do need it yeah i'm currently on an employment pass so yeah in even\"}, {'timestamp': [36.96, 42.48], 'text': ' in the future i would need one yeah okay thanks for that uh what is your current notice period'}, {'timestamp': [43, 46], 'text': ' What is your current notice period? My current notice period is one month.'}, {'timestamp': [46, 49], 'text': ' Why are you looking out for a new job?'}, {'timestamp': [49, 57], 'text': ' I feel like I would like to have some better career growth opportunities and a bit more of learning as well in my current role.'}, {'timestamp': [57, 65.14], 'text': \" Good, that's great. Can you elaborate more in detail what are you looking out for in the next role?\"}, {'timestamp': [65.52, 73], 'text': \" Yeah, so I would actually like to work in a in a team which has very good engineering culture where there's a lot of\"}, {'timestamp': [73.66, 77], 'text': ' feedback loops from like senior engineers as well about'}, {'timestamp': [78.24, 80.72], 'text': ' programming and stuff like and maintaining a very good'}, {'timestamp': [81.72, 83.72], 'text': ' work culture and'}, {'timestamp': [84.24, 88.6], 'text': \" And there's an environment where like I get to learn new technological stacks\"}, {'timestamp': [88.6, 89.6], 'text': ' as well.'}, {'timestamp': [89.6, 90.6], 'text': ' Interesting.'}, {'timestamp': [90.6, 94.24], 'text': ' Okay, so currently do you have any other interviews right now?'}, {'timestamp': [94.24, 100], 'text': ' Yeah, so as you know I am actually interviewing with two other companies, Tech Solutions and'}, {'timestamp': [100, 101], 'text': ' DataCorp.'}, {'timestamp': [101, 105], 'text': ' Okay, so what are you currently drawing now for your salary?'}, {'timestamp': [105, 112.5], 'text': ' Oh yeah, so mine is approximately $80,000 per year without the bonus and one year'}, {'timestamp': [112.5, 117.24], 'text': ' month-on-month bonus based on performance. Okay, what is your expected'}, {'timestamp': [117.24, 122.44], 'text': ' salary? Yeah, I would actually, based on the current industry trends, I would like'}, {'timestamp': [122.44, 125.02], 'text': ' my current salary to be around 100,000'}, {'timestamp': [125.02, 126.38], 'text': ' Singapore dollars a year.'}, {'timestamp': [126.38, 127.38], 'text': ' Okay, sure.'}, {'timestamp': [127.38, 134.24], 'text': \" So, just to fill out some of the background check, may I know what's your identity number?\"}, {'timestamp': [134.24, 138.88], 'text': ' Yeah, so my number is G1234567N.'}, {'timestamp': [138.88, 139.88], 'text': ' Okay.'}, {'timestamp': [139.88, 142.5], 'text': ' Will you be open to a consulting model?'}, {'timestamp': [142.5, 144], 'text': ' Yeah, definitely.'}, {'timestamp': [144, 146.54], 'text': ' Yeah. Okay. okay currently how many'}, {'timestamp': [146.54, 154.04], 'text': ' leave do you have oh yeah so I have 18 days of holiday leave and 30 days of'}, {'timestamp': [154.04, 160.4], 'text': \" sick leave yeah have you worked for this company good startup before no I haven't\"}, {'timestamp': [160.4, 164.12], 'text': \" there's the first time I'm in fact up like okay okay so yeah I would like to I\"}, {'timestamp': [164.12, 169.98], 'text': \" think that you're a good match so I would like to recommend that for you.\"}, {'timestamp': [169.98, 172.88], 'text': ' So any final comments?'}, {'timestamp': [172.88, 179.62], 'text': \" Actually I'm highly motivated and I feel like I would be a perfect fit for this company\"}, {'timestamp': [179.62, 183.42], 'text': \" because I've looked at some of your teams and the kind of work that they do.\"}, {'timestamp': [183.42, 187.5], 'text': \" So I'm definitely interested in interviewing for this particular role.\"}, {'timestamp': [187.5, 188.82], 'text': ' Okay thank you very much.'}, {'timestamp': [188.82, 190.82], 'text': ' I appreciate your time.'}, {'timestamp': [190.82, 194.52], 'text': \" I'll let you know if I have any updates for you.\"}, {'timestamp': [194.52, 196.82], 'text': ' Yeah sure thank you and I look forward to hearing from you.'}], 'speakers': [{'speaker': 'SPEAKER_00', 'timestamp': [0, 4], 'text': \" Hi, my name is Leonard and I'm a recruiter for Good Talent Company.\"}, {'speaker': 'SPEAKER_00', 'timestamp': [4, 7], 'text': ' Hi Leonard, my name is John Doe.'}, {'speaker': 'SPEAKER_00', 'timestamp': [7, 11], 'text': ' Hi, so I just want to run some questions through you.'}, {'speaker': 'SPEAKER_00', 'timestamp': [11, 13], 'text': \" So may I know what's your gender?\"}, {'speaker': 'SPEAKER_01', 'timestamp': [13, 16], 'text': \" Yeah, I'm a male and I'm 26.\"}, {'speaker': 'SPEAKER_00', 'timestamp': [16, 18], 'text': ' What languages do you speak?'}, {'speaker': 'SPEAKER_01', 'timestamp': [18, 21], 'text': ' I speak English and Mandarin.'}, {'speaker': 'SPEAKER_00', 'timestamp': [21, 27.28], 'text': \" And which country are you residing in? I moved to Singapore 4 years back and I'm you residing in uh actually i moved to singapore four years back\"}, {'speaker': 'SPEAKER_01', 'timestamp': [27.28, 31.92], 'text': \" and i'm currently residing in singapore yeah okay thanks for that uh do you require a visa\"}, {'speaker': 'SPEAKER_00', 'timestamp': [31.92, 36.96], 'text': \" sponsorship uh yes yeah i do need it yeah i'm currently on an employment pass so yeah in even\"}, {'speaker': 'SPEAKER_01', 'timestamp': [36.96, 42.48], 'text': ' in the future i would need one yeah okay thanks for that uh what is your current notice period'}, {'speaker': 'SPEAKER_00', 'timestamp': [43, 46], 'text': ' What is your current notice period? My current notice period is one month.'}, {'speaker': 'SPEAKER_01', 'timestamp': [46, 49], 'text': ' Why are you looking out for a new job?'}, {'speaker': 'SPEAKER_00', 'timestamp': [49, 57], 'text': ' I feel like I would like to have some better career growth opportunities and a bit more of learning as well in my current role.'}, {'speaker': 'SPEAKER_01', 'timestamp': [57, 65.14], 'text': \" Good, that's great. Can you elaborate more in detail what are you looking out for in the next role?\"}, {'speaker': 'SPEAKER_00', 'timestamp': [65.52, 73], 'text': \" Yeah, so I would actually like to work in a in a team which has very good engineering culture where there's a lot of\"}, {'speaker': 'SPEAKER_01', 'timestamp': [73.66, 77], 'text': ' feedback loops from like senior engineers as well about'}, {'speaker': 'SPEAKER_00', 'timestamp': [78.24, 80.72], 'text': ' programming and stuff like and maintaining a very good'}, {'speaker': 'SPEAKER_01', 'timestamp': [81.72, 83.72], 'text': ' work culture and'}, {'speaker': 'SPEAKER_01', 'timestamp': [84.24, 88.6], 'text': \" And there's an environment where like I get to learn new technological stacks\"}, {'speaker': 'SPEAKER_01', 'timestamp': [88.6, 89.6], 'text': ' as well.'}, {'speaker': 'SPEAKER_00', 'timestamp': [89.6, 90.6], 'text': ' Interesting.'}, {'speaker': 'SPEAKER_00', 'timestamp': [90.6, 94.24], 'text': ' Okay, so currently do you have any other interviews right now?'}, {'speaker': 'SPEAKER_01', 'timestamp': [94.24, 100], 'text': ' Yeah, so as you know I am actually interviewing with two other companies, Tech Solutions and'}, {'speaker': 'SPEAKER_01', 'timestamp': [100, 101], 'text': ' DataCorp.'}, {'speaker': 'SPEAKER_00', 'timestamp': [101, 105], 'text': ' Okay, so what are you currently drawing now for your salary?'}, {'speaker': 'SPEAKER_01', 'timestamp': [105, 112.5], 'text': ' Oh yeah, so mine is approximately $80,000 per year without the bonus and one year'}, {'speaker': 'SPEAKER_00', 'timestamp': [112.5, 117.24], 'text': ' month-on-month bonus based on performance. Okay, what is your expected'}, {'speaker': 'SPEAKER_01', 'timestamp': [117.24, 122.44], 'text': ' salary? Yeah, I would actually, based on the current industry trends, I would like'}, {'speaker': 'SPEAKER_01', 'timestamp': [122.44, 125.02], 'text': ' my current salary to be around 100,000'}, {'speaker': 'SPEAKER_01', 'timestamp': [125.02, 126.38], 'text': ' Singapore dollars a year.'}, {'speaker': 'SPEAKER_00', 'timestamp': [126.38, 127.38], 'text': ' Okay, sure.'}, {'speaker': 'SPEAKER_00', 'timestamp': [127.38, 134.24], 'text': \" So, just to fill out some of the background check, may I know what's your identity number?\"}, {'speaker': 'SPEAKER_01', 'timestamp': [134.24, 138.88], 'text': ' Yeah, so my number is G1234567N.'}, {'speaker': 'SPEAKER_00', 'timestamp': [138.88, 139.88], 'text': ' Okay.'}, {'speaker': 'SPEAKER_00', 'timestamp': [139.88, 142.5], 'text': ' Will you be open to a consulting model?'}, {'speaker': 'SPEAKER_01', 'timestamp': [142.5, 144], 'text': ' Yeah, definitely.'}, {'speaker': 'SPEAKER_00', 'timestamp': [144, 146.54], 'text': ' Yeah. Okay. okay currently how many'}, {'speaker': 'SPEAKER_01', 'timestamp': [146.54, 154.04], 'text': ' leave do you have oh yeah so I have 18 days of holiday leave and 30 days of'}, {'speaker': 'SPEAKER_00', 'timestamp': [154.04, 160.4], 'text': \" sick leave yeah have you worked for this company good startup before no I haven't\"}, {'speaker': 'SPEAKER_00', 'timestamp': [160.4, 164.12], 'text': \" there's the first time I'm in fact up like okay okay so yeah I would like to I\"}, {'speaker': 'SPEAKER_00', 'timestamp': [164.12, 169.98], 'text': \" think that you're a good match so I would like to recommend that for you.\"}, {'speaker': 'SPEAKER_00', 'timestamp': [169.98, 172.88], 'text': ' So any final comments?'}, {'speaker': 'SPEAKER_01', 'timestamp': [172.88, 179.62], 'text': \" Actually I'm highly motivated and I feel like I would be a perfect fit for this company\"}, {'speaker': 'SPEAKER_01', 'timestamp': [179.62, 183.42], 'text': \" because I've looked at some of your teams and the kind of work that they do.\"}, {'speaker': 'SPEAKER_00', 'timestamp': [183.42, 187.5], 'text': \" So I'm definitely interested in interviewing for this particular role.\"}, {'speaker': 'SPEAKER_00', 'timestamp': [187.5, 188.82], 'text': ' Okay thank you very much.'}, {'speaker': 'SPEAKER_00', 'timestamp': [188.82, 190.82], 'text': ' I appreciate your time.'}, {'speaker': 'SPEAKER_00', 'timestamp': [190.82, 194.52], 'text': \" I'll let you know if I have any updates for you.\"}, {'speaker': 'SPEAKER_01', 'timestamp': [194.52, 196.82], 'text': ' Yeah sure thank you and I look forward to hearing from you.'}]}\n",
      "CPU times: user 7.34 ms, sys: 3.16 ms, total: 10.5 ms\n",
      "Wall time: 42 s\n"
     ]
    }
   ],
   "source": [
    "%%time\n",
    "# Make the POST request\n",
    "response_en = requests.post(endpoint,\n",
    "                         headers=headers,\n",
    "                         data=json.dumps(body_en)\n",
    "                        )\n",
    "\n",
    "# Parse the JSON response\n",
    "data_en = response_en.json()\n",
    "\n",
    "# Print the result\n",
    "print(data_en)"
   ]
  },
  {
   "cell_type": "code",
   "execution_count": 29,
   "id": "612283cf-4d1f-4791-9ddb-948b3df71a1d",
   "metadata": {},
   "outputs": [
    {
     "data": {
      "text/plain": [
       "['success', 'text', 'chunks', 'speakers']"
      ]
     },
     "execution_count": 29,
     "metadata": {},
     "output_type": "execute_result"
    }
   ],
   "source": [
    "list(data_en)"
   ]
  },
  {
   "cell_type": "code",
   "execution_count": 35,
   "id": "4c404309-ede9-42bd-91b5-7f11cf430cfe",
   "metadata": {
    "scrolled": true
   },
   "outputs": [
    {
     "data": {
      "text/plain": [
       "\" Hi, my name is Leonard and I'm a recruiter for Good Talent Company. Hi Leonard, my name is John Doe. Hi, so I just want to run some questions through you. So may I know what's your gender? Yeah, I'm a male and I'm 26. What languages do you speak? I speak English and Mandarin. And which country are you residing in? I moved to Singapore 4 years back and I'm you residing in uh actually i moved to singapore four years back and i'm currently residing in singapore yeah okay thanks for that uh do you require a visa sponsorship uh yes yeah i do need it yeah i'm currently on an employment pass so yeah in even in the future i would need one yeah okay thanks for that uh what is your current notice period What is your current notice period? My current notice period is one month. Why are you looking out for a new job? I feel like I would like to have some better career growth opportunities and a bit more of learning as well in my current role. Good, that's great. Can you elaborate more in detail what are you looking out for in the next role? Yeah, so I would actually like to work in a in a team which has very good engineering culture where there's a lot of feedback loops from like senior engineers as well about programming and stuff like and maintaining a very good work culture and And there's an environment where like I get to learn new technological stacks as well. Interesting. Okay, so currently do you have any other interviews right now? Yeah, so as you know I am actually interviewing with two other companies, Tech Solutions and DataCorp. Okay, so what are you currently drawing now for your salary? Oh yeah, so mine is approximately $80,000 per year without the bonus and one year month-on-month bonus based on performance. Okay, what is your expected salary? Yeah, I would actually, based on the current industry trends, I would like my current salary to be around 100,000 Singapore dollars a year. Okay, sure. So, just to fill out some of the background check, may I know what's your identity number? Yeah, so my number is G1234567N. Okay. Will you be open to a consulting model? Yeah, definitely. Yeah. Okay. okay currently how many leave do you have oh yeah so I have 18 days of holiday leave and 30 days of sick leave yeah have you worked for this company good startup before no I haven't there's the first time I'm in fact up like okay okay so yeah I would like to I think that you're a good match so I would like to recommend that for you. So any final comments? Actually I'm highly motivated and I feel like I would be a perfect fit for this company because I've looked at some of your teams and the kind of work that they do. So I'm definitely interested in interviewing for this particular role. Okay thank you very much. I appreciate your time. I'll let you know if I have any updates for you. Yeah sure thank you and I look forward to hearing from you.\""
      ]
     },
     "execution_count": 35,
     "metadata": {},
     "output_type": "execute_result"
    }
   ],
   "source": [
    "data_en['text']"
   ]
  },
  {
   "cell_type": "code",
   "execution_count": 30,
   "id": "567dfe05-84d1-449c-9d7b-14ad7f57df30",
   "metadata": {
    "scrolled": true
   },
   "outputs": [
    {
     "data": {
      "text/plain": [
       "[{'speaker': 'SPEAKER_00',\n",
       "  'timestamp': [0, 4],\n",
       "  'text': \" Hi, my name is Leonard and I'm a recruiter for Good Talent Company.\"},\n",
       " {'speaker': 'SPEAKER_00',\n",
       "  'timestamp': [4, 7],\n",
       "  'text': ' Hi Leonard, my name is John Doe.'},\n",
       " {'speaker': 'SPEAKER_00',\n",
       "  'timestamp': [7, 11],\n",
       "  'text': ' Hi, so I just want to run some questions through you.'},\n",
       " {'speaker': 'SPEAKER_00',\n",
       "  'timestamp': [11, 13],\n",
       "  'text': \" So may I know what's your gender?\"},\n",
       " {'speaker': 'SPEAKER_01',\n",
       "  'timestamp': [13, 16],\n",
       "  'text': \" Yeah, I'm a male and I'm 26.\"},\n",
       " {'speaker': 'SPEAKER_00',\n",
       "  'timestamp': [16, 18],\n",
       "  'text': ' What languages do you speak?'},\n",
       " {'speaker': 'SPEAKER_01',\n",
       "  'timestamp': [18, 21],\n",
       "  'text': ' I speak English and Mandarin.'},\n",
       " {'speaker': 'SPEAKER_00',\n",
       "  'timestamp': [21, 27.28],\n",
       "  'text': \" And which country are you residing in? I moved to Singapore 4 years back and I'm you residing in uh actually i moved to singapore four years back\"},\n",
       " {'speaker': 'SPEAKER_01',\n",
       "  'timestamp': [27.28, 31.92],\n",
       "  'text': \" and i'm currently residing in singapore yeah okay thanks for that uh do you require a visa\"},\n",
       " {'speaker': 'SPEAKER_00',\n",
       "  'timestamp': [31.92, 36.96],\n",
       "  'text': \" sponsorship uh yes yeah i do need it yeah i'm currently on an employment pass so yeah in even\"},\n",
       " {'speaker': 'SPEAKER_01',\n",
       "  'timestamp': [36.96, 42.48],\n",
       "  'text': ' in the future i would need one yeah okay thanks for that uh what is your current notice period'},\n",
       " {'speaker': 'SPEAKER_00',\n",
       "  'timestamp': [43, 46],\n",
       "  'text': ' What is your current notice period? My current notice period is one month.'},\n",
       " {'speaker': 'SPEAKER_01',\n",
       "  'timestamp': [46, 49],\n",
       "  'text': ' Why are you looking out for a new job?'},\n",
       " {'speaker': 'SPEAKER_00',\n",
       "  'timestamp': [49, 57],\n",
       "  'text': ' I feel like I would like to have some better career growth opportunities and a bit more of learning as well in my current role.'},\n",
       " {'speaker': 'SPEAKER_01',\n",
       "  'timestamp': [57, 65.14],\n",
       "  'text': \" Good, that's great. Can you elaborate more in detail what are you looking out for in the next role?\"},\n",
       " {'speaker': 'SPEAKER_00',\n",
       "  'timestamp': [65.52, 73],\n",
       "  'text': \" Yeah, so I would actually like to work in a in a team which has very good engineering culture where there's a lot of\"},\n",
       " {'speaker': 'SPEAKER_01',\n",
       "  'timestamp': [73.66, 77],\n",
       "  'text': ' feedback loops from like senior engineers as well about'},\n",
       " {'speaker': 'SPEAKER_00',\n",
       "  'timestamp': [78.24, 80.72],\n",
       "  'text': ' programming and stuff like and maintaining a very good'},\n",
       " {'speaker': 'SPEAKER_01',\n",
       "  'timestamp': [81.72, 83.72],\n",
       "  'text': ' work culture and'},\n",
       " {'speaker': 'SPEAKER_01',\n",
       "  'timestamp': [84.24, 88.6],\n",
       "  'text': \" And there's an environment where like I get to learn new technological stacks\"},\n",
       " {'speaker': 'SPEAKER_01', 'timestamp': [88.6, 89.6], 'text': ' as well.'},\n",
       " {'speaker': 'SPEAKER_00', 'timestamp': [89.6, 90.6], 'text': ' Interesting.'},\n",
       " {'speaker': 'SPEAKER_00',\n",
       "  'timestamp': [90.6, 94.24],\n",
       "  'text': ' Okay, so currently do you have any other interviews right now?'},\n",
       " {'speaker': 'SPEAKER_01',\n",
       "  'timestamp': [94.24, 100],\n",
       "  'text': ' Yeah, so as you know I am actually interviewing with two other companies, Tech Solutions and'},\n",
       " {'speaker': 'SPEAKER_01', 'timestamp': [100, 101], 'text': ' DataCorp.'},\n",
       " {'speaker': 'SPEAKER_00',\n",
       "  'timestamp': [101, 105],\n",
       "  'text': ' Okay, so what are you currently drawing now for your salary?'},\n",
       " {'speaker': 'SPEAKER_01',\n",
       "  'timestamp': [105, 112.5],\n",
       "  'text': ' Oh yeah, so mine is approximately $80,000 per year without the bonus and one year'},\n",
       " {'speaker': 'SPEAKER_00',\n",
       "  'timestamp': [112.5, 117.24],\n",
       "  'text': ' month-on-month bonus based on performance. Okay, what is your expected'},\n",
       " {'speaker': 'SPEAKER_01',\n",
       "  'timestamp': [117.24, 122.44],\n",
       "  'text': ' salary? Yeah, I would actually, based on the current industry trends, I would like'},\n",
       " {'speaker': 'SPEAKER_01',\n",
       "  'timestamp': [122.44, 125.02],\n",
       "  'text': ' my current salary to be around 100,000'},\n",
       " {'speaker': 'SPEAKER_01',\n",
       "  'timestamp': [125.02, 126.38],\n",
       "  'text': ' Singapore dollars a year.'},\n",
       " {'speaker': 'SPEAKER_00',\n",
       "  'timestamp': [126.38, 127.38],\n",
       "  'text': ' Okay, sure.'},\n",
       " {'speaker': 'SPEAKER_00',\n",
       "  'timestamp': [127.38, 134.24],\n",
       "  'text': \" So, just to fill out some of the background check, may I know what's your identity number?\"},\n",
       " {'speaker': 'SPEAKER_01',\n",
       "  'timestamp': [134.24, 138.88],\n",
       "  'text': ' Yeah, so my number is G1234567N.'},\n",
       " {'speaker': 'SPEAKER_00', 'timestamp': [138.88, 139.88], 'text': ' Okay.'},\n",
       " {'speaker': 'SPEAKER_00',\n",
       "  'timestamp': [139.88, 142.5],\n",
       "  'text': ' Will you be open to a consulting model?'},\n",
       " {'speaker': 'SPEAKER_01',\n",
       "  'timestamp': [142.5, 144],\n",
       "  'text': ' Yeah, definitely.'},\n",
       " {'speaker': 'SPEAKER_00',\n",
       "  'timestamp': [144, 146.54],\n",
       "  'text': ' Yeah. Okay. okay currently how many'},\n",
       " {'speaker': 'SPEAKER_01',\n",
       "  'timestamp': [146.54, 154.04],\n",
       "  'text': ' leave do you have oh yeah so I have 18 days of holiday leave and 30 days of'},\n",
       " {'speaker': 'SPEAKER_00',\n",
       "  'timestamp': [154.04, 160.4],\n",
       "  'text': \" sick leave yeah have you worked for this company good startup before no I haven't\"},\n",
       " {'speaker': 'SPEAKER_00',\n",
       "  'timestamp': [160.4, 164.12],\n",
       "  'text': \" there's the first time I'm in fact up like okay okay so yeah I would like to I\"},\n",
       " {'speaker': 'SPEAKER_00',\n",
       "  'timestamp': [164.12, 169.98],\n",
       "  'text': \" think that you're a good match so I would like to recommend that for you.\"},\n",
       " {'speaker': 'SPEAKER_00',\n",
       "  'timestamp': [169.98, 172.88],\n",
       "  'text': ' So any final comments?'},\n",
       " {'speaker': 'SPEAKER_01',\n",
       "  'timestamp': [172.88, 179.62],\n",
       "  'text': \" Actually I'm highly motivated and I feel like I would be a perfect fit for this company\"},\n",
       " {'speaker': 'SPEAKER_01',\n",
       "  'timestamp': [179.62, 183.42],\n",
       "  'text': \" because I've looked at some of your teams and the kind of work that they do.\"},\n",
       " {'speaker': 'SPEAKER_00',\n",
       "  'timestamp': [183.42, 187.5],\n",
       "  'text': \" So I'm definitely interested in interviewing for this particular role.\"},\n",
       " {'speaker': 'SPEAKER_00',\n",
       "  'timestamp': [187.5, 188.82],\n",
       "  'text': ' Okay thank you very much.'},\n",
       " {'speaker': 'SPEAKER_00',\n",
       "  'timestamp': [188.82, 190.82],\n",
       "  'text': ' I appreciate your time.'},\n",
       " {'speaker': 'SPEAKER_00',\n",
       "  'timestamp': [190.82, 194.52],\n",
       "  'text': \" I'll let you know if I have any updates for you.\"},\n",
       " {'speaker': 'SPEAKER_01',\n",
       "  'timestamp': [194.52, 196.82],\n",
       "  'text': ' Yeah sure thank you and I look forward to hearing from you.'}]"
      ]
     },
     "execution_count": 30,
     "metadata": {},
     "output_type": "execute_result"
    }
   ],
   "source": [
    "data_en['speakers']"
   ]
  },
  {
   "cell_type": "code",
   "execution_count": 31,
   "id": "f18edff5-d9d5-4d0c-bdf1-e964138dbc5f",
   "metadata": {},
   "outputs": [],
   "source": [
    "from collections import defaultdict\n",
    "speaker_content = defaultdict(list)\n",
    "for speaker_dict in data_en['speakers']:\n",
    "    speaker = speaker_dict['speaker']\n",
    "    text = speaker_dict['text']\n",
    "    speaker_content[speaker].append(text)\n",
    "speaker_content = dict(speaker_content)"
   ]
  },
  {
   "cell_type": "code",
   "execution_count": 32,
   "id": "8e9c5d24-7752-46c9-a80d-7ee444d66dc9",
   "metadata": {},
   "outputs": [
    {
     "data": {
      "text/plain": [
       "['SPEAKER_00', 'SPEAKER_01']"
      ]
     },
     "execution_count": 32,
     "metadata": {},
     "output_type": "execute_result"
    }
   ],
   "source": [
    "list(speaker_content)"
   ]
  },
  {
   "cell_type": "code",
   "execution_count": 33,
   "id": "1c5e3034-de7e-4322-aa76-babdd5bf8864",
   "metadata": {},
   "outputs": [
    {
     "data": {
      "text/plain": [
       "[\" Hi, my name is Leonard and I'm a recruiter for Good Talent Company.\",\n",
       " ' Hi Leonard, my name is John Doe.',\n",
       " ' Hi, so I just want to run some questions through you.',\n",
       " \" So may I know what's your gender?\",\n",
       " ' What languages do you speak?',\n",
       " \" And which country are you residing in? I moved to Singapore 4 years back and I'm you residing in uh actually i moved to singapore four years back\",\n",
       " \" sponsorship uh yes yeah i do need it yeah i'm currently on an employment pass so yeah in even\",\n",
       " ' What is your current notice period? My current notice period is one month.',\n",
       " ' I feel like I would like to have some better career growth opportunities and a bit more of learning as well in my current role.',\n",
       " \" Yeah, so I would actually like to work in a in a team which has very good engineering culture where there's a lot of\",\n",
       " ' programming and stuff like and maintaining a very good',\n",
       " ' Interesting.',\n",
       " ' Okay, so currently do you have any other interviews right now?',\n",
       " ' Okay, so what are you currently drawing now for your salary?',\n",
       " ' month-on-month bonus based on performance. Okay, what is your expected',\n",
       " ' Okay, sure.',\n",
       " \" So, just to fill out some of the background check, may I know what's your identity number?\",\n",
       " ' Okay.',\n",
       " ' Will you be open to a consulting model?',\n",
       " ' Yeah. Okay. okay currently how many',\n",
       " \" sick leave yeah have you worked for this company good startup before no I haven't\",\n",
       " \" there's the first time I'm in fact up like okay okay so yeah I would like to I\",\n",
       " \" think that you're a good match so I would like to recommend that for you.\",\n",
       " ' So any final comments?',\n",
       " \" So I'm definitely interested in interviewing for this particular role.\",\n",
       " ' Okay thank you very much.',\n",
       " ' I appreciate your time.',\n",
       " \" I'll let you know if I have any updates for you.\"]"
      ]
     },
     "execution_count": 33,
     "metadata": {},
     "output_type": "execute_result"
    }
   ],
   "source": [
    "speaker_content['SPEAKER_00']"
   ]
  },
  {
   "cell_type": "code",
   "execution_count": 34,
   "id": "0778fe4e-eee4-4c01-8c85-2c9de03bc2b2",
   "metadata": {},
   "outputs": [
    {
     "data": {
      "text/plain": [
       "[\" Yeah, I'm a male and I'm 26.\",\n",
       " ' I speak English and Mandarin.',\n",
       " \" and i'm currently residing in singapore yeah okay thanks for that uh do you require a visa\",\n",
       " ' in the future i would need one yeah okay thanks for that uh what is your current notice period',\n",
       " ' Why are you looking out for a new job?',\n",
       " \" Good, that's great. Can you elaborate more in detail what are you looking out for in the next role?\",\n",
       " ' feedback loops from like senior engineers as well about',\n",
       " ' work culture and',\n",
       " \" And there's an environment where like I get to learn new technological stacks\",\n",
       " ' as well.',\n",
       " ' Yeah, so as you know I am actually interviewing with two other companies, Tech Solutions and',\n",
       " ' DataCorp.',\n",
       " ' Oh yeah, so mine is approximately $80,000 per year without the bonus and one year',\n",
       " ' salary? Yeah, I would actually, based on the current industry trends, I would like',\n",
       " ' my current salary to be around 100,000',\n",
       " ' Singapore dollars a year.',\n",
       " ' Yeah, so my number is G1234567N.',\n",
       " ' Yeah, definitely.',\n",
       " ' leave do you have oh yeah so I have 18 days of holiday leave and 30 days of',\n",
       " \" Actually I'm highly motivated and I feel like I would be a perfect fit for this company\",\n",
       " \" because I've looked at some of your teams and the kind of work that they do.\",\n",
       " ' Yeah sure thank you and I look forward to hearing from you.']"
      ]
     },
     "execution_count": 34,
     "metadata": {},
     "output_type": "execute_result"
    }
   ],
   "source": [
    "speaker_content['SPEAKER_01']"
   ]
  },
  {
   "cell_type": "markdown",
   "id": "9436a123-3774-406f-bc16-fd8d6e4c5ec7",
   "metadata": {},
   "source": [
    "# Groq (resume parser)"
   ]
  },
  {
   "cell_type": "code",
   "execution_count": 6,
   "id": "9c7ceffe-11ad-4a0b-aa59-73e5636b1796",
   "metadata": {},
   "outputs": [],
   "source": [
    "os.environ[\"GROQ_KEY\"] = os.environ[\"GROQ_API_KEY\"]"
   ]
  },
  {
   "cell_type": "code",
   "execution_count": 7,
   "id": "7cb2480f-b923-40e4-b5ca-05dfcd857681",
   "metadata": {},
   "outputs": [],
   "source": [
    "import PyPDF2"
   ]
  },
  {
   "cell_type": "code",
   "execution_count": null,
   "id": "608d0f6a-5d99-4ed7-9cbd-b61c169005a9",
   "metadata": {},
   "outputs": [],
   "source": [
    "\n",
    "#get the response from the groq api for LLMs\n",
    "client = Groq(\n",
    "    api_key=os.environ.get(\"GROQ_KEY\"),\n",
    ")\n",
    "\n",
    "table_name = os.environ.get(\"SUPA_BASE_TABLE\")\n",
    "\n",
    "schema = {\n",
    "    \"type\":\"object\",\n",
    "    \"properties\": {\n",
    "        \"name\": {\"type\": \"string\",\n",
    "                 \"description\": \"The name of the candidate\"\n",
    "                 },\n",
    "        \"contact_information\": {\"type\": \"string\" ,\n",
    "                                \"description\": \"The contact information of the candidate. This should include the email address and phone number of the candidate. If the information is not present in the resume, just mention that the information is not present.\"\n",
    "                                },\n",
    "        \"summary\": {\"type\": \"string\",\n",
    "                    \"description\": \"The summary of the candidate. This should include a brief overview of the candidate's background and experience. If the information is not present in the resume, just mention that the information is not present.\"\n",
    "                    },\n",
    "        \"work_experience\": {\"type\": \"string\" , \n",
    "                            \"description\": \"The work experience of the candidate\"\n",
    "                            },\n",
    "        \"education\": {\"type\": \"string\",\n",
    "                      \"description\": \"The education of the candidate\"\n",
    "                      },\n",
    "        \"skills\": {\"type\": \"string\",\n",
    "                   \"skills\": \"The skills of the candidate\"\n",
    "                   },\n",
    "        \"certifications\": {\"type\": \"string\",\n",
    "                           \"description\": \"The certifications of the candidate\"\n",
    "                           },\n",
    "                           \n",
    "    },\n",
    "}\n",
    "chat_completion = client.chat.completions.create(\n",
    "    messages=[\n",
    "        {\n",
    "            \"role\": \"system\",\n",
    "            \"content\": f\"\"\"You are a recruiter and you have received a resume from a candidate. You need to split the resume into the following sections:\\n\n",
    "            1. Name\\n\n",
    "            2. Contact Information\\n\n",
    "            3. Summary\\n\n",
    "            4. Work Experience\\n\n",
    "            5. Education\\n\n",
    "            6. Skills\\n\n",
    "            7. Certifications\\n\n",
    "\n",
    "            If the information is not present in the resume, just mention that the information is not present.\n",
    "\n",
    "            Return a JSON object with the following schema: \n",
    "            {schema}\n",
    "            .\n",
    "            \"\"\",\n",
    "        },\n",
    "        {\n",
    "            \"role\": \"user\",\n",
    "            \"content\": f\"The Resume is: \\n\\n{resume} \",\n",
    "        }\n",
    "    ],\n",
    "    model=\"llama3-70b-8192\",\n",
    "    response_format={\"type\": \"json_object\"}\n",
    ")\n",
    "\n",
    "output = chat_completion.choices[0].message.content\n",
    "\n",
    "#process output as dict \n",
    "output_dict = eval(output)\n",
    "\n",
    "\n",
    "name = output_dict['name']\n",
    "contact_information = output_dict['contact_information']\n",
    "summary = output_dict['summary']\n",
    "work_experience = output_dict['work_experience']\n",
    "education = output_dict['education']\n",
    "skills = output_dict['skills']\n",
    "certifications = output_dict['certifications']\n",
    "\n",
    "st = \"\"\n",
    "st = st + \"Name: \" + name + \"\\n\\n\"\n",
    "st = st + \"Contact Information: \" + contact_information + \"\\n\\n\"\n",
    "st = st + \"Summary: \" + summary + \"\\n\\n\"\n",
    "st = st + \"Work Experience: \" + work_experience + \"\\n\\n\"\n",
    "st = st + \"Education: \" + education + \"\\n\\n\"\n",
    "st = st + \"Skills: \" + skills + \"\\n\\n\"\n",
    "st = st + \"Certifications: \" + certifications + \"\\n\\n\""
   ]
  },
  {
   "cell_type": "code",
   "execution_count": 31,
   "id": "2002d86f-6479-4f7f-8bfb-1c836e4cccfb",
   "metadata": {},
   "outputs": [],
   "source": [
    "from splitResume import get_response"
   ]
  },
  {
   "cell_type": "code",
   "execution_count": 33,
   "id": "5fbe372b-0af2-42ce-9ee1-235cce0bde33",
   "metadata": {},
   "outputs": [
    {
     "ename": "AttributeError",
     "evalue": "module 'supabase' has no attribute 'table'",
     "output_type": "error",
     "traceback": [
      "\u001b[0;31m---------------------------------------------------------------------------\u001b[0m",
      "\u001b[0;31mAttributeError\u001b[0m                            Traceback (most recent call last)",
      "Cell \u001b[0;32mIn[33], line 9\u001b[0m\n\u001b[1;32m      6\u001b[0m     current_text \u001b[38;5;241m=\u001b[39m pageObj\u001b[38;5;241m.\u001b[39mextract_text()\n\u001b[1;32m      7\u001b[0m     resume_text \u001b[38;5;241m+\u001b[39m\u001b[38;5;241m=\u001b[39m \u001b[38;5;124mf\u001b[39m\u001b[38;5;124m\"\u001b[39m\u001b[38;5;132;01m{\u001b[39;00mcurrent_text\u001b[38;5;132;01m}\u001b[39;00m\u001b[38;5;130;01m\\n\u001b[39;00m\u001b[38;5;124m\"\u001b[39m\n\u001b[0;32m----> 9\u001b[0m response \u001b[38;5;241m=\u001b[39m \u001b[43mget_response\u001b[49m\u001b[43m(\u001b[49m\u001b[43mresume_text\u001b[49m\u001b[43m,\u001b[49m\u001b[43m \u001b[49m\u001b[38;5;124;43m'\u001b[39;49m\u001b[38;5;124;43mJohnDoeResume\u001b[39;49m\u001b[38;5;124;43m'\u001b[39;49m\u001b[43m)\u001b[49m\n",
      "File \u001b[0;32m~/Codes/LLM/DiariserAgent/AI_HACKATHON_SG/splitResume.py:124\u001b[0m, in \u001b[0;36mget_response\u001b[0;34m(resume, file_name)\u001b[0m\n\u001b[1;32m    116\u001b[0m response \u001b[38;5;241m=\u001b[39m {\n\u001b[1;32m    117\u001b[0m     \u001b[38;5;124m\"\u001b[39m\u001b[38;5;124mid\u001b[39m\u001b[38;5;124m\"\u001b[39m: \u001b[38;5;241m1\u001b[39m , \n\u001b[1;32m    118\u001b[0m     \u001b[38;5;124m\"\u001b[39m\u001b[38;5;124mresume_key\u001b[39m\u001b[38;5;124m\"\u001b[39m: file_name \u001b[38;5;241m+\u001b[39m \u001b[38;5;124m\"\u001b[39m\u001b[38;5;124m_\u001b[39m\u001b[38;5;124m\"\u001b[39m \u001b[38;5;241m+\u001b[39m new_name,\n\u001b[1;32m    119\u001b[0m     \u001b[38;5;124m\"\u001b[39m\u001b[38;5;124mname\u001b[39m\u001b[38;5;124m\"\u001b[39m: name,\n\u001b[1;32m    120\u001b[0m     \u001b[38;5;124m\"\u001b[39m\u001b[38;5;124mresume_content\u001b[39m\u001b[38;5;124m\"\u001b[39m: st,\n\u001b[1;32m    121\u001b[0m }\n\u001b[1;32m    123\u001b[0m \u001b[38;5;66;03m#delete the previous record with the same id\u001b[39;00m\n\u001b[0;32m--> 124\u001b[0m data, count \u001b[38;5;241m=\u001b[39m \u001b[43msupabase\u001b[49m\u001b[38;5;241;43m.\u001b[39;49m\u001b[43mtable\u001b[49m(table_name)\u001b[38;5;241m.\u001b[39mdelete()\u001b[38;5;241m.\u001b[39meq(\u001b[38;5;124m'\u001b[39m\u001b[38;5;124mid\u001b[39m\u001b[38;5;124m'\u001b[39m, \u001b[38;5;241m1\u001b[39m)\u001b[38;5;241m.\u001b[39mexecute()\n\u001b[1;32m    126\u001b[0m \u001b[38;5;66;03m#insert the new record\u001b[39;00m\n\u001b[1;32m    127\u001b[0m data, count \u001b[38;5;241m=\u001b[39m supabase_client\u001b[38;5;241m.\u001b[39mtable(table_name)\u001b[38;5;241m.\u001b[39minsert(response)\u001b[38;5;241m.\u001b[39mexecute()\n",
      "\u001b[0;31mAttributeError\u001b[0m: module 'supabase' has no attribute 'table'"
     ]
    }
   ],
   "source": [
    "uploaded_file = \"./data/JohnDoeResume.pdf\"\n",
    "\n",
    "pdfReader = PyPDF2.PdfReader(uploaded_file)\n",
    "resume_text = \"\\n\"\n",
    "for pageObj in pdfReader.pages:\n",
    "    current_text = pageObj.extract_text()\n",
    "    resume_text += f\"{current_text}\\n\"\n",
    "\n",
    "response = get_response(resume_text, 'JohnDoeResume')"
   ]
  },
  {
   "cell_type": "code",
   "execution_count": 18,
   "id": "859e0031-bba7-4e21-b7c9-48c92f3b1df5",
   "metadata": {
    "scrolled": true
   },
   "outputs": [
    {
     "data": {
      "text/markdown": [
       "Here is the resume split into different sections:\n",
       "\n",
       "**Contact Information**\n",
       "\n",
       "* Name: John Doe\n",
       "* Address: Simei Street 1, (520133)\n",
       "* Email: [John_Doe@hotmail.com](mailto:John_Doe@hotmail.com)\n",
       "* LinkedIn: https://www.linkedin.com/in/john-doe-840510214\n",
       "\n",
       "**Summary of Qualifications**\n",
       "\n",
       "* Experienced in designing solutions for environmental problems\n",
       "* Proficient in various modeling and drafting software\n",
       "* Efficiently manages projects and collaborates with teams\n",
       "\n",
       "**Education**\n",
       "\n",
       "* Institution: Southeastern Louisiana University, Hammond, LA\n",
       "* Degree: Bachelor of Science in Engineering Technology, Concentration: Electrical Energy Engineering\n",
       "* Graduation Date: May 2024\n",
       "* Cumulative GPA: 3.75/4.00\n",
       "* Relevant Coursework:\n",
       "\t+ Introduction to Programming\n",
       "\t+ Electrical Circuits\n",
       "\t+ Electromagnetics\n",
       "\t+ Programming for Technologists\n",
       "\n",
       "**Technical Proficiencies**\n",
       "\n",
       "* Modeling Programs:\n",
       "\t+ ALGOR\n",
       "\t+ eQUEST\n",
       "\t+ EnergyPro (LEED project with a VRF system)\n",
       "* Drafting Software:\n",
       "\t+ AutoCAD\n",
       "\t+ AutoCAD LT\n",
       "\n",
       "**Experience**\n",
       "\n",
       "* American Pollution Control Corp., Environmental Engineering Intern, Chalmette, LA (June 2023 - August 2023)\n",
       "\t+ Inspected sites and performed detailed monitoring of industrial pollution control measures\n",
       "\t+ Served on a committee dedicated to designing and implementing a new wastewater treatment system\n",
       "\t+ Investigated environmental projects onsite with a team of 3 engineers\n",
       "* Cargill, Engineer Intern, Breaux Bridge, LA (May 2022 - August 2022)\n",
       "\t+ Researched building code items, materials, and similar building plans for 2 large commercial projects in New Orleans\n",
       "\t+ Reviewed building plans with engineering and design teams to evaluate for ADA compliance\n",
       "\t+ Collaborated with a team of 7 to research and identify suitable locations to install groundwater dams\n",
       "\n",
       "**Project Experience**\n",
       "\n",
       "* Group Project, Senior Design Course, Hammond, LA (January - March 2023)\n",
       "\t+ Collaborated with a 5-person team to develop an action plan for addressing societal, environmental, regulatory, and economic constraints related to a local wastewater project\n",
       "\t+ Researched client needs and developed a solutions-based layout to best suit functionality requirements\n",
       "\t+ Served as project leader by organizing team meetings, tracking progress, and providing a forum for discussion\n",
       "\n",
       "**Memberships and Associations**\n",
       "\n",
       "* The National Association of Environmental Professionals, Baton Rouge, LA (January 2020 - Present)\n",
       "* Louisiana Association of Environmental Professionals (LAEP), Baton Rouge, LA (August 2020 - Present)\n",
       "\n",
       "**Campus Involvement**\n",
       "\n",
       "* Co-Captain, SLU Tennis Team, Hammond, LA (August 2020 - May 2023)\n",
       "* Member, Beta Gamma Sigma, SLU, Hammond, LA (December 2019 - December 2020)"
      ],
      "text/plain": [
       "<IPython.core.display.Markdown object>"
      ]
     },
     "metadata": {},
     "output_type": "display_data"
    }
   ],
   "source": [
    "display(Markdown(response))"
   ]
  },
  {
   "cell_type": "markdown",
   "id": "eaa151a2-12dd-4a4e-82bd-f18a7942f7e4",
   "metadata": {},
   "source": [
    "# Groq (convert transcription to key points)"
   ]
  },
  {
   "cell_type": "code",
   "execution_count": 8,
   "id": "767fb133-458d-4aa3-8e1e-82c92ae029de",
   "metadata": {},
   "outputs": [],
   "source": [
    "os.environ[\"GROQ_KEY\"] = os.environ[\"GROQ_API_KEY\"]"
   ]
  },
  {
   "cell_type": "code",
   "execution_count": 10,
   "id": "d3a56449-cd39-4d1b-9683-2e12dfc9e0c5",
   "metadata": {},
   "outputs": [],
   "source": [
    "from groq import Groq"
   ]
  },
  {
   "cell_type": "code",
   "execution_count": null,
   "id": "fbfdf85e-e597-4f95-b5ac-61ffce1df9f1",
   "metadata": {},
   "outputs": [],
   "source": [
    "#get the response from the groq api for LLMs\n",
    "client = Groq(\n",
    "    api_key=os.environ.get(\"GROQ_KEY\"),\n",
    ")\n",
    "\n",
    "speech_transcribed = \"\"\"\n",
    "**Recruiter (Leonard):** Hi, my name is Leonard and I'm a recruiter for GoodTalent Company.\n",
    "\n",
    "**Candidate (John Doe):** Hello, my name is John Doe.\n",
    "\n",
    "**Recruiter (Leonard):** - Gender: Male or Female?\n",
    "\n",
    "**Candidate (John Doe):** I am a Male.\n",
    "\n",
    "**Recruiter (Leonard):** - Languages you speak?\n",
    "\n",
    "**Candidate (John Doe):** I speak English and Mandarin.\n",
    "\n",
    "**Recruiter (Leonard):** - Which country are you residing in?\n",
    "\n",
    "**Candidate (John Doe):** I am currently residing in Singapore.\n",
    "\n",
    "**Recruiter (Leonard):** - What type of work pass do you have?\n",
    "\n",
    "**Candidate (John Doe):** I have an Employment Pass.\n",
    "\n",
    "**Recruiter (Leonard):** - What's your nationality?\n",
    "\n",
    "**Candidate (John Doe):** My nationality is Indian.\n",
    "\n",
    "**Recruiter (Leonard):** - What is your current notice period?\n",
    "\n",
    "**Candidate (John Doe):** My current notice period is one month.\n",
    "\n",
    "**Recruiter (Leonard):** - Why are you looking for a new job?\n",
    "\n",
    "**Candidate (John Doe):** I am looking for a new job because I seek better career growth opportunities.\n",
    "\n",
    "**Recruiter (Leonard):** - What are you looking for in your next job/company?\n",
    "\n",
    "**Candidate (John Doe):** In my next job, I am seeking a role that offers professional development and a collaborative work environment.\n",
    "\n",
    "**Recruiter (Leonard):** - Do you have any other interviews in the pipeline?\n",
    "\n",
    "**Candidate (John Doe):** Yes, I am also interviewing with TechSolutions and DataCorp.\n",
    "\n",
    "**Recruiter (Leonard):** - What is your current salary?\n",
    "\n",
    "**Candidate (John Doe):** My current salary is SGD 80,000 per year.\n",
    "\n",
    "**Recruiter (Leonard):** - What is your expected salary?\n",
    "\n",
    "**Candidate (John Doe):** The salary I am seeking is SGD 100,000 per year.\n",
    "\n",
    "**Recruiter (Leonard):** - Can you provide your identity number?\n",
    "\n",
    "**Candidate (John Doe):** My FIN number is G1234567N.\n",
    "\n",
    "**Recruiter (Leonard):** - Are you open to a consulting model?\n",
    "\n",
    "**Candidate (John Doe):** I am open to a consulting arrangement.\n",
    "\n",
    "**Recruiter (Leonard):** - How many annual leave days do you currently have?\n",
    "\n",
    "**Candidate (John Doe):** I currently have 18 annual leave days.\n",
    "\n",
    "**Recruiter (Leonard):** - Have you worked for GoodStartUp before?\n",
    "\n",
    "**Candidate (John Doe):** No.\n",
    "\n",
    "**Recruiter (Leonard):** - Any general notes you would like to add?\n",
    "\n",
    "**Candidate (John Doe):** I am highly motivated and excited about new challenges.\n",
    "\n",
    "**Recruiter (Leonard):** Thank you for providing all the relevant details, John. I appreciate your time, and I will review the information carefully. Please let me know if you have any other questions or if there is anything else I can assist you with.\n",
    "\n",
    "**Candidate (John Doe):** Thank you, Leonard. I look forward to hearing from you.\n",
    "\"\"\"\n",
    "\n",
    "chat_completion = client.chat.completions.create(\n",
    "    messages=[\n",
    "        {\n",
    "            \"role\": \"system\",\n",
    "            \"content\": f\"\"\"\n",
    "You are an AI assistant that specializes in summarizing conversations and extracting key information.\n",
    "You will be provided with the transcript of an audio conversation between a job candidate and a recruiter or hiring manager.\n",
    "Your task is to analyze the transcript, summarize the main points, and extract specific pieces of information about the candidate.\n",
    "            \"\"\",\n",
    "        },\n",
    "        {\n",
    "            \"role\": \"user\",\n",
    "            \"content\": f\"\"\"\n",
    "Here is the transcript:\n",
    "\n",
    "<transcript>\n",
    "{speech_transcribed}\n",
    "</transcript>\n",
    "\n",
    "Based on the content of the transcript, please extract the following information about the job candidate:\n",
    "\n",
    "- Name: The candidate's name \n",
    "- Gender: The candidate's gender (either 'male' or 'female' only)\n",
    "- Languages: A list of the languages the candidate speaks\n",
    "- Country: The country the candidate is currently residing in\n",
    "- Work Pass Type: The type of work pass the candidate has (e.g. visa, permanent residency)  \n",
    "- Nationality: The candidate's nationality\n",
    "- Notice Period: The amount of notice the candidate needs to give their current employer\n",
    "- Reason for looking out: Why the candidate is seeking a new job\n",
    "- Looking for in next move: What the candidate is seeking in their next job/company\n",
    "- Other Interviews in pipeline: Other companies the candidate is interviewing with\n",
    "- Current Salary: The candidate's current salary \n",
    "- Expected Salary: The salary the candidate is seeking\n",
    "- Identity: The candidate's NRIC, FIN, or Passport number (for permanent roles only)\n",
    "- Open to Consulting model: Whether the candidate is open to a consulting arrangement (for contract roles only)\n",
    "- Current Annual Leave days: The candidate's current number of annual leave days (for contract roles only)\n",
    "- Worked for Client Before or no: Whether the candidate has worked for the client company before (for contract roles only)\n",
    "- Hiring for other roles?: Whether the candidate is also hiring for other roles at their current company\n",
    "- General Notes: Any other relevant information about the candidate\n",
    "\n",
    "If any of the above information is not available in the transcript, set the value to null.\n",
    "\n",
    "Please provide your output in valid JSON format, for example like this:\n",
    "\n",
    "<json>\n",
    "{{\n",
    "  \"Name\": \"John Smith\",\n",
    "  \"Gender\": \"male\",\n",
    "  \"Languages\": [\"English\", \"Spanish\"],\n",
    "  \"Country\": \"United States\",\n",
    "  \"Work Pass Type\": null,\n",
    "  \"Nationality\": \"American\",\n",
    "  \"Notice Period\": \"2 weeks\",\n",
    "  \"Reason for looking out\": \"Seeking new challenges and growth opportunities\",\n",
    "  \"Looking for in next move\": \"A dynamic, fast-paced work environment\",\n",
    "  \"Other Interviews in pipeline\": [\"ABC Corp\", \"XYZ Inc\"],\n",
    "  \"Current Salary\": null, \n",
    "  \"Expected Salary\": \"$80,000\",\n",
    "  \"Identity\": null,\n",
    "  \"Open to Consulting model\": null,\n",
    "  \"Current Annual Leave days\": null,\n",
    "  \"Worked for Client Before or no\": null,\n",
    "  \"Hiring for other roles?\": \"Yes, also hiring for sales and marketing roles\",\n",
    "  \"General Notes\": \"Very enthusiastic and driven candidate\"\n",
    "}}\n",
    "</json>\n",
    "\n",
    "Carefully review the transcript and extract as much of the requested information as possible.\n",
    "Remember, if a piece of information is not available, set the value to null.\n",
    "Provide your final output in valid JSON format.\n",
    "            \"\"\",\n",
    "        }\n",
    "    ],\n",
    "    model=\"llama3-70b-8192\",\n",
    "    response_format={\"type\": \"json_object\"}\n",
    ")\n",
    "\n",
    "output = chat_completion.choices[0].message.content\n",
    "\n",
    "#process output as dict \n",
    "output_dict = eval(output)\n",
    "\n",
    "\n",
    "output\n",
    "\n",
    "output_dict = json.loads(output)"
   ]
  },
  {
   "cell_type": "code",
   "execution_count": 17,
   "id": "389fd525-3c8a-442f-be3e-587379db3398",
   "metadata": {},
   "outputs": [
    {
     "name": "stdout",
     "output_type": "stream",
     "text": [
      "{'Country': 'Singapore',\n",
      " 'Current Annual Leave days': 18,\n",
      " 'Current Salary': 'SGD 80,000 per year',\n",
      " 'Expected Salary': 'SGD 100,000 per year',\n",
      " 'Gender': 'Male',\n",
      " 'General Notes': 'highly motivated and excited about new challenges',\n",
      " 'Hiring for other roles?': None,\n",
      " 'Identity': 'G1234567N',\n",
      " 'Languages': ['English', 'Mandarin'],\n",
      " 'Looking for in next move': 'professional development and a collaborative '\n",
      "                             'work environment',\n",
      " 'Name': 'John Doe',\n",
      " 'Nationality': 'Indian',\n",
      " 'Notice Period': 'one month',\n",
      " 'Open to Consulting model': True,\n",
      " 'Other Interviews in pipeline': ['TechSolutions', 'DataCorp'],\n",
      " 'Reason for looking out': 'better career growth opportunities',\n",
      " 'Work Pass Type': 'Employment Pass',\n",
      " 'Worked for Client Before or no': False}\n"
     ]
    }
   ],
   "source": [
    "pprint(output_dict)"
   ]
  },
  {
   "cell_type": "markdown",
   "id": "595d9c0d-01bb-4a4e-a0af-80519555fc9e",
   "metadata": {
    "jp-MarkdownHeadingCollapsed": true
   },
   "source": [
    "# Graph"
   ]
  },
  {
   "cell_type": "code",
   "execution_count": 38,
   "id": "918be63d-7e65-4eb0-a5d9-cb78f28ae56d",
   "metadata": {},
   "outputs": [],
   "source": [
    "from typing_extensions import TypedDict\n",
    "from langgraph.graph import END, StateGraph\n",
    "from PIL import Image\n",
    "import io"
   ]
  },
  {
   "cell_type": "code",
   "execution_count": 39,
   "id": "803bb589-d98e-4406-b77e-139b84bf2a0a",
   "metadata": {},
   "outputs": [],
   "source": [
    "class GraphState(TypedDict):\n",
    "    \"\"\"\n",
    "    Represents the state of our graph.\n",
    "\n",
    "    Attributes:\n",
    "        question: question about the candidate\n",
    "        attachment: {'audio': path, 'resume': path}\n",
    "        answer: Agent's answer to question\n",
    "    \"\"\"\n",
    "    question : str\n",
    "    attachment : dict\n",
    "    answer : str\n",
    "    # aggregate: Annotated[list, operator.add]"
   ]
  },
  {
   "cell_type": "code",
   "execution_count": 46,
   "id": "7bad888a-7a9e-4e09-b25c-0b644c434094",
   "metadata": {},
   "outputs": [
    {
     "name": "stdout",
     "output_type": "stream",
     "text": [
      "\n",
      "--- setup_agent\n",
      "done\n"
     ]
    }
   ],
   "source": [
    "def _node_get_intent(state):\n",
    "    state\n",
    "    return state\n",
    "def _node_resume_parser(state):\n",
    "    resume_path = state['resume']\n",
    "    print(f'Uploaded resume from {resume_path}')\n",
    "    return state\n",
    "def _node_speech_parser(state):\n",
    "    speech_path = state['speech']\n",
    "    print(f'Uploaded speech from {speech_path}')\n",
    "    return state\n",
    "\n",
    "def _edge_xxx1():\n",
    "    return \"upload_resume\"\n",
    "    return \"upload_speech\"\n",
    "    return \"get_summary\"\n",
    "    return \"ask_question\"\n",
    "\n",
    "def _edge_xxx2():\n",
    "    return \"resume_parser\"\n",
    "    return \"speech_parser\"\n",
    "    return \"end\"\n",
    "\n",
    "def setup_agent():\n",
    "    print('\\n--- setup_agent')\n",
    "    # langgraph.graph\n",
    "    workflow = StateGraph(GraphState)\n",
    "\n",
    "    ## Define the nodes\n",
    "    workflow.add_node(\"NODE_get_intent\", _node_get_intent)\n",
    "    workflow.add_node(\"NODE_resume_parser\", _node_resume_parser)\n",
    "    workflow.add_node(\"NODE_speech_parser\", _node_speech_parser)\n",
    "    workflow.add_node(\"NODE_store_data\", _node_xxx)\n",
    "    workflow.add_node(\"NODE_summary\", _node_xxx)\n",
    "    workflow.add_node(\"NODE_qna\", _node_xxx)\n",
    "\n",
    "    ## Add Edges\n",
    "    workflow.set_entry_point(\"NODE_intent\")\n",
    "    workflow.add_conditional_edges(\n",
    "        \"NODE_intent\",\n",
    "        _edge_xxx1,\n",
    "        {\n",
    "            \"upload_resume\": \"NODE_resume_parser\",\n",
    "            \"upload_speech\": \"NODE_speech_parser\",\n",
    "            \"get_summary\": \"NODE_summary\",\n",
    "            \"ask_question\": \"NODE_qna\",\n",
    "        },\n",
    "    )\n",
    "\n",
    "    workflow.add_edge(\"NODE_resume_parser\", \"NODE_store_data\")\n",
    "    workflow.add_edge(\"NODE_speech_parser\", \"NODE_store_data\")\n",
    "    ## To sink node\n",
    "    workflow.add_edge(\"NODE_store_data\", END)\n",
    "    workflow.add_edge(\"NODE_summary\", END)\n",
    "    workflow.add_edge(\"NODE_qna\", END)\n",
    "\n",
    "    # Compile\n",
    "    app = workflow.compile()\n",
    "\n",
    "    # Show Image\n",
    "    app_img = app.get_graph().draw_mermaid_png()\n",
    "    image = Image.open(io.BytesIO(app_img))\n",
    "    image.save(\"graph.png\")\n",
    "\n",
    "    return app\n",
    "\n",
    "app = setup_agent()\n",
    "print('done')"
   ]
  },
  {
   "cell_type": "markdown",
   "id": "778277dc-057d-4fa7-836b-eb562d98837b",
   "metadata": {},
   "source": [
    "# Call"
   ]
  },
  {
   "cell_type": "code",
   "execution_count": 1,
   "id": "49e44e00-4fe3-4edb-83e7-10425b8e323e",
   "metadata": {},
   "outputs": [],
   "source": [
    "from typing_extensions import TypedDict\n",
    "from langgraph.graph import END, StateGraph\n",
    "from PIL import Image\n",
    "import io"
   ]
  },
  {
   "cell_type": "code",
   "execution_count": 2,
   "id": "61c99d37-0fe3-45ab-bbac-9fe74a3dca1c",
   "metadata": {},
   "outputs": [],
   "source": [
    "%load_ext autoreload\n",
    "%autoreload 2\n",
    "\n",
    "import os\n",
    "import pdb\n",
    "import time\n",
    "from pprint import pprint\n",
    "import requests\n",
    "import json\n",
    "\n",
    "import pandas as pd\n",
    "from dotenv import load_dotenv, find_dotenv\n",
    "from tqdm import tqdm\n",
    "\n",
    "from IPython.display import Markdown, display\n",
    "\n",
    "# Model\n",
    "load_dotenv(find_dotenv()) # read local .env file\n",
    "assert os.environ[\"JIGSAW_API_KEY\"]  != ''\n",
    "assert os.environ[\"JIGSAW_PUBLIC_KEY\"]  != ''\n",
    "assert os.environ[\"GROQ_API_KEY\"]  != ''\n",
    "\n",
    "from utils import RecruiterAgent"
   ]
  },
  {
   "cell_type": "code",
   "execution_count": null,
   "id": "2ffd7147-11d7-4903-a54a-8b69b264d768",
   "metadata": {
    "scrolled": true
   },
   "outputs": [
    {
     "name": "stdout",
     "output_type": "stream",
     "text": [
      "\n",
      "--- load_llm_model\n",
      "\tUsing llama3-70b-8192\n",
      "\n",
      "--- setup_chains\n",
      "\t _chain_speech_parser\n",
      "\t _chain_question_answering\n",
      "\n",
      "--- setup_agent\n",
      "\tUploaded resume from data/JohnDoeResume.pdf\n",
      "\tendpoint = https://api.jigsawstack.com/v1/store/file?key=JohnDoeResume.pdf&overwrite=true\n",
      "\tdata = {'success': True, 'url': 'https://api.jigsawstack.com/v1/store/file/JohnDoeResume.pdf', 'key': 'JohnDoeResume.pdf'}\n",
      "\t _chain_resume_parser_v2\n"
     ]
    },
    {
     "name": "stderr",
     "output_type": "stream",
     "text": [
      "Traceback (most recent call last):\n",
      "  File \"/home/divinekage/Codes/LLM/DiariserAgent/AI_HACKATHON_SG/utils.py\", line 90, in warmup\n",
      "    _resume_parser_test = self.app.invoke({\"attachment\": 'data/JohnDoeResume.pdf'})\n",
      "                          ^^^^^^^^^^^^^^^^^^^^^^^^^^^^^^^^^^^^^^^^^^^^^^^^^^^^^^^^^\n",
      "  File \"/home/divinekage/miniconda3/envs/langchain_groq/lib/python3.12/site-packages/langgraph/pregel/__init__.py\", line 1333, in invoke\n",
      "    for chunk in self.stream(\n",
      "  File \"/home/divinekage/miniconda3/envs/langchain_groq/lib/python3.12/site-packages/langgraph/pregel/__init__.py\", line 876, in stream\n",
      "    _panic_or_proceed(done, inflight, step)\n",
      "  File \"/home/divinekage/miniconda3/envs/langchain_groq/lib/python3.12/site-packages/langgraph/pregel/__init__.py\", line 1422, in _panic_or_proceed\n",
      "    raise exc\n",
      "  File \"/home/divinekage/miniconda3/envs/langchain_groq/lib/python3.12/concurrent/futures/thread.py\", line 58, in run\n",
      "    result = self.fn(*self.args, **self.kwargs)\n",
      "             ^^^^^^^^^^^^^^^^^^^^^^^^^^^^^^^^^^\n",
      "  File \"/home/divinekage/miniconda3/envs/langchain_groq/lib/python3.12/site-packages/langgraph/pregel/retry.py\", line 66, in run_with_retry\n",
      "    task.proc.invoke(task.input, task.config)\n",
      "  File \"/home/divinekage/miniconda3/envs/langchain_groq/lib/python3.12/site-packages/langchain_core/runnables/base.py\", line 2393, in invoke\n",
      "    input = step.invoke(\n",
      "            ^^^^^^^^^^^^\n",
      "  File \"/home/divinekage/miniconda3/envs/langchain_groq/lib/python3.12/site-packages/langgraph/utils.py\", line 95, in invoke\n",
      "    ret = context.run(self.func, input, **kwargs)\n",
      "          ^^^^^^^^^^^^^^^^^^^^^^^^^^^^^^^^^^^^^^^\n",
      "  File \"/home/divinekage/Codes/LLM/DiariserAgent/AI_HACKATHON_SG/utils.py\", line 558, in _node_resume_parser\n",
      "    resume_content = self.resume_parser_chain_v2(input_data['resume_text'])\n",
      "                     ^^^^^^^^^^^^^^^^^^^^^^^^^^^^^^^^^^^^^^^^^^^^^^^^^^^^^^\n",
      "  File \"/home/divinekage/Codes/LLM/DiariserAgent/AI_HACKATHON_SG/utils.py\", line 335, in _chain_resume_parser_v2\n",
      "    chat_completion = self.GROQ_v2.chat.completions.create(\n",
      "                      ^^^^^^^^^^^^^^^^^^^^^^^^^^^^^^^^^^^^^\n",
      "  File \"/home/divinekage/miniconda3/envs/langchain_groq/lib/python3.12/site-packages/groq/resources/chat/completions.py\", line 283, in create\n",
      "    return self._post(\n",
      "           ^^^^^^^^^^^\n",
      "  File \"/home/divinekage/miniconda3/envs/langchain_groq/lib/python3.12/site-packages/groq/_base_client.py\", line 1225, in post\n",
      "    return cast(ResponseT, self.request(cast_to, opts, stream=stream, stream_cls=stream_cls))\n",
      "                           ^^^^^^^^^^^^^^^^^^^^^^^^^^^^^^^^^^^^^^^^^^^^^^^^^^^^^^^^^^^^^^^^^\n",
      "  File \"/home/divinekage/miniconda3/envs/langchain_groq/lib/python3.12/site-packages/groq/_base_client.py\", line 920, in request\n",
      "    return self._request(\n",
      "           ^^^^^^^^^^^^^^\n",
      "  File \"/home/divinekage/miniconda3/envs/langchain_groq/lib/python3.12/site-packages/groq/_base_client.py\", line 1018, in _request\n",
      "    raise self._make_status_error_from_response(err.response) from None\n",
      "groq.InternalServerError: Error code: 503 - {'error': {'message': 'Service Unavailable', 'type': 'internal_server_error'}}\n"
     ]
    },
    {
     "name": "stdout",
     "output_type": "stream",
     "text": [
      "> \u001b[0;32m/home/divinekage/Codes/LLM/DiariserAgent/AI_HACKATHON_SG/utils.py\u001b[0m(95)\u001b[0;36mwarmup\u001b[0;34m()\u001b[0m\n",
      "\u001b[0;32m     93 \u001b[0;31m            \u001b[0mtraceback\u001b[0m\u001b[0;34m.\u001b[0m\u001b[0mprint_exc\u001b[0m\u001b[0;34m(\u001b[0m\u001b[0;34m)\u001b[0m\u001b[0;34m\u001b[0m\u001b[0;34m\u001b[0m\u001b[0m\n",
      "\u001b[0m\u001b[0;32m     94 \u001b[0;31m            \u001b[0mpdb\u001b[0m\u001b[0;34m.\u001b[0m\u001b[0mset_trace\u001b[0m\u001b[0;34m(\u001b[0m\u001b[0;34m)\u001b[0m\u001b[0;34m\u001b[0m\u001b[0;34m\u001b[0m\u001b[0m\n",
      "\u001b[0m\u001b[0;32m---> 95 \u001b[0;31m            \u001b[0m_\u001b[0m \u001b[0;34m=\u001b[0m \u001b[0;34m'warmup'\u001b[0m\u001b[0;34m\u001b[0m\u001b[0;34m\u001b[0m\u001b[0m\n",
      "\u001b[0m\u001b[0;32m     96 \u001b[0;31m\u001b[0;34m\u001b[0m\u001b[0m\n",
      "\u001b[0m\u001b[0;32m     97 \u001b[0;31m    \u001b[0;31m# ------------------------------------------------------------\u001b[0m\u001b[0;34m\u001b[0m\u001b[0;34m\u001b[0m\u001b[0m\n",
      "\u001b[0m\n"
     ]
    }
   ],
   "source": [
    "recruiter_agent = RecruiterAgent()"
   ]
  },
  {
   "cell_type": "code",
   "execution_count": 10,
   "id": "5b1230ce-83c8-4fe8-aa9c-c8f7c3e25e35",
   "metadata": {},
   "outputs": [
    {
     "name": "stdout",
     "output_type": "stream",
     "text": [
      "\n",
      "--- setup_agent\n"
     ]
    }
   ],
   "source": [
    "app = recruiter_agent.setup_agent()\n",
    "recruiter_agent.verbose = True"
   ]
  },
  {
   "cell_type": "code",
   "execution_count": 11,
   "id": "67d0420d-b47a-47e8-962c-edc0a65a83a7",
   "metadata": {},
   "outputs": [
    {
     "name": "stdout",
     "output_type": "stream",
     "text": [
      "\t intent = ask_question\n",
      "---[EDGE] _edge_routing_to_agents---\n",
      "self.state = {}\n"
     ]
    },
    {
     "data": {
      "text/plain": [
       "{'question': 'hi',\n",
       " 'intent': 'ask_question',\n",
       " 'attachment': None,\n",
       " 'answer': '\\nHello! It seems like you said \"hi\" without any specific question or topic. Is there something on your mind that you\\'d like to talk about or ask? I\\'m here to listen and help if I can!'}"
      ]
     },
     "execution_count": 11,
     "metadata": {},
     "output_type": "execute_result"
    }
   ],
   "source": [
    "input_data = {\n",
    "    'question': 'hi'\n",
    "}\n",
    "app.invoke(input_data)"
   ]
  },
  {
   "cell_type": "code",
   "execution_count": 12,
   "id": "fc3d561b-a909-4352-b8d2-00d37dc3992e",
   "metadata": {
    "scrolled": true
   },
   "outputs": [
    {
     "name": "stdout",
     "output_type": "stream",
     "text": [
      "\t intent = upload_resume\n",
      "---[EDGE] _edge_routing_to_agents---\n",
      "\tUploaded resume from ./data/JohnDoeResume.pdf\n",
      "\tendpoint = https://api.jigsawstack.com/v1/store/file?key=JohnDoeResume.pdf&overwrite=true\n",
      "\tdata = {'success': True, 'url': 'https://api.jigsawstack.com/v1/store/file/JohnDoeResume.pdf', 'key': 'JohnDoeResume.pdf'}\n",
      "\tresume_content = \n",
      "Based on the provided resume, I have categorized the information into the following sections:\n",
      "\n",
      "**Summary**\n",
      "\n",
      "* Summary of qualifications, highlighting John Doe's experience in designing solutions for environmental problems, proficiency in modeling and drafting software, and ability to manage projects and collaborate with teams.\n",
      "\n",
      "**Education**\n",
      "\n",
      "* Bachelor of Science in Engineering Technology, Southeastern Louisiana University, May 2024\n",
      "\t+ Concentration: Electrical Energy Engineering\n",
      "\t+ Cumulative GPA: 3.75/4.00\n",
      "\t+ Relevant Coursework: Introduction to Programming, Electrical Circuits, Electromagnetics, Programming for Technologists\n",
      "\n",
      "**Technical Proficiencies**\n",
      "\n",
      "* Modeling Programs: ALGOR, eQUEST, EnergyPro\n",
      "* Drafting Software: AutoCAD, AutoCAD LT\n",
      "\n",
      "**Relevant Experience**\n",
      "\n",
      "* American Pollution Control Corp., June 2023 – August 2023\n",
      "\t+ Environmental Engineering Intern\n",
      "\t+ Inspected sites and performed detailed monitoring of industrial pollution control measures\n",
      "\t+ Served on a committee to design and implement a new wastewater treatment system\n",
      "\t+ Investigated environmental projects onsite with a team of 3 engineers\n",
      "* Cargill, May 2022 – August 2022\n",
      "\t+ Engineer Intern\n",
      "\t+ Researched building code items, materials, and similar building plans for 2 large commercial projects in New Orleans\n",
      "\t+ Reviewed building plans with engineering and design teams to evaluate for ADA compliance\n",
      "\t+ Collaborated with a team of 7 to research and identify suitable locations to install groundwater dams\n",
      "\n",
      "**Relevant Project Experience**\n",
      "\n",
      "* Group Project, Senior Design Course, January – March 2023\n",
      "\t+ Collaborated with a 5-person team to develop an action plan for addressing societal, environmental, regulatory, and economic constraints related to a local wastewater project\n",
      "\t+ Researched client needs and developed a solutions-based layout to best suit functionality requirements\n",
      "\t+ Served as project leader by organizing team meetings, tracking progress, and providing a forum for discussion\n",
      "\n",
      "**Memberships and Associations**\n",
      "\n",
      "* The National Association of Environmental Professionals, Baton Rouge, LA, January 2020 – Present\n",
      "* Louisiana Association of Environmental Professionals (LAEP), Baton Rouge, LA, August 2020 – Present\n",
      "\n",
      "**Campus Involvement**\n",
      "\n",
      "* Co-Captain, SLU Tennis Team, Hammond, LA, August 2020 – May 2023\n",
      "\t+ Instrumental in team motivation, encouragement, and success\n",
      "* Member, Beta Gamma Sigma, SLU, Hammond, LA, December 2019 – December 2020\n",
      "\t+ International Honor Society\n",
      "CPU times: user 47.9 ms, sys: 8.57 ms, total: 56.5 ms\n",
      "Wall time: 5.98 s\n"
     ]
    },
    {
     "data": {
      "text/plain": [
       "{'question': None,\n",
       " 'intent': 'upload_resume',\n",
       " 'attachment': './data/JohnDoeResume.pdf',\n",
       " 'resume_key': 'JohnDoeResume.pdf',\n",
       " 'resume_content': \"Based on the provided resume, I have categorized the information into the following sections:\\n\\n**Summary**\\n\\n* Summary of qualifications, highlighting John Doe's experience in designing solutions for environmental problems, proficiency in modeling and drafting software, and ability to manage projects and collaborate with teams.\\n\\n**Education**\\n\\n* Bachelor of Science in Engineering Technology, Southeastern Louisiana University, May 2024\\n\\t+ Concentration: Electrical Energy Engineering\\n\\t+ Cumulative GPA: 3.75/4.00\\n\\t+ Relevant Coursework: Introduction to Programming, Electrical Circuits, Electromagnetics, Programming for Technologists\\n\\n**Technical Proficiencies**\\n\\n* Modeling Programs: ALGOR, eQUEST, EnergyPro\\n* Drafting Software: AutoCAD, AutoCAD LT\\n\\n**Relevant Experience**\\n\\n* American Pollution Control Corp., June 2023 – August 2023\\n\\t+ Environmental Engineering Intern\\n\\t+ Inspected sites and performed detailed monitoring of industrial pollution control measures\\n\\t+ Served on a committee to design and implement a new wastewater treatment system\\n\\t+ Investigated environmental projects onsite with a team of 3 engineers\\n* Cargill, May 2022 – August 2022\\n\\t+ Engineer Intern\\n\\t+ Researched building code items, materials, and similar building plans for 2 large commercial projects in New Orleans\\n\\t+ Reviewed building plans with engineering and design teams to evaluate for ADA compliance\\n\\t+ Collaborated with a team of 7 to research and identify suitable locations to install groundwater dams\\n\\n**Relevant Project Experience**\\n\\n* Group Project, Senior Design Course, January – March 2023\\n\\t+ Collaborated with a 5-person team to develop an action plan for addressing societal, environmental, regulatory, and economic constraints related to a local wastewater project\\n\\t+ Researched client needs and developed a solutions-based layout to best suit functionality requirements\\n\\t+ Served as project leader by organizing team meetings, tracking progress, and providing a forum for discussion\\n\\n**Memberships and Associations**\\n\\n* The National Association of Environmental Professionals, Baton Rouge, LA, January 2020 – Present\\n* Louisiana Association of Environmental Professionals (LAEP), Baton Rouge, LA, August 2020 – Present\\n\\n**Campus Involvement**\\n\\n* Co-Captain, SLU Tennis Team, Hammond, LA, August 2020 – May 2023\\n\\t+ Instrumental in team motivation, encouragement, and success\\n* Member, Beta Gamma Sigma, SLU, Hammond, LA, December 2019 – December 2020\\n\\t+ International Honor Society\",\n",
       " 'answer': ''}"
      ]
     },
     "execution_count": 12,
     "metadata": {},
     "output_type": "execute_result"
    }
   ],
   "source": [
    "%%time\n",
    "# recruiter_agent = RecruiterAgent()\n",
    "# app = recruiter_agent.setup_agent()\n",
    "# recruiter_agent.verbose = True\n",
    "input_data = {    'attachment': './data/JohnDoeResume.pdf'}\n",
    "resume_output = app.invoke(input_data)\n",
    "resume_output"
   ]
  },
  {
   "cell_type": "code",
   "execution_count": 13,
   "id": "a162f2c0-6484-413c-85e0-e4d101ae655f",
   "metadata": {},
   "outputs": [
    {
     "name": "stdout",
     "output_type": "stream",
     "text": [
      "\t intent = ask_question\n",
      "---[EDGE] _edge_routing_to_agents---\n",
      "self.state = {'resume_content': \"Based on the provided resume, I have categorized the information into the following sections:\\n\\n**Summary**\\n\\n* Summary of qualifications, highlighting John Doe's experience in designing solutions for environmental problems, proficiency in modeling and drafting software, and ability to manage projects and collaborate with teams.\\n\\n**Education**\\n\\n* Bachelor of Science in Engineering Technology, Southeastern Louisiana University, May 2024\\n\\t+ Concentration: Electrical Energy Engineering\\n\\t+ Cumulative GPA: 3.75/4.00\\n\\t+ Relevant Coursework: Introduction to Programming, Electrical Circuits, Electromagnetics, Programming for Technologists\\n\\n**Technical Proficiencies**\\n\\n* Modeling Programs: ALGOR, eQUEST, EnergyPro\\n* Drafting Software: AutoCAD, AutoCAD LT\\n\\n**Relevant Experience**\\n\\n* American Pollution Control Corp., June 2023 – August 2023\\n\\t+ Environmental Engineering Intern\\n\\t+ Inspected sites and performed detailed monitoring of industrial pollution control measures\\n\\t+ Served on a committee to design and implement a new wastewater treatment system\\n\\t+ Investigated environmental projects onsite with a team of 3 engineers\\n* Cargill, May 2022 – August 2022\\n\\t+ Engineer Intern\\n\\t+ Researched building code items, materials, and similar building plans for 2 large commercial projects in New Orleans\\n\\t+ Reviewed building plans with engineering and design teams to evaluate for ADA compliance\\n\\t+ Collaborated with a team of 7 to research and identify suitable locations to install groundwater dams\\n\\n**Relevant Project Experience**\\n\\n* Group Project, Senior Design Course, January – March 2023\\n\\t+ Collaborated with a 5-person team to develop an action plan for addressing societal, environmental, regulatory, and economic constraints related to a local wastewater project\\n\\t+ Researched client needs and developed a solutions-based layout to best suit functionality requirements\\n\\t+ Served as project leader by organizing team meetings, tracking progress, and providing a forum for discussion\\n\\n**Memberships and Associations**\\n\\n* The National Association of Environmental Professionals, Baton Rouge, LA, January 2020 – Present\\n* Louisiana Association of Environmental Professionals (LAEP), Baton Rouge, LA, August 2020 – Present\\n\\n**Campus Involvement**\\n\\n* Co-Captain, SLU Tennis Team, Hammond, LA, August 2020 – May 2023\\n\\t+ Instrumental in team motivation, encouragement, and success\\n* Member, Beta Gamma Sigma, SLU, Hammond, LA, December 2019 – December 2020\\n\\t+ International Honor Society\"}\n",
      "CPU times: user 13.4 ms, sys: 2.19 ms, total: 15.6 ms\n",
      "Wall time: 693 ms\n"
     ]
    },
    {
     "data": {
      "text/plain": [
       "{'question': 'what is the educational history ?',\n",
       " 'intent': 'ask_question',\n",
       " 'attachment': None,\n",
       " 'answer': '\\n\\nJohn Doe has a Bachelor of Science in Engineering Technology from Southeastern Louisiana University, with a concentration in Electrical Energy Engineering. He achieved a cumulative GPA of 3.75/4.00 and completed relevant coursework in programming, electrical circuits, electromagnetics, and programming for technologists.\\n\\n'}"
      ]
     },
     "execution_count": 13,
     "metadata": {},
     "output_type": "execute_result"
    }
   ],
   "source": [
    "%%time\n",
    "# recruiter_agent = RecruiterAgent()\n",
    "# app = recruiter_agent.setup_agent()\n",
    "# recruiter_agent.verbose = True\n",
    "input_data = {    'question': 'what is the educational history ?'}\n",
    "app.invoke(input_data)"
   ]
  },
  {
   "cell_type": "code",
   "execution_count": 14,
   "id": "97ed3cef-e09b-4c38-b594-0c95f92b2b3d",
   "metadata": {
    "scrolled": true
   },
   "outputs": [
    {
     "name": "stdout",
     "output_type": "stream",
     "text": [
      "\t intent = upload_speech\n",
      "---[EDGE] _edge_routing_to_agents---\n",
      "\tUploaded speech from ./data/gettysburg.wav\n",
      "\tendpoint = https://api.jigsawstack.com/v1/store/file?key=gettysburg.wav&overwrite=true\n",
      "\tdata = {'success': True, 'url': 'https://api.jigsawstack.com/v1/store/file/gettysburg.wav', 'key': 'gettysburg.wav'}\n",
      "\tendpoint = https://api.jigsawstack.com/v1/ai/transcribe\n",
      "\tbody = {'file_store_key': 'gettysburg.wav'}\n",
      "\tdata = {'success': True, 'text': ' four score and seven years ago our fathers brought forth on this continent a new nation conceived in liberty and dedicated to the proposition that all men are created equal now we are engaged in a great civil war testing whether that nation or any nation so conceived and so dedicated can long endure', 'chunks': [{'timestamp': [0, 17.58], 'text': ' four score and seven years ago our fathers brought forth on this continent a new nation conceived in liberty and dedicated to the proposition that all men are created equal now we are engaged in a great civil war testing whether that nation or any nation so conceived and so dedicated can long endure'}]}\n",
      "\tspeech_transcribed = \n",
      " four score and seven years ago our fathers brought forth on this continent a new nation conceived in liberty and dedicated to the proposition that all men are created equal now we are engaged in a great civil war testing whether that nation or any nation so conceived and so dedicated can long endure\n",
      "\tspeech_keypoints = \n",
      "Based on the transcript, I can extract the following information:\n",
      "\n",
      "<json>\n",
      "{\n",
      "  \"Name\": null,\n",
      "  \"Gender\": null,\n",
      "  \"Languages\": null,\n",
      "  \"Country\": null,\n",
      "  \"Work Pass Type\": null,\n",
      "  \"Nationality\": null,\n",
      "  \"Notice Period\": null,\n",
      "  \"Reason for looking out\": null,\n",
      "  \"Looking for in next move\": null,\n",
      "  \"Other Interviews in pipeline\": null,\n",
      "  \"Current Salary\": null,\n",
      "  \"Expected Salary\": null,\n",
      "  \"Identity\": null,\n",
      "  \"Open to Consulting model\": null,\n",
      "  \"Current Annual Leave days\": null,\n",
      "  \"Worked for Client Before or no\": null,\n",
      "  \"Hiring for other roles?\": null,\n",
      "  \"General Notes\": null\n",
      "}\n",
      "</json>\n",
      "\n",
      "The provided transcript appears to be a passage from the Gettysburg Address, a famous speech delivered by President Abraham Lincoln in 1863. It does not contain any information about a job candidate or the requested details. Therefore, all the values are set to null.\n",
      "\tspeech_keypoints = \n",
      "\n",
      "{\n",
      "  \"Name\": null,\n",
      "  \"Gender\": null,\n",
      "  \"Languages\": null,\n",
      "  \"Country\": null,\n",
      "  \"Work Pass Type\": null,\n",
      "  \"Nationality\": null,\n",
      "  \"Notice Period\": null,\n",
      "  \"Reason for looking out\": null,\n",
      "  \"Looking for in next move\": null,\n",
      "  \"Other Interviews in pipeline\": null,\n",
      "  \"Current Salary\": null,\n",
      "  \"Expected Salary\": null,\n",
      "  \"Identity\": null,\n",
      "  \"Open to Consulting model\": null,\n",
      "  \"Current Annual Leave days\": null,\n",
      "  \"Worked for Client Before or no\": null,\n",
      "  \"Hiring for other roles?\": null,\n",
      "  \"General Notes\": null\n",
      "}\n",
      "\n",
      "CPU times: user 26.1 ms, sys: 10.9 ms, total: 37 ms\n",
      "Wall time: 41 s\n"
     ]
    },
    {
     "data": {
      "text/plain": [
       "{'question': None,\n",
       " 'intent': 'upload_speech',\n",
       " 'attachment': './data/gettysburg.wav',\n",
       " 'speech_transcribed': ' four score and seven years ago our fathers brought forth on this continent a new nation conceived in liberty and dedicated to the proposition that all men are created equal now we are engaged in a great civil war testing whether that nation or any nation so conceived and so dedicated can long endure',\n",
       " 'speech_keypoints': '\\n{\\n  \"Name\": null,\\n  \"Gender\": null,\\n  \"Languages\": null,\\n  \"Country\": null,\\n  \"Work Pass Type\": null,\\n  \"Nationality\": null,\\n  \"Notice Period\": null,\\n  \"Reason for looking out\": null,\\n  \"Looking for in next move\": null,\\n  \"Other Interviews in pipeline\": null,\\n  \"Current Salary\": null,\\n  \"Expected Salary\": null,\\n  \"Identity\": null,\\n  \"Open to Consulting model\": null,\\n  \"Current Annual Leave days\": null,\\n  \"Worked for Client Before or no\": null,\\n  \"Hiring for other roles?\": null,\\n  \"General Notes\": null\\n}\\n',\n",
       " 'answer': ''}"
      ]
     },
     "execution_count": 14,
     "metadata": {},
     "output_type": "execute_result"
    }
   ],
   "source": [
    "%%time\n",
    "# recruiter_agent = RecruiterAgent()\n",
    "# app = recruiter_agent.setup_agent()\n",
    "# recruiter_agent.verbose = True\n",
    "input_data = { 'attachment': './data/gettysburg.wav' }\n",
    "speech_output = app.invoke(input_data)\n",
    "speech_output"
   ]
  },
  {
   "cell_type": "code",
   "execution_count": 16,
   "id": "946656b9-2a0c-4e23-b8e0-561ca3e7de2d",
   "metadata": {},
   "outputs": [
    {
     "name": "stdout",
     "output_type": "stream",
     "text": [
      "\t intent = ask_question\n",
      "---[EDGE] _edge_routing_to_agents---\n",
      "self.state = {'resume_content': \"Based on the provided resume, I have categorized the information into the following sections:\\n\\n**Summary**\\n\\n* Summary of qualifications, highlighting John Doe's experience in designing solutions for environmental problems, proficiency in modeling and drafting software, and ability to manage projects and collaborate with teams.\\n\\n**Education**\\n\\n* Bachelor of Science in Engineering Technology, Southeastern Louisiana University, May 2024\\n\\t+ Concentration: Electrical Energy Engineering\\n\\t+ Cumulative GPA: 3.75/4.00\\n\\t+ Relevant Coursework: Introduction to Programming, Electrical Circuits, Electromagnetics, Programming for Technologists\\n\\n**Technical Proficiencies**\\n\\n* Modeling Programs: ALGOR, eQUEST, EnergyPro\\n* Drafting Software: AutoCAD, AutoCAD LT\\n\\n**Relevant Experience**\\n\\n* American Pollution Control Corp., June 2023 – August 2023\\n\\t+ Environmental Engineering Intern\\n\\t+ Inspected sites and performed detailed monitoring of industrial pollution control measures\\n\\t+ Served on a committee to design and implement a new wastewater treatment system\\n\\t+ Investigated environmental projects onsite with a team of 3 engineers\\n* Cargill, May 2022 – August 2022\\n\\t+ Engineer Intern\\n\\t+ Researched building code items, materials, and similar building plans for 2 large commercial projects in New Orleans\\n\\t+ Reviewed building plans with engineering and design teams to evaluate for ADA compliance\\n\\t+ Collaborated with a team of 7 to research and identify suitable locations to install groundwater dams\\n\\n**Relevant Project Experience**\\n\\n* Group Project, Senior Design Course, January – March 2023\\n\\t+ Collaborated with a 5-person team to develop an action plan for addressing societal, environmental, regulatory, and economic constraints related to a local wastewater project\\n\\t+ Researched client needs and developed a solutions-based layout to best suit functionality requirements\\n\\t+ Served as project leader by organizing team meetings, tracking progress, and providing a forum for discussion\\n\\n**Memberships and Associations**\\n\\n* The National Association of Environmental Professionals, Baton Rouge, LA, January 2020 – Present\\n* Louisiana Association of Environmental Professionals (LAEP), Baton Rouge, LA, August 2020 – Present\\n\\n**Campus Involvement**\\n\\n* Co-Captain, SLU Tennis Team, Hammond, LA, August 2020 – May 2023\\n\\t+ Instrumental in team motivation, encouragement, and success\\n* Member, Beta Gamma Sigma, SLU, Hammond, LA, December 2019 – December 2020\\n\\t+ International Honor Society\", 'speech_keypoints': '\\n{\\n  \"Name\": null,\\n  \"Gender\": null,\\n  \"Languages\": null,\\n  \"Country\": null,\\n  \"Work Pass Type\": null,\\n  \"Nationality\": null,\\n  \"Notice Period\": null,\\n  \"Reason for looking out\": null,\\n  \"Looking for in next move\": null,\\n  \"Other Interviews in pipeline\": null,\\n  \"Current Salary\": null,\\n  \"Expected Salary\": null,\\n  \"Identity\": null,\\n  \"Open to Consulting model\": null,\\n  \"Current Annual Leave days\": null,\\n  \"Worked for Client Before or no\": null,\\n  \"Hiring for other roles?\": null,\\n  \"General Notes\": null\\n}\\n'}\n",
      "CPU times: user 7.87 ms, sys: 5.13 ms, total: 13 ms\n",
      "Wall time: 721 ms\n"
     ]
    },
    {
     "data": {
      "text/plain": [
       "{'question': 'what is the latest job history ?',\n",
       " 'intent': 'ask_question',\n",
       " 'attachment': None,\n",
       " 'answer': 'The latest job history of John Doe is his experience as an Environmental Engineering Intern at American Pollution Control Corp. from June 2023 to August 2023.'}"
      ]
     },
     "execution_count": 16,
     "metadata": {},
     "output_type": "execute_result"
    }
   ],
   "source": [
    "%%time\n",
    "# recruiter_agent = RecruiterAgent()\n",
    "# app = recruiter_agent.setup_agent()\n",
    "# recruiter_agent.verbose = True\n",
    "input_data = {    'question': 'what is the latest job history ?'}\n",
    "app.invoke(input_data)"
   ]
  },
  {
   "cell_type": "markdown",
   "id": "3abe79f8-49eb-4f15-9ab2-0903afd07b50",
   "metadata": {},
   "source": [
    "## plot graph"
   ]
  },
  {
   "cell_type": "code",
   "execution_count": 45,
   "id": "cfb1ccf3-d123-4125-878e-20af5838dcd7",
   "metadata": {},
   "outputs": [],
   "source": [
    "app_img = app.get_graph().draw_mermaid_png()\n",
    "image = Image.open(io.BytesIO(app_img))\n",
    "image.save(\"graph.png\")"
   ]
  },
  {
   "cell_type": "markdown",
   "id": "a2357da5-b968-48c3-99bb-6039abd01d8d",
   "metadata": {},
   "source": [
    "# Supbabase"
   ]
  },
  {
   "cell_type": "code",
   "execution_count": 21,
   "id": "ae689de1-f355-4097-97bb-4cedcf684d16",
   "metadata": {},
   "outputs": [],
   "source": [
    "# Model\n",
    "load_dotenv(find_dotenv()) # read local .env file\n",
    "assert os.environ[\"SUPABASE_URL\"]  != ''\n",
    "assert os.environ[\"SUPABASE_KEY\"]  != ''"
   ]
  },
  {
   "cell_type": "code",
   "execution_count": 17,
   "id": "95f1d0e1-2e62-4b11-976b-989db6d7e8cd",
   "metadata": {},
   "outputs": [],
   "source": [
    "import os\n",
    "from supabase import create_client , Client\n",
    "import supabase\n",
    "\n",
    "from groq import Groq"
   ]
  },
  {
   "cell_type": "code",
   "execution_count": 18,
   "id": "76509ca1-a1d9-41da-8d33-ea4e066ee3b3",
   "metadata": {},
   "outputs": [],
   "source": [
    "def setup():\n",
    "    client = create_client(\n",
    "        os.environ.get(\"SUPABASE_URL\"),\n",
    "        os.environ.get(\"SUPABASE_KEY\")\n",
    "    )\n",
    "    return client"
   ]
  },
  {
   "cell_type": "code",
   "execution_count": 22,
   "id": "23f13718-c96e-4bf0-a95e-4b8982628dd6",
   "metadata": {},
   "outputs": [],
   "source": [
    "supabase_client = setup()"
   ]
  },
  {
   "cell_type": "code",
   "execution_count": 23,
   "id": "f2e6d3e8-7621-41c5-96ef-8c6853aec5c7",
   "metadata": {},
   "outputs": [],
   "source": [
    "#get the response from the groq api for LLMs\n",
    "client = Groq(\n",
    "    api_key=os.environ.get(\"GROQ_KEY\"),\n",
    ")"
   ]
  },
  {
   "cell_type": "code",
   "execution_count": 24,
   "id": "379edeb9-c6f5-42b9-afe7-41635777b786",
   "metadata": {},
   "outputs": [],
   "source": [
    "table_name = os.environ.get(\"SUPA_BASE_TABLE\")"
   ]
  },
  {
   "cell_type": "code",
   "execution_count": 25,
   "id": "81ed17a5-64e8-4da8-bca7-3f89f601cb6c",
   "metadata": {},
   "outputs": [],
   "source": [
    "schema = {\n",
    "    \"type\":\"object\",\n",
    "    \"properties\": {\n",
    "        \"name\": {\"type\": \"string\",\n",
    "                 \"description\": \"The name of the candidate\"\n",
    "                 },\n",
    "        \"contact_information\": {\"type\": \"string\" ,\n",
    "                                \"description\": \"The contact information of the candidate. This should include the email address and phone number of the candidate. If the information is not present in the resume, just mention that the information is not present.\"\n",
    "                                },\n",
    "        \"summary\": {\"type\": \"string\",\n",
    "                    \"description\": \"The summary of the candidate. This should include a brief overview of the candidate's background and experience. If the information is not present in the resume, just mention that the information is not present.\"\n",
    "                    },\n",
    "        \"work_experience\": {\"type\": \"string\" , \n",
    "                            \"description\": \"The work experience of the candidate\"\n",
    "                            },\n",
    "        \"education\": {\"type\": \"string\",\n",
    "                      \"description\": \"The education of the candidate\"\n",
    "                      },\n",
    "        \"skills\": {\"type\": \"string\",\n",
    "                   \"skills\": \"The skills of the candidate\"\n",
    "                   },\n",
    "        \"certifications\": {\"type\": \"string\",\n",
    "                           \"description\": \"The certifications of the candidate\"\n",
    "                           },\n",
    "                           \n",
    "    },\n",
    "}"
   ]
  },
  {
   "cell_type": "code",
   "execution_count": 34,
   "id": "e9b8c306-3367-4be9-8705-bd9b901e38da",
   "metadata": {
    "jupyter": {
     "source_hidden": true
    }
   },
   "outputs": [],
   "source": [
    "resume = \"\"\"\n",
    "Summary\n",
    "\n",
    "Experienced in designing solutions for environmental problems that require integration of environmental and human health constraints compatible with economic growth, sustainable development, and ethical standards.\n",
    "Proficient with various modeling and drafting software including AutoCAD and ALGOR.\n",
    "Efficiently manage projects and collaborate with teams to accelerate the overarching goals of the company.\n",
    "Education\n",
    "\n",
    "Southeastern Louisiana University, Hammond, LA\n",
    "+ Bachelor of Science in Engineering Technology, Concentration: Electrical Energy Engineering, May 2024\n",
    "+ Cumulative GPA: 3.75/4.00\n",
    "+ Relevant Coursework:\n",
    "- Introduction to Programming\n",
    "- Electrical Circuits\n",
    "- Electromagnetics\n",
    "- Programming for Technologists\n",
    "Technical Proficiencies\n",
    "\n",
    "Modeling Programs: ALGOR, eQUEST, and EnergyPro (LEED project with a VRF system)\n",
    "Drafting Software: AutoCAD, AutoCAD LT\n",
    "Relevant Experience\n",
    "\n",
    "American Pollution Control Corp., Chalmette, LA\n",
    "+ Environmental Engineering Intern, June 2023 - August 2023\n",
    "- Inspected sites and performed detailed monitoring of industrial pollution control measures with an environmental engineer based on state and local regulations\n",
    "- Served on a committee dedicated to designing and implementing a new wastewater treatment system\n",
    "- Investigated environmental projects onsite with a team of 3 engineers\n",
    "Cargill, Breaux Bridge, LA\n",
    "+ Engineer Intern, May 2022 - August 2022\n",
    "- Researched building code items, materials, and similar building plans for 2 large commercial projects in New Orleans\n",
    "- Reviewed building plans with engineering and design teams to evaluate for ADA compliance\n",
    "- Collaborated with a team of 7 to research and identify suitable locations to install groundwater dams\n",
    "Relevant Project Experience\n",
    "\n",
    "Group Project, Senior Design Course, Hammond, LA\n",
    "+ Collaborated with a 5-person team tasked with developing an action plan for addressing societal, environmental, regulatory, and economic constraints related to a local wastewater project\n",
    "+ Researched client needs and developed a solutions-based layout to best suit functionality requirements\n",
    "+ Served as project leader by organizing team meetings, tracking progress, and providing a forum for discussion\n",
    "Memberships and Associations\n",
    "\n",
    "The National Association of Environmental Professionals, Baton Rouge, LA, January 2020 - Present\n",
    "Louisiana Association of Environmental Professionals (LAEP), Baton Rouge, LA, August 2020 - Present\n",
    "Campus Involvement\n",
    "\n",
    "Co-Captain, SLU Tennis Team, Hammond, LA, August 2020 - May 2023\n",
    "Member, Beta Gamma Sigma, SLU, Hammond, LA, December 2019 - December 2020 (International Honor Society)\n",
    "\"\"\""
   ]
  },
  {
   "cell_type": "code",
   "execution_count": 35,
   "id": "75bfc973-e2c4-4ab5-82bc-443b9f1cdfc4",
   "metadata": {},
   "outputs": [],
   "source": [
    "chat_completion = client.chat.completions.create(\n",
    "    messages=[\n",
    "        {\n",
    "            \"role\": \"system\",\n",
    "            \"content\": f\"\"\"You are a recruiter and you have received a resume from a candidate. You need to split the resume into the following sections:\\n\n",
    "            1. Name\\n\n",
    "            2. Contact Information\\n\n",
    "            3. Summary\\n\n",
    "            4. Work Experience\\n\n",
    "            5. Education\\n\n",
    "            6. Skills\\n\n",
    "            7. Certifications\\n\n",
    "\n",
    "            If the information is not present in the resume, just mention that the information is not present.\n",
    "\n",
    "            Return a JSON object with the following schema: \n",
    "            {schema}\n",
    "            .\n",
    "            \"\"\",\n",
    "        },\n",
    "        {\n",
    "            \"role\": \"user\",\n",
    "            \"content\": f\"The Resume is: \\n\\n{resume} \",\n",
    "        }\n",
    "    ],\n",
    "    model=\"llama3-70b-8192\",\n",
    "    response_format={\"type\": \"json_object\"}\n",
    ")"
   ]
  },
  {
   "cell_type": "code",
   "execution_count": 36,
   "id": "1fd46397-de6f-4c23-a4be-dff616f3d5ca",
   "metadata": {},
   "outputs": [
    {
     "data": {
      "text/plain": [
       "'{\\n\"name\": \"Not present\",\\n\"contact_information\": \"Not present\",\\n\"summary\": \"Experienced in designing solutions for environmental problems that require integration of environmental and human health constraints compatible with economic growth, sustainable development, and ethical standards. Proficient with various modeling and drafting software including AutoCAD and ALGOR. Efficiently manage projects and collaborate with teams to accelerate the overarching goals of the company.\",\\n\"work_experience\": \"American Pollution Control Corp., Chalmette, LA\\\\nEnvironmental Engineering Intern, June 2023 - August 2023\\\\n- Inspected sites and performed detailed monitoring of industrial pollution control measures with an environmental engineer based on state and local regulations\\\\n- Served on a committee dedicated to designing and implementing a new wastewater treatment system\\\\n- Investigated environmental projects onsite with a team of 3 engineers\\\\n\\\\nCargill, Breaux Bridge, LA\\\\nEngineer Intern, May 2022 - August 2022\\\\n- Researched building code items, materials, and similar building plans for 2 large commercial projects in New Orleans\\\\n- Reviewed building plans with engineering and design teams to evaluate for ADA compliance\\\\n- Collaborated with a team of 7 to research and identify suitable locations to install groundwater dams\",\\n\"education\": \"Southeastern Louisiana University, Hammond, LA\\\\nBachelor of Science in Engineering Technology, Concentration: Electrical Energy Engineering, May 2024\\\\nCumulative GPA: 3.75/4.00\\\\nRelevant Coursework:\\\\n- Introduction to Programming\\\\n- Electrical Circuits\\\\n- Electromagnetics\\\\n- Programming for Technologists\",\\n\"skills\": \"Modeling Programs: ALGOR, eQUEST, and EnergyPro (LEED project with a VRF system)\\\\nDrafting Software: AutoCAD, AutoCAD LT\",\\n\"certifications\": \"Not present\"\\n}'"
      ]
     },
     "execution_count": 36,
     "metadata": {},
     "output_type": "execute_result"
    }
   ],
   "source": [
    "output = chat_completion.choices[0].message.content\n",
    "output"
   ]
  },
  {
   "cell_type": "markdown",
   "id": "4e35c5e0-db01-40de-a29c-3401b2c9427f",
   "metadata": {},
   "source": [
    "## prompting lcel"
   ]
  },
  {
   "cell_type": "code",
   "execution_count": null,
   "id": "7d594bc7-353c-41ec-9168-4b03c0f33445",
   "metadata": {},
   "outputs": [],
   "source": [
    "from langchain_core.prompts import ChatPromptTemplate\n",
    "\n",
    "template = ChatPromptTemplate.from_messages([\n",
    "    (\"system\", \"You are a smart resume summary agent assistant.\"),\n",
    "    (\"human\", \"\"\"You will be given a resume and you need to split it into different sections like education, experience, skills, etc.\n",
    "                 The resume is given below:\\n\\n{resume_text}\"\"\"),\n",
    "])\n",
    "prompt_value = template.invoke({\"resume_text\": resume})\n",
    "prompt_value"
   ]
  },
  {
   "cell_type": "code",
   "execution_count": 53,
   "id": "7b6d8c1b-c6ef-47dc-8891-31d819e4a0f7",
   "metadata": {
    "collapsed": true,
    "jupyter": {
     "outputs_hidden": true
    },
    "scrolled": true
   },
   "outputs": [
    {
     "data": {
      "text/plain": [
       "'Here is the revised resume, broken down into different sections:\\n\\n**Summary:**\\nExperienced in designing solutions for environmental problems that require integration of environmental and human health constraints compatible with economic growth, sustainable development, and ethical standards. Proficient with various modeling and drafting software including AutoCAD and ALGOR. Efficiently manage projects and collaborate with teams to accelerate the overarching goals of the company.\\n\\n**Education:**\\n\\n* Southeastern Louisiana University, Hammond, LA\\n\\t+ Bachelor of Science in Engineering Technology, Concentration: Electrical Energy Engineering, May 2024\\n\\t+ Cumulative GPA: 3.75/4.00\\n\\t+ Relevant Coursework:\\n\\t\\t- Introduction to Programming\\n\\t\\t- Electrical Circuits\\n\\t\\t- Electromagnetics\\n\\t\\t- Programming for Technologists\\n\\n**Technical Proficiencies:**\\n\\n* Modeling Programs: ALGOR, eQUEST, and EnergyPro (LEED project with a VRF system)\\n* Drafting Software: AutoCAD, AutoCAD LT\\n\\n**Experience:**\\n\\n* American Pollution Control Corp., Chalmette, LA\\n\\t+ Environmental Engineering Intern, June 2023 - August 2023\\n\\t\\t- Inspected sites and performed detailed monitoring of industrial pollution control measures with an environmental engineer based on state and local regulations\\n\\t\\t- Served on a committee dedicated to designing and implementing a new wastewater treatment system\\n\\t\\t- Investigated environmental projects onsite with a team of 3 engineers\\n* Cargill, Breaux Bridge, LA\\n\\t+ Engineer Intern, May 2022 - August 2022\\n\\t\\t- Researched building code items, materials, and similar building plans for 2 large commercial projects in New Orleans\\n\\t\\t- Reviewed building plans with engineering and design teams to evaluate for ADA compliance\\n\\t\\t- Collaborated with a team of 7 to research and identify suitable locations to install groundwater dams\\n\\n**Project Experience:**\\n\\n* Group Project, Senior Design Course, Hammond, LA\\n\\t+ Collaborated with a 5-person team tasked with developing an action plan for addressing societal, environmental, regulatory, and economic constraints related to a local wastewater project\\n\\t+ Researched client needs and developed a solutions-based layout to best suit functionality requirements\\n\\t+ Served as project leader by organizing team meetings, tracking progress, and providing a forum for discussion\\n\\n**Memberships and Associations:**\\n\\n* The National Association of Environmental Professionals, Baton Rouge, LA, January 2020 - Present\\n* Louisiana Association of Environmental Professionals (LAEP), Baton Rouge, LA, August 2020 - Present\\n\\n**Campus Involvement:**\\n\\n* Co-Captain, SLU Tennis Team, Hammond, LA, August 2020 - May 2023\\n* Member, Beta Gamma Sigma, SLU, Hammond, LA, December 2019 - December 2020 (International Honor Society)'"
      ]
     },
     "execution_count": 53,
     "metadata": {},
     "output_type": "execute_result"
    }
   ],
   "source": [
    "resume_parser_chain_v2 = template | GROQ_LLM | StrOutputParser()\n",
    "resume_parser_chain_v2.invoke({'resume_text': resume})"
   ]
  },
  {
   "cell_type": "code",
   "execution_count": 51,
   "id": "02a92a8a-60fe-42cb-95df-116b18020849",
   "metadata": {
    "collapsed": true,
    "jupyter": {
     "outputs_hidden": true
    }
   },
   "outputs": [
    {
     "data": {
      "text/plain": [
       "[SystemMessage(content='You are a smart resume summary agent assistant.'),\n",
       " HumanMessage(content='You will be given a resume and you need to split it into different sections like education, experience, skills, etc.\\n                 The resume is given below:\\n\\n\\nSummary\\n\\nExperienced in designing solutions for environmental problems that require integration of environmental and human health constraints compatible with economic growth, sustainable development, and ethical standards.\\nProficient with various modeling and drafting software including AutoCAD and ALGOR.\\nEfficiently manage projects and collaborate with teams to accelerate the overarching goals of the company.\\nEducation\\n\\nSoutheastern Louisiana University, Hammond, LA\\n+ Bachelor of Science in Engineering Technology, Concentration: Electrical Energy Engineering, May 2024\\n+ Cumulative GPA: 3.75/4.00\\n+ Relevant Coursework:\\n- Introduction to Programming\\n- Electrical Circuits\\n- Electromagnetics\\n- Programming for Technologists\\nTechnical Proficiencies\\n\\nModeling Programs: ALGOR, eQUEST, and EnergyPro (LEED project with a VRF system)\\nDrafting Software: AutoCAD, AutoCAD LT\\nRelevant Experience\\n\\nAmerican Pollution Control Corp., Chalmette, LA\\n+ Environmental Engineering Intern, June 2023 - August 2023\\n- Inspected sites and performed detailed monitoring of industrial pollution control measures with an environmental engineer based on state and local regulations\\n- Served on a committee dedicated to designing and implementing a new wastewater treatment system\\n- Investigated environmental projects onsite with a team of 3 engineers\\nCargill, Breaux Bridge, LA\\n+ Engineer Intern, May 2022 - August 2022\\n- Researched building code items, materials, and similar building plans for 2 large commercial projects in New Orleans\\n- Reviewed building plans with engineering and design teams to evaluate for ADA compliance\\n- Collaborated with a team of 7 to research and identify suitable locations to install groundwater dams\\nRelevant Project Experience\\n\\nGroup Project, Senior Design Course, Hammond, LA\\n+ Collaborated with a 5-person team tasked with developing an action plan for addressing societal, environmental, regulatory, and economic constraints related to a local wastewater project\\n+ Researched client needs and developed a solutions-based layout to best suit functionality requirements\\n+ Served as project leader by organizing team meetings, tracking progress, and providing a forum for discussion\\nMemberships and Associations\\n\\nThe National Association of Environmental Professionals, Baton Rouge, LA, January 2020 - Present\\nLouisiana Association of Environmental Professionals (LAEP), Baton Rouge, LA, August 2020 - Present\\nCampus Involvement\\n\\nCo-Captain, SLU Tennis Team, Hammond, LA, August 2020 - May 2023\\nMember, Beta Gamma Sigma, SLU, Hammond, LA, December 2019 - December 2020 (International Honor Society)\\n')]"
      ]
     },
     "execution_count": 51,
     "metadata": {},
     "output_type": "execute_result"
    }
   ],
   "source": [
    "list(prompt_value.messages)"
   ]
  },
  {
   "cell_type": "code",
   "execution_count": null,
   "id": "2f8df1f6-d8b6-4787-af4c-dc61b919b7af",
   "metadata": {},
   "outputs": [],
   "source": [
    "chat_completion = client.chat.completions.create(\n",
    "    messages=[\n",
    "        {\n",
    "            \"role\": \"system\",\n",
    "            \"content\": f\"\"\"You are a recruiter and you have received a resume from a candidate. You need to split the resume into the following sections:\\n\n",
    "            1. Name\\n\n",
    "            2. Contact Information\\n\n",
    "            3. Summary\\n\n",
    "            4. Work Experience\\n\n",
    "            5. Education\\n\n",
    "            6. Skills\\n\n",
    "            7. Certifications\\n\n",
    "\n",
    "            If the information is not present in the resume, just mention that the information is not present.\n",
    "\n",
    "            Return a JSON object with the following schema: \n",
    "            {schema}\n",
    "            .\n",
    "            \"\"\",\n",
    "        },\n",
    "        {\n",
    "            \"role\": \"user\",\n",
    "            \"content\": f\"The Resume is: \\n\\n{resume} \",\n",
    "        }\n",
    "    ],\n",
    "    model=\"llama3-70b-8192\",\n",
    "    response_format={\"type\": \"json_object\"}\n",
    ")"
   ]
  },
  {
   "cell_type": "markdown",
   "id": "2016c305-f9d8-4e58-8874-d9ae2c90cfcb",
   "metadata": {
    "jp-MarkdownHeadingCollapsed": true
   },
   "source": [
    "## prompting lcel"
   ]
  },
  {
   "cell_type": "code",
   "execution_count": 46,
   "id": "074062c8-c7be-4f4d-af58-24a9315ee78a",
   "metadata": {
    "collapsed": true,
    "jupyter": {
     "outputs_hidden": true
    }
   },
   "outputs": [
    {
     "data": {
      "text/plain": [
       "\"I'd be happy to help you categorize the resume into different sections. Here is the categorized version:\\n\\n**Summary**\\n\\n* Experienced in designing solutions for environmental problems that require integration of environmental and human health constraints compatible with economic growth, sustainable development, and ethical standards.\\n* Proficient with various modeling and drafting software including AutoCAD and ALGOR.\\n* Efficiently manage projects and collaborate with teams to accelerate the overarching goals of the company.\\n\\n**Education**\\n\\n* Southeastern Louisiana University, Hammond, LA\\n\\t+ Bachelor of Science in Engineering Technology, Concentration: Electrical Energy Engineering, May 2024\\n\\t+ Cumulative GPA: 3.75/4.00\\n\\t+ Relevant Coursework:\\n\\t\\t- Introduction to Programming\\n\\t\\t- Electrical Circuits\\n\\t\\t- Electromagnetics\\n\\t\\t- Programming for Technologists\\n\\n**Technical Proficiencies**\\n\\n* Modeling Programs: ALGOR, eQUEST, and EnergyPro (LEED project with a VRF system)\\n* Drafting Software: AutoCAD, AutoCAD LT\\n\\n**Work Experience**\\n\\n* **American Pollution Control Corp., Chalmette, LA**\\n\\t+ Environmental Engineering Intern, June 2023 - August 2023\\n\\t\\t- Inspected sites and performed detailed monitoring of industrial pollution control measures with an environmental engineer based on state and local regulations\\n\\t\\t- Served on a committee dedicated to designing and implementing a new wastewater treatment system\\n\\t\\t- Investigated environmental projects onsite with a team of 3 engineers\\n* **Cargill, Breaux Bridge, LA**\\n\\t+ Engineer Intern, May 2022 - August 2022\\n\\t\\t- Researched building code items, materials, and similar building plans for 2 large commercial projects in New Orleans\\n\\t\\t- Reviewed building plans with engineering and design teams to evaluate for ADA compliance\\n\\t\\t- Collaborated with a team of 7 to research and identify suitable locations to install groundwater dams\\n\\n**Relevant Project Experience**\\n\\n* **Group Project, Senior Design Course, Hammond, LA**\\n\\t+ Collaborated with a 5-person team tasked with developing an action plan for addressing societal, environmental, regulatory, and economic constraints related to a local wastewater project\\n\\t+ Researched client needs and developed a solutions-based layout to best suit functionality requirements\\n\\t+ Served as project leader by organizing team meetings, tracking progress, and providing a forum for discussion\\n\\n**Memberships and Associations**\\n\\n* **The National Association of Environmental Professionals, Baton Rouge, LA**, January 2020 - Present\\n* **Louisiana Association of Environmental Professionals (LAEP), Baton Rouge, LA**, August 2020 - Present\\n\\n**Campus Involvement**\\n\\n* **Co-Captain, SLU Tennis Team, Hammond, LA**, August 2020 - May 2023\\n* **Member, Beta Gamma Sigma, SLU, Hammond, LA**, December 2019 - December 2020 (International Honor Society)\""
      ]
     },
     "execution_count": 46,
     "metadata": {},
     "output_type": "execute_result"
    }
   ],
   "source": [
    "from langchain.prompts import PromptTemplate\n",
    "from langchain_groq import ChatGroq\n",
    "from langchain_core.output_parsers import StrOutputParser, JsonOutputParser\n",
    "\n",
    "model_llama3_8b = \"llama3-8b-8192\"\n",
    "GROQ_LLM = ChatGroq(model=model_llama3_8b,)\n",
    "\n",
    "prompt = PromptTemplate(\n",
    "    template=\"\"\"\n",
    "<|begin_of_text|><|start_header_id|>system<|end_header_id|>\n",
    "You are a smart resume summary agent assistant\n",
    "\n",
    "<|eot_id|>\n",
    "<|start_header_id|>user<|end_header_id|>\n",
    "You will be given a resume and you need to split it into different sections like education, experience, skills, etc.\n",
    "The resume is given below:\\n\\n{resume_text} \n",
    "\n",
    "<|eot_id|>\n",
    "<|start_header_id|>assistant<|end_header_id|>\n",
    "    \"\"\".strip(' \\n'),\n",
    "    input_variables=[\"resume_text\"],\n",
    ")\n",
    "resume_parser_chain = prompt | GROQ_LLM | StrOutputParser()\n",
    "resume_parser_chain.invoke({'resume_text': resume})"
   ]
  },
  {
   "cell_type": "code",
   "execution_count": 37,
   "id": "6594761c-276a-441c-afa1-31ec8365acd0",
   "metadata": {
    "collapsed": true,
    "jupyter": {
     "outputs_hidden": true
    }
   },
   "outputs": [
    {
     "data": {
      "text/plain": [
       "{'name': 'Not present',\n",
       " 'contact_information': 'Not present',\n",
       " 'summary': 'Experienced in designing solutions for environmental problems that require integration of environmental and human health constraints compatible with economic growth, sustainable development, and ethical standards. Proficient with various modeling and drafting software including AutoCAD and ALGOR. Efficiently manage projects and collaborate with teams to accelerate the overarching goals of the company.',\n",
       " 'work_experience': 'American Pollution Control Corp., Chalmette, LA\\nEnvironmental Engineering Intern, June 2023 - August 2023\\n- Inspected sites and performed detailed monitoring of industrial pollution control measures with an environmental engineer based on state and local regulations\\n- Served on a committee dedicated to designing and implementing a new wastewater treatment system\\n- Investigated environmental projects onsite with a team of 3 engineers\\n\\nCargill, Breaux Bridge, LA\\nEngineer Intern, May 2022 - August 2022\\n- Researched building code items, materials, and similar building plans for 2 large commercial projects in New Orleans\\n- Reviewed building plans with engineering and design teams to evaluate for ADA compliance\\n- Collaborated with a team of 7 to research and identify suitable locations to install groundwater dams',\n",
       " 'education': 'Southeastern Louisiana University, Hammond, LA\\nBachelor of Science in Engineering Technology, Concentration: Electrical Energy Engineering, May 2024\\nCumulative GPA: 3.75/4.00\\nRelevant Coursework:\\n- Introduction to Programming\\n- Electrical Circuits\\n- Electromagnetics\\n- Programming for Technologists',\n",
       " 'skills': 'Modeling Programs: ALGOR, eQUEST, and EnergyPro (LEED project with a VRF system)\\nDrafting Software: AutoCAD, AutoCAD LT',\n",
       " 'certifications': 'Not present'}"
      ]
     },
     "execution_count": 37,
     "metadata": {},
     "output_type": "execute_result"
    }
   ],
   "source": [
    "#process output as dict \n",
    "output_dict = eval(output)\n",
    "output_dict"
   ]
  },
  {
   "cell_type": "markdown",
   "id": "f727c852-c71e-4df5-b797-4fad0dbb2a00",
   "metadata": {},
   "source": [
    "## schema"
   ]
  },
  {
   "cell_type": "code",
   "execution_count": 38,
   "id": "fade81fb-e6cf-4062-b469-5bfaa6faf81b",
   "metadata": {},
   "outputs": [
    {
     "name": "stdout",
     "output_type": "stream",
     "text": [
      "Name: Not present\n",
      "\n",
      "Contact Information: Not present\n",
      "\n",
      "Summary: Experienced in designing solutions for environmental problems that require integration of environmental and human health constraints compatible with economic growth, sustainable development, and ethical standards. Proficient with various modeling and drafting software including AutoCAD and ALGOR. Efficiently manage projects and collaborate with teams to accelerate the overarching goals of the company.\n",
      "\n",
      "Work Experience: American Pollution Control Corp., Chalmette, LA\n",
      "Environmental Engineering Intern, June 2023 - August 2023\n",
      "- Inspected sites and performed detailed monitoring of industrial pollution control measures with an environmental engineer based on state and local regulations\n",
      "- Served on a committee dedicated to designing and implementing a new wastewater treatment system\n",
      "- Investigated environmental projects onsite with a team of 3 engineers\n",
      "\n",
      "Cargill, Breaux Bridge, LA\n",
      "Engineer Intern, May 2022 - August 2022\n",
      "- Researched building code items, materials, and similar building plans for 2 large commercial projects in New Orleans\n",
      "- Reviewed building plans with engineering and design teams to evaluate for ADA compliance\n",
      "- Collaborated with a team of 7 to research and identify suitable locations to install groundwater dams\n",
      "\n",
      "Education: Southeastern Louisiana University, Hammond, LA\n",
      "Bachelor of Science in Engineering Technology, Concentration: Electrical Energy Engineering, May 2024\n",
      "Cumulative GPA: 3.75/4.00\n",
      "Relevant Coursework:\n",
      "- Introduction to Programming\n",
      "- Electrical Circuits\n",
      "- Electromagnetics\n",
      "- Programming for Technologists\n",
      "\n",
      "Skills: Modeling Programs: ALGOR, eQUEST, and EnergyPro (LEED project with a VRF system)\n",
      "Drafting Software: AutoCAD, AutoCAD LT\n",
      "\n",
      "Certifications: Not present\n",
      "\n",
      "\n"
     ]
    }
   ],
   "source": [
    "name = output_dict['name']\n",
    "contact_information = output_dict['contact_information']\n",
    "summary = output_dict['summary']\n",
    "work_experience = output_dict['work_experience']\n",
    "education = output_dict['education']\n",
    "skills = output_dict['skills']\n",
    "certifications = output_dict['certifications']\n",
    "\n",
    "st = \"\"\n",
    "st = st + \"Name: \" + name + \"\\n\\n\"\n",
    "st = st + \"Contact Information: \" + contact_information + \"\\n\\n\"\n",
    "st = st + \"Summary: \" + summary + \"\\n\\n\"\n",
    "st = st + \"Work Experience: \" + work_experience + \"\\n\\n\"\n",
    "st = st + \"Education: \" + education + \"\\n\\n\"\n",
    "st = st + \"Skills: \" + skills + \"\\n\\n\"\n",
    "st = st + \"Certifications: \" + certifications + \"\\n\\n\"\n",
    "print(st)"
   ]
  },
  {
   "cell_type": "code",
   "execution_count": 40,
   "id": "723802c4-f4b0-4ad7-aa04-612042866917",
   "metadata": {},
   "outputs": [
    {
     "name": "stdout",
     "output_type": "stream",
     "text": [
      "file_name = ./data/JohnDoeResume\n",
      "new_name = Not_present\n"
     ]
    }
   ],
   "source": [
    "#replace space in file name with underscore\n",
    "file_name = './data/JohnDoeResume.pdf'\n",
    "file_name = file_name.replace(\" \", \"_\")\n",
    "file_name = file_name.split(\".pdf\")[0]\n",
    "new_name = name.replace(\" \", \"_\")\n",
    "print(f\"file_name = {file_name}\")\n",
    "print(f\"new_name = {new_name}\")"
   ]
  },
  {
   "cell_type": "code",
   "execution_count": 42,
   "id": "881a2326-c261-4bfc-93e2-f770e9d8d6eb",
   "metadata": {},
   "outputs": [
    {
     "name": "stdout",
     "output_type": "stream",
     "text": [
      "{'id': 1,\n",
      " 'name': 'Not present',\n",
      " 'resume_content': 'Name: Not present\\n'\n",
      "                   '\\n'\n",
      "                   'Contact Information: Not present\\n'\n",
      "                   '\\n'\n",
      "                   'Summary: Experienced in designing solutions for '\n",
      "                   'environmental problems that require integration of '\n",
      "                   'environmental and human health constraints compatible with '\n",
      "                   'economic growth, sustainable development, and ethical '\n",
      "                   'standards. Proficient with various modeling and drafting '\n",
      "                   'software including AutoCAD and ALGOR. Efficiently manage '\n",
      "                   'projects and collaborate with teams to accelerate the '\n",
      "                   'overarching goals of the company.\\n'\n",
      "                   '\\n'\n",
      "                   'Work Experience: American Pollution Control Corp., '\n",
      "                   'Chalmette, LA\\n'\n",
      "                   'Environmental Engineering Intern, June 2023 - August 2023\\n'\n",
      "                   '- Inspected sites and performed detailed monitoring of '\n",
      "                   'industrial pollution control measures with an '\n",
      "                   'environmental engineer based on state and local '\n",
      "                   'regulations\\n'\n",
      "                   '- Served on a committee dedicated to designing and '\n",
      "                   'implementing a new wastewater treatment system\\n'\n",
      "                   '- Investigated environmental projects onsite with a team '\n",
      "                   'of 3 engineers\\n'\n",
      "                   '\\n'\n",
      "                   'Cargill, Breaux Bridge, LA\\n'\n",
      "                   'Engineer Intern, May 2022 - August 2022\\n'\n",
      "                   '- Researched building code items, materials, and similar '\n",
      "                   'building plans for 2 large commercial projects in New '\n",
      "                   'Orleans\\n'\n",
      "                   '- Reviewed building plans with engineering and design '\n",
      "                   'teams to evaluate for ADA compliance\\n'\n",
      "                   '- Collaborated with a team of 7 to research and identify '\n",
      "                   'suitable locations to install groundwater dams\\n'\n",
      "                   '\\n'\n",
      "                   'Education: Southeastern Louisiana University, Hammond, LA\\n'\n",
      "                   'Bachelor of Science in Engineering Technology, '\n",
      "                   'Concentration: Electrical Energy Engineering, May 2024\\n'\n",
      "                   'Cumulative GPA: 3.75/4.00\\n'\n",
      "                   'Relevant Coursework:\\n'\n",
      "                   '- Introduction to Programming\\n'\n",
      "                   '- Electrical Circuits\\n'\n",
      "                   '- Electromagnetics\\n'\n",
      "                   '- Programming for Technologists\\n'\n",
      "                   '\\n'\n",
      "                   'Skills: Modeling Programs: ALGOR, eQUEST, and EnergyPro '\n",
      "                   '(LEED project with a VRF system)\\n'\n",
      "                   'Drafting Software: AutoCAD, AutoCAD LT\\n'\n",
      "                   '\\n'\n",
      "                   'Certifications: Not present\\n'\n",
      "                   '\\n',\n",
      " 'resume_key': './data/JohnDoeResume_Not_present'}\n"
     ]
    }
   ],
   "source": [
    "#push the response to the database\n",
    "response = {\n",
    "    \"id\": 1 , \n",
    "    \"resume_key\": file_name + \"_\" + new_name,\n",
    "    \"name\": name,\n",
    "    \"resume_content\": st,\n",
    "}\n",
    "pprint(response)"
   ]
  },
  {
   "cell_type": "code",
   "execution_count": null,
   "id": "95f2d6f3-478a-42a7-88a3-34b987ec1815",
   "metadata": {},
   "outputs": [],
   "source": [
    "#delete the previous record with the same id\n",
    "data, count = supabase.table(table_name).delete().eq('id', 1).execute()\n",
    "\n",
    "#insert the new record\n",
    "data, count = supabase_client.table(table_name).insert(response).execute()\n",
    "\n",
    "return st"
   ]
  },
  {
   "cell_type": "code",
   "execution_count": null,
   "id": "5e3b6e7b-3661-46b1-b875-670ce4b0d983",
   "metadata": {},
   "outputs": [],
   "source": []
  }
 ],
 "metadata": {
  "kernelspec": {
   "display_name": "Python 3 (ipykernel)",
   "language": "python",
   "name": "python3"
  },
  "language_info": {
   "codemirror_mode": {
    "name": "ipython",
    "version": 3
   },
   "file_extension": ".py",
   "mimetype": "text/x-python",
   "name": "python",
   "nbconvert_exporter": "python",
   "pygments_lexer": "ipython3",
   "version": "3.12.3"
  }
 },
 "nbformat": 4,
 "nbformat_minor": 5
}
