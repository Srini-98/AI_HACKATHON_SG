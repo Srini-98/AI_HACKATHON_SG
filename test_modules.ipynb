{
 "cells": [
  {
   "cell_type": "markdown",
   "id": "8c0bfd4e-348e-41dd-9999-6ccdfd55e38e",
   "metadata": {},
   "source": [
    "# import"
   ]
  },
  {
   "cell_type": "code",
   "execution_count": 1,
   "id": "1f059ca0-f24d-4c87-979f-d8e1b1ee10ed",
   "metadata": {},
   "outputs": [],
   "source": [
    "%load_ext autoreload\n",
    "%autoreload 2"
   ]
  },
  {
   "cell_type": "code",
   "execution_count": 2,
   "id": "94520407-5710-43ac-a56f-e45e830c4a49",
   "metadata": {
    "scrolled": true
   },
   "outputs": [],
   "source": [
    "import os\n",
    "import pdb\n",
    "import time\n",
    "from pprint import pprint\n",
    "import requests\n",
    "import json\n",
    "\n",
    "import pandas as pd\n",
    "from dotenv import load_dotenv, find_dotenv\n",
    "from tqdm import tqdm"
   ]
  },
  {
   "cell_type": "code",
   "execution_count": 3,
   "id": "1094a208-a9b1-49cd-9530-d49a36dbdbe7",
   "metadata": {},
   "outputs": [],
   "source": [
    "from IPython.display import Markdown, display"
   ]
  },
  {
   "cell_type": "code",
   "execution_count": 4,
   "id": "40948eb8-aaa9-4136-903d-5c69ee2f1b10",
   "metadata": {},
   "outputs": [],
   "source": [
    "# Model\n",
    "load_dotenv(find_dotenv()) # read local .env file\n",
    "assert os.environ[\"JIGSAW_API_KEY\"]  != ''\n",
    "assert os.environ[\"JIGSAW_PUBLIC_KEY\"]  != ''\n",
    "assert os.environ[\"GROQ_API_KEY\"]  != ''"
   ]
  },
  {
   "cell_type": "raw",
   "id": "243f0ce1-7bd9-4300-9073-b772841761cb",
   "metadata": {},
   "source": [
    "from utils import RecruiterAgent"
   ]
  },
  {
   "attachments": {},
   "cell_type": "markdown",
   "id": "13204013-20fc-4a68-9993-b397ab361895",
   "metadata": {
    "jp-MarkdownHeadingCollapsed": true
   },
   "source": [
    "# Jigsaw"
   ]
  },
  {
   "cell_type": "code",
   "execution_count": 4,
   "id": "212a353c-77f5-4e01-b34a-bbab9ec400e1",
   "metadata": {},
   "outputs": [],
   "source": [
    "JIGSAW_API_KEY = os.environ[\"JIGSAW_API_KEY\"]"
   ]
  },
  {
   "cell_type": "code",
   "execution_count": 5,
   "id": "a14e6bb3-e55a-45d6-a51d-9556e8e04c62",
   "metadata": {},
   "outputs": [],
   "source": [
    "JIGSAW_PUBLIC_KEY = os.environ[\"JIGSAW_PUBLIC_KEY\"]"
   ]
  },
  {
   "cell_type": "markdown",
   "id": "4906fcfe-6a8f-4954-9152-a0eb63f6a8c5",
   "metadata": {},
   "source": [
    "## upload"
   ]
  },
  {
   "cell_type": "code",
   "execution_count": 6,
   "id": "19d52be5-e878-40f8-8daf-f42843bdbcb6",
   "metadata": {},
   "outputs": [
    {
     "name": "stdout",
     "output_type": "stream",
     "text": [
      "https://api.jigsawstack.com/v1/store/file?key=gettysburg.wav&overwrite=true\n"
     ]
    }
   ],
   "source": [
    "# Define the endpoint and the API key\n",
    "endpoint = \"https://api.jigsawstack.com/v1/store/file?key=gettysburg.wav&overwrite=true\"\n",
    "print(endpoint)\n",
    "\n",
    "# Define the headers\n",
    "headers = {\n",
    "    \"Content-Type\": \"audio/wav\",\n",
    "    \"x-api-key\": JIGSAW_API_KEY,\n",
    "}"
   ]
  },
  {
   "cell_type": "code",
   "execution_count": 7,
   "id": "5e8d4703-1a92-40a1-9229-1b6956e8ce09",
   "metadata": {},
   "outputs": [
    {
     "name": "stdout",
     "output_type": "stream",
     "text": [
      "{'success': True, 'url': 'https://api.jigsawstack.com/v1/store/file/gettysburg.wav', 'key': 'gettysburg.wav'}\n",
      "CPU times: user 45.2 ms, sys: 63.1 ms, total: 108 ms\n",
      "Wall time: 4.62 s\n"
     ]
    }
   ],
   "source": [
    "%%time\n",
    "# Define the body of the request\n",
    "body = open('data/gettysburg.wav', 'rb')\n",
    "\n",
    "# Make the POST request\n",
    "response = requests.post(endpoint,\n",
    "                         headers=headers,\n",
    "                         data=body\n",
    "                        )\n",
    "\n",
    "# Parse the JSON response\n",
    "data = response.json()\n",
    "\n",
    "# Print the result\n",
    "print(data)"
   ]
  },
  {
   "cell_type": "markdown",
   "id": "8d7c4563-6b2b-4fc8-9b72-30330ca97b28",
   "metadata": {},
   "source": [
    "## transcribe"
   ]
  },
  {
   "cell_type": "code",
   "execution_count": 8,
   "id": "baed2216-2e7b-4edf-b92c-13b2a6890847",
   "metadata": {},
   "outputs": [],
   "source": [
    "# Define the endpoint and the API key\n",
    "endpoint = \"https://api.jigsawstack.com/v1/ai/transcribe\"\n",
    "\n",
    "# Define the headers\n",
    "headers = {\n",
    "    \"Content-Type\": \"application/json\",\n",
    "    \"x-api-key\": JIGSAW_API_KEY,\n",
    "}\n",
    "\n",
    "# Define the body of the request\n",
    "body = {\n",
    "    \"file_store_key\": \"gettysburg.wav\",\n",
    "}"
   ]
  },
  {
   "cell_type": "code",
   "execution_count": 9,
   "id": "53e5251d-3c48-4f52-be97-d99776af16b1",
   "metadata": {},
   "outputs": [
    {
     "name": "stdout",
     "output_type": "stream",
     "text": [
      "https://api.jigsawstack.com/v1/ai/transcribe\n",
      "{'Content-Type': 'application/json', 'x-api-key': 'sk_acd188330c1f9f68e2bc78bd43d8166965a8dad216eb01cb95a0a338b962ef30639891eb20133044ef621920a9f2dde49c00b5f0eedb6977219e1843f0d7688d024AFgZoUHfu6FCv1Hjg4'}\n",
      "{'file_store_key': 'gettysburg.wav'}\n"
     ]
    }
   ],
   "source": [
    "print(endpoint)\n",
    "print(headers)\n",
    "print(body)"
   ]
  },
  {
   "cell_type": "code",
   "execution_count": 10,
   "id": "e618357b-77c7-44ef-af40-6af08bc21dce",
   "metadata": {},
   "outputs": [
    {
     "name": "stdout",
     "output_type": "stream",
     "text": [
      "{'success': True, 'text': ' four score and seven years ago our fathers brought forth on this continent a new nation conceived in liberty and dedicated to the proposition that all men are created equal now we are engaged in a great civil war testing whether that nation or any nation so conceived and so dedicated can long endure', 'chunks': [{'timestamp': [0, 17.58], 'text': ' four score and seven years ago our fathers brought forth on this continent a new nation conceived in liberty and dedicated to the proposition that all men are created equal now we are engaged in a great civil war testing whether that nation or any nation so conceived and so dedicated can long endure'}]}\n",
      "CPU times: user 11.4 ms, sys: 1.08 ms, total: 12.5 ms\n",
      "Wall time: 37.6 s\n"
     ]
    }
   ],
   "source": [
    "%%time\n",
    "# Make the POST request\n",
    "response = requests.post(endpoint,\n",
    "                         headers=headers,\n",
    "                         data=json.dumps(body)\n",
    "                        )\n",
    "\n",
    "# Parse the JSON response\n",
    "data = response.json()\n",
    "\n",
    "# Print the result\n",
    "print(data)"
   ]
  },
  {
   "cell_type": "code",
   "execution_count": 11,
   "id": "f0d66519-ec5d-4595-ba34-b29240d0ed92",
   "metadata": {},
   "outputs": [
    {
     "name": "stdout",
     "output_type": "stream",
     "text": [
      "{'success': True, 'text': ' four score and seven years ago our fathers brought forth on this continent a new nation conceived in liberty and dedicated to the proposition that all men are created equal now we are engaged in a great civil war testing whether that nation or any nation so conceived and so dedicated can long endure', 'chunks': [{'timestamp': [0, 17.58], 'text': ' four score and seven years ago our fathers brought forth on this continent a new nation conceived in liberty and dedicated to the proposition that all men are created equal now we are engaged in a great civil war testing whether that nation or any nation so conceived and so dedicated can long endure'}]}\n",
      "CPU times: user 6.02 ms, sys: 18.1 ms, total: 24.1 ms\n",
      "Wall time: 6.99 s\n"
     ]
    }
   ],
   "source": [
    "%%time\n",
    "# Define the endpoint and the API key\n",
    "endpoint = \"https://api.jigsawstack.com/v1/ai/transcribe\"\n",
    "\n",
    "# Define the headers\n",
    "headers = {\n",
    "    \"Content-Type\": \"application/json\",\n",
    "    \"x-api-key\": JIGSAW_API_KEY,\n",
    "}\n",
    "\n",
    "# Define the body of the request\n",
    "body = {\n",
    "    \"file_store_key\": \"gettysburg.wav\",\n",
    "}\n",
    "\n",
    "# Make the POST request\n",
    "response = requests.post(endpoint,\n",
    "                         headers=headers,\n",
    "                         data=json.dumps(body)\n",
    "                        )\n",
    "\n",
    "# Parse the JSON response\n",
    "data = response.json()\n",
    "\n",
    "# Print the result\n",
    "print(data)"
   ]
  },
  {
   "cell_type": "markdown",
   "id": "9436a123-3774-406f-bc16-fd8d6e4c5ec7",
   "metadata": {
    "jp-MarkdownHeadingCollapsed": true
   },
   "source": [
    "# Groq (resume parser)"
   ]
  },
  {
   "cell_type": "code",
   "execution_count": 12,
   "id": "9c7ceffe-11ad-4a0b-aa59-73e5636b1796",
   "metadata": {},
   "outputs": [],
   "source": [
    "os.environ[\"GROQ_KEY\"] = os.environ[\"GROQ_API_KEY\"]"
   ]
  },
  {
   "cell_type": "code",
   "execution_count": 15,
   "id": "7cb2480f-b923-40e4-b5ca-05dfcd857681",
   "metadata": {},
   "outputs": [],
   "source": [
    "import PyPDF2"
   ]
  },
  {
   "cell_type": "code",
   "execution_count": 13,
   "id": "2002d86f-6479-4f7f-8bfb-1c836e4cccfb",
   "metadata": {},
   "outputs": [],
   "source": [
    "from splitResume import get_response"
   ]
  },
  {
   "cell_type": "code",
   "execution_count": 16,
   "id": "5fbe372b-0af2-42ce-9ee1-235cce0bde33",
   "metadata": {},
   "outputs": [],
   "source": [
    "uploaded_file = \"./data/JohnDoeResume.pdf\"\n",
    "\n",
    "pdfReader = PyPDF2.PdfReader(uploaded_file)\n",
    "resume_text = \"\\n\"\n",
    "for pageObj in pdfReader.pages:\n",
    "    current_text = pageObj.extract_text()\n",
    "    resume_text += f\"{current_text}\\n\"\n",
    "\n",
    "response = get_response(resume_text)"
   ]
  },
  {
   "cell_type": "code",
   "execution_count": 18,
   "id": "859e0031-bba7-4e21-b7c9-48c92f3b1df5",
   "metadata": {
    "scrolled": true
   },
   "outputs": [
    {
     "data": {
      "text/markdown": [
       "Here is the resume split into different sections:\n",
       "\n",
       "**Contact Information**\n",
       "\n",
       "* Name: John Doe\n",
       "* Address: Simei Street 1, (520133)\n",
       "* Email: [John_Doe@hotmail.com](mailto:John_Doe@hotmail.com)\n",
       "* LinkedIn: https://www.linkedin.com/in/john-doe-840510214\n",
       "\n",
       "**Summary of Qualifications**\n",
       "\n",
       "* Experienced in designing solutions for environmental problems\n",
       "* Proficient in various modeling and drafting software\n",
       "* Efficiently manages projects and collaborates with teams\n",
       "\n",
       "**Education**\n",
       "\n",
       "* Institution: Southeastern Louisiana University, Hammond, LA\n",
       "* Degree: Bachelor of Science in Engineering Technology, Concentration: Electrical Energy Engineering\n",
       "* Graduation Date: May 2024\n",
       "* Cumulative GPA: 3.75/4.00\n",
       "* Relevant Coursework:\n",
       "\t+ Introduction to Programming\n",
       "\t+ Electrical Circuits\n",
       "\t+ Electromagnetics\n",
       "\t+ Programming for Technologists\n",
       "\n",
       "**Technical Proficiencies**\n",
       "\n",
       "* Modeling Programs:\n",
       "\t+ ALGOR\n",
       "\t+ eQUEST\n",
       "\t+ EnergyPro (LEED project with a VRF system)\n",
       "* Drafting Software:\n",
       "\t+ AutoCAD\n",
       "\t+ AutoCAD LT\n",
       "\n",
       "**Experience**\n",
       "\n",
       "* American Pollution Control Corp., Environmental Engineering Intern, Chalmette, LA (June 2023 - August 2023)\n",
       "\t+ Inspected sites and performed detailed monitoring of industrial pollution control measures\n",
       "\t+ Served on a committee dedicated to designing and implementing a new wastewater treatment system\n",
       "\t+ Investigated environmental projects onsite with a team of 3 engineers\n",
       "* Cargill, Engineer Intern, Breaux Bridge, LA (May 2022 - August 2022)\n",
       "\t+ Researched building code items, materials, and similar building plans for 2 large commercial projects in New Orleans\n",
       "\t+ Reviewed building plans with engineering and design teams to evaluate for ADA compliance\n",
       "\t+ Collaborated with a team of 7 to research and identify suitable locations to install groundwater dams\n",
       "\n",
       "**Project Experience**\n",
       "\n",
       "* Group Project, Senior Design Course, Hammond, LA (January - March 2023)\n",
       "\t+ Collaborated with a 5-person team to develop an action plan for addressing societal, environmental, regulatory, and economic constraints related to a local wastewater project\n",
       "\t+ Researched client needs and developed a solutions-based layout to best suit functionality requirements\n",
       "\t+ Served as project leader by organizing team meetings, tracking progress, and providing a forum for discussion\n",
       "\n",
       "**Memberships and Associations**\n",
       "\n",
       "* The National Association of Environmental Professionals, Baton Rouge, LA (January 2020 - Present)\n",
       "* Louisiana Association of Environmental Professionals (LAEP), Baton Rouge, LA (August 2020 - Present)\n",
       "\n",
       "**Campus Involvement**\n",
       "\n",
       "* Co-Captain, SLU Tennis Team, Hammond, LA (August 2020 - May 2023)\n",
       "* Member, Beta Gamma Sigma, SLU, Hammond, LA (December 2019 - December 2020)"
      ],
      "text/plain": [
       "<IPython.core.display.Markdown object>"
      ]
     },
     "metadata": {},
     "output_type": "display_data"
    }
   ],
   "source": [
    "display(Markdown(response))"
   ]
  },
  {
   "cell_type": "code",
   "execution_count": null,
   "id": "d3fbfca4-f114-49b7-89ba-7f11a97df230",
   "metadata": {},
   "outputs": [],
   "source": []
  },
  {
   "cell_type": "markdown",
   "id": "595d9c0d-01bb-4a4e-a0af-80519555fc9e",
   "metadata": {
    "jp-MarkdownHeadingCollapsed": true
   },
   "source": [
    "# Graph"
   ]
  },
  {
   "cell_type": "code",
   "execution_count": 38,
   "id": "918be63d-7e65-4eb0-a5d9-cb78f28ae56d",
   "metadata": {},
   "outputs": [],
   "source": [
    "from typing_extensions import TypedDict\n",
    "from langgraph.graph import END, StateGraph\n",
    "from PIL import Image\n",
    "import io"
   ]
  },
  {
   "cell_type": "code",
   "execution_count": 39,
   "id": "803bb589-d98e-4406-b77e-139b84bf2a0a",
   "metadata": {},
   "outputs": [],
   "source": [
    "class GraphState(TypedDict):\n",
    "    \"\"\"\n",
    "    Represents the state of our graph.\n",
    "\n",
    "    Attributes:\n",
    "        question: question about the candidate\n",
    "        attachment: {'audio': path, 'resume': path}\n",
    "        answer: Agent's answer to question\n",
    "    \"\"\"\n",
    "    question : str\n",
    "    attachment : dict\n",
    "    answer : str\n",
    "    # aggregate: Annotated[list, operator.add]"
   ]
  },
  {
   "cell_type": "code",
   "execution_count": 46,
   "id": "7bad888a-7a9e-4e09-b25c-0b644c434094",
   "metadata": {},
   "outputs": [
    {
     "name": "stdout",
     "output_type": "stream",
     "text": [
      "\n",
      "--- setup_agent\n",
      "done\n"
     ]
    }
   ],
   "source": [
    "def _node_get_intent(state):\n",
    "    state\n",
    "    return state\n",
    "def _node_resume_parser(state):\n",
    "    resume_path = state['resume']\n",
    "    print(f'Uploaded resume from {resume_path}')\n",
    "    return state\n",
    "def _node_speech_parser(state):\n",
    "    speech_path = state['speech']\n",
    "    print(f'Uploaded speech from {speech_path}')\n",
    "    return state\n",
    "\n",
    "def _edge_xxx1():\n",
    "    return \"upload_resume\"\n",
    "    return \"upload_speech\"\n",
    "    return \"get_summary\"\n",
    "    return \"ask_question\"\n",
    "\n",
    "def _edge_xxx2():\n",
    "    return \"resume_parser\"\n",
    "    return \"speech_parser\"\n",
    "    return \"end\"\n",
    "\n",
    "def setup_agent():\n",
    "    print('\\n--- setup_agent')\n",
    "    # langgraph.graph\n",
    "    workflow = StateGraph(GraphState)\n",
    "\n",
    "    ## Define the nodes\n",
    "    workflow.add_node(\"NODE_get_intent\", _node_get_intent)\n",
    "    workflow.add_node(\"NODE_resume_parser\", _node_resume_parser)\n",
    "    workflow.add_node(\"NODE_speech_parser\", _node_speech_parser)\n",
    "    workflow.add_node(\"NODE_store_data\", _node_xxx)\n",
    "    workflow.add_node(\"NODE_summary\", _node_xxx)\n",
    "    workflow.add_node(\"NODE_qna\", _node_xxx)\n",
    "\n",
    "    ## Add Edges\n",
    "    workflow.set_entry_point(\"NODE_intent\")\n",
    "    workflow.add_conditional_edges(\n",
    "        \"NODE_intent\",\n",
    "        _edge_xxx1,\n",
    "        {\n",
    "            \"upload_resume\": \"NODE_resume_parser\",\n",
    "            \"upload_speech\": \"NODE_speech_parser\",\n",
    "            \"get_summary\": \"NODE_summary\",\n",
    "            \"ask_question\": \"NODE_qna\",\n",
    "        },\n",
    "    )\n",
    "\n",
    "    workflow.add_edge(\"NODE_resume_parser\", \"NODE_store_data\")\n",
    "    workflow.add_edge(\"NODE_speech_parser\", \"NODE_store_data\")\n",
    "    ## To sink node\n",
    "    workflow.add_edge(\"NODE_store_data\", END)\n",
    "    workflow.add_edge(\"NODE_summary\", END)\n",
    "    workflow.add_edge(\"NODE_qna\", END)\n",
    "\n",
    "    # Compile\n",
    "    app = workflow.compile()\n",
    "\n",
    "    # Show Image\n",
    "    app_img = app.get_graph().draw_mermaid_png()\n",
    "    image = Image.open(io.BytesIO(app_img))\n",
    "    image.save(\"graph.png\")\n",
    "\n",
    "    return app\n",
    "\n",
    "app = setup_agent()\n",
    "print('done')"
   ]
  },
  {
   "cell_type": "markdown",
   "id": "778277dc-057d-4fa7-836b-eb562d98837b",
   "metadata": {},
   "source": [
    "# Call"
   ]
  },
  {
   "cell_type": "code",
   "execution_count": 5,
   "id": "49e44e00-4fe3-4edb-83e7-10425b8e323e",
   "metadata": {},
   "outputs": [],
   "source": [
    "from typing_extensions import TypedDict\n",
    "from langgraph.graph import END, StateGraph\n",
    "from PIL import Image\n",
    "import io"
   ]
  },
  {
   "cell_type": "code",
   "execution_count": 6,
   "id": "6d6a0ff2-0bbb-47df-8c5d-03206569dfd4",
   "metadata": {},
   "outputs": [],
   "source": [
    "from utils import RecruiterAgent"
   ]
  },
  {
   "cell_type": "code",
   "execution_count": 7,
   "id": "2ffd7147-11d7-4903-a54a-8b69b264d768",
   "metadata": {},
   "outputs": [
    {
     "name": "stdout",
     "output_type": "stream",
     "text": [
      "\n",
      "--- load_llm_model\n",
      "\tUsing llama3-8b-8192\n",
      "\n",
      "--- setup_chains\n",
      "\t _chain_resume_parser\n",
      "\t _chain_speech_parser\n",
      "\t _chain_question_answering\n"
     ]
    }
   ],
   "source": [
    "recruiter_agent = RecruiterAgent()"
   ]
  },
  {
   "cell_type": "code",
   "execution_count": 10,
   "id": "5b1230ce-83c8-4fe8-aa9c-c8f7c3e25e35",
   "metadata": {},
   "outputs": [
    {
     "name": "stdout",
     "output_type": "stream",
     "text": [
      "\n",
      "--- setup_agent\n"
     ]
    }
   ],
   "source": [
    "app = recruiter_agent.setup_agent()\n",
    "recruiter_agent.verbose = True"
   ]
  },
  {
   "cell_type": "code",
   "execution_count": 11,
   "id": "67d0420d-b47a-47e8-962c-edc0a65a83a7",
   "metadata": {},
   "outputs": [
    {
     "name": "stdout",
     "output_type": "stream",
     "text": [
      "\t intent = ask_question\n",
      "---[EDGE] _edge_routing_to_agents---\n",
      "self.state = {}\n"
     ]
    },
    {
     "data": {
      "text/plain": [
       "{'question': 'hi',\n",
       " 'intent': 'ask_question',\n",
       " 'attachment': None,\n",
       " 'answer': '\\nHello! It seems like you said \"hi\" without any specific question or topic. Is there something on your mind that you\\'d like to talk about or ask? I\\'m here to listen and help if I can!'}"
      ]
     },
     "execution_count": 11,
     "metadata": {},
     "output_type": "execute_result"
    }
   ],
   "source": [
    "input_data = {\n",
    "    'question': 'hi'\n",
    "}\n",
    "app.invoke(input_data)"
   ]
  },
  {
   "cell_type": "code",
   "execution_count": 12,
   "id": "fc3d561b-a909-4352-b8d2-00d37dc3992e",
   "metadata": {
    "scrolled": true
   },
   "outputs": [
    {
     "name": "stdout",
     "output_type": "stream",
     "text": [
      "\t intent = upload_resume\n",
      "---[EDGE] _edge_routing_to_agents---\n",
      "\tUploaded resume from ./data/JohnDoeResume.pdf\n",
      "\tendpoint = https://api.jigsawstack.com/v1/store/file?key=JohnDoeResume.pdf&overwrite=true\n",
      "\tdata = {'success': True, 'url': 'https://api.jigsawstack.com/v1/store/file/JohnDoeResume.pdf', 'key': 'JohnDoeResume.pdf'}\n",
      "\tresume_content = \n",
      "Based on the provided resume, I have categorized the information into the following sections:\n",
      "\n",
      "**Summary**\n",
      "\n",
      "* Summary of qualifications, highlighting John Doe's experience in designing solutions for environmental problems, proficiency in modeling and drafting software, and ability to manage projects and collaborate with teams.\n",
      "\n",
      "**Education**\n",
      "\n",
      "* Bachelor of Science in Engineering Technology, Southeastern Louisiana University, May 2024\n",
      "\t+ Concentration: Electrical Energy Engineering\n",
      "\t+ Cumulative GPA: 3.75/4.00\n",
      "\t+ Relevant Coursework: Introduction to Programming, Electrical Circuits, Electromagnetics, Programming for Technologists\n",
      "\n",
      "**Technical Proficiencies**\n",
      "\n",
      "* Modeling Programs: ALGOR, eQUEST, EnergyPro\n",
      "* Drafting Software: AutoCAD, AutoCAD LT\n",
      "\n",
      "**Relevant Experience**\n",
      "\n",
      "* American Pollution Control Corp., June 2023 – August 2023\n",
      "\t+ Environmental Engineering Intern\n",
      "\t+ Inspected sites and performed detailed monitoring of industrial pollution control measures\n",
      "\t+ Served on a committee to design and implement a new wastewater treatment system\n",
      "\t+ Investigated environmental projects onsite with a team of 3 engineers\n",
      "* Cargill, May 2022 – August 2022\n",
      "\t+ Engineer Intern\n",
      "\t+ Researched building code items, materials, and similar building plans for 2 large commercial projects in New Orleans\n",
      "\t+ Reviewed building plans with engineering and design teams to evaluate for ADA compliance\n",
      "\t+ Collaborated with a team of 7 to research and identify suitable locations to install groundwater dams\n",
      "\n",
      "**Relevant Project Experience**\n",
      "\n",
      "* Group Project, Senior Design Course, January – March 2023\n",
      "\t+ Collaborated with a 5-person team to develop an action plan for addressing societal, environmental, regulatory, and economic constraints related to a local wastewater project\n",
      "\t+ Researched client needs and developed a solutions-based layout to best suit functionality requirements\n",
      "\t+ Served as project leader by organizing team meetings, tracking progress, and providing a forum for discussion\n",
      "\n",
      "**Memberships and Associations**\n",
      "\n",
      "* The National Association of Environmental Professionals, Baton Rouge, LA, January 2020 – Present\n",
      "* Louisiana Association of Environmental Professionals (LAEP), Baton Rouge, LA, August 2020 – Present\n",
      "\n",
      "**Campus Involvement**\n",
      "\n",
      "* Co-Captain, SLU Tennis Team, Hammond, LA, August 2020 – May 2023\n",
      "\t+ Instrumental in team motivation, encouragement, and success\n",
      "* Member, Beta Gamma Sigma, SLU, Hammond, LA, December 2019 – December 2020\n",
      "\t+ International Honor Society\n",
      "CPU times: user 47.9 ms, sys: 8.57 ms, total: 56.5 ms\n",
      "Wall time: 5.98 s\n"
     ]
    },
    {
     "data": {
      "text/plain": [
       "{'question': None,\n",
       " 'intent': 'upload_resume',\n",
       " 'attachment': './data/JohnDoeResume.pdf',\n",
       " 'resume_key': 'JohnDoeResume.pdf',\n",
       " 'resume_content': \"Based on the provided resume, I have categorized the information into the following sections:\\n\\n**Summary**\\n\\n* Summary of qualifications, highlighting John Doe's experience in designing solutions for environmental problems, proficiency in modeling and drafting software, and ability to manage projects and collaborate with teams.\\n\\n**Education**\\n\\n* Bachelor of Science in Engineering Technology, Southeastern Louisiana University, May 2024\\n\\t+ Concentration: Electrical Energy Engineering\\n\\t+ Cumulative GPA: 3.75/4.00\\n\\t+ Relevant Coursework: Introduction to Programming, Electrical Circuits, Electromagnetics, Programming for Technologists\\n\\n**Technical Proficiencies**\\n\\n* Modeling Programs: ALGOR, eQUEST, EnergyPro\\n* Drafting Software: AutoCAD, AutoCAD LT\\n\\n**Relevant Experience**\\n\\n* American Pollution Control Corp., June 2023 – August 2023\\n\\t+ Environmental Engineering Intern\\n\\t+ Inspected sites and performed detailed monitoring of industrial pollution control measures\\n\\t+ Served on a committee to design and implement a new wastewater treatment system\\n\\t+ Investigated environmental projects onsite with a team of 3 engineers\\n* Cargill, May 2022 – August 2022\\n\\t+ Engineer Intern\\n\\t+ Researched building code items, materials, and similar building plans for 2 large commercial projects in New Orleans\\n\\t+ Reviewed building plans with engineering and design teams to evaluate for ADA compliance\\n\\t+ Collaborated with a team of 7 to research and identify suitable locations to install groundwater dams\\n\\n**Relevant Project Experience**\\n\\n* Group Project, Senior Design Course, January – March 2023\\n\\t+ Collaborated with a 5-person team to develop an action plan for addressing societal, environmental, regulatory, and economic constraints related to a local wastewater project\\n\\t+ Researched client needs and developed a solutions-based layout to best suit functionality requirements\\n\\t+ Served as project leader by organizing team meetings, tracking progress, and providing a forum for discussion\\n\\n**Memberships and Associations**\\n\\n* The National Association of Environmental Professionals, Baton Rouge, LA, January 2020 – Present\\n* Louisiana Association of Environmental Professionals (LAEP), Baton Rouge, LA, August 2020 – Present\\n\\n**Campus Involvement**\\n\\n* Co-Captain, SLU Tennis Team, Hammond, LA, August 2020 – May 2023\\n\\t+ Instrumental in team motivation, encouragement, and success\\n* Member, Beta Gamma Sigma, SLU, Hammond, LA, December 2019 – December 2020\\n\\t+ International Honor Society\",\n",
       " 'answer': ''}"
      ]
     },
     "execution_count": 12,
     "metadata": {},
     "output_type": "execute_result"
    }
   ],
   "source": [
    "%%time\n",
    "# recruiter_agent = RecruiterAgent()\n",
    "# app = recruiter_agent.setup_agent()\n",
    "# recruiter_agent.verbose = True\n",
    "input_data = {    'attachment': './data/JohnDoeResume.pdf'}\n",
    "resume_output = app.invoke(input_data)\n",
    "resume_output"
   ]
  },
  {
   "cell_type": "code",
   "execution_count": 13,
   "id": "a162f2c0-6484-413c-85e0-e4d101ae655f",
   "metadata": {},
   "outputs": [
    {
     "name": "stdout",
     "output_type": "stream",
     "text": [
      "\t intent = ask_question\n",
      "---[EDGE] _edge_routing_to_agents---\n",
      "self.state = {'resume_content': \"Based on the provided resume, I have categorized the information into the following sections:\\n\\n**Summary**\\n\\n* Summary of qualifications, highlighting John Doe's experience in designing solutions for environmental problems, proficiency in modeling and drafting software, and ability to manage projects and collaborate with teams.\\n\\n**Education**\\n\\n* Bachelor of Science in Engineering Technology, Southeastern Louisiana University, May 2024\\n\\t+ Concentration: Electrical Energy Engineering\\n\\t+ Cumulative GPA: 3.75/4.00\\n\\t+ Relevant Coursework: Introduction to Programming, Electrical Circuits, Electromagnetics, Programming for Technologists\\n\\n**Technical Proficiencies**\\n\\n* Modeling Programs: ALGOR, eQUEST, EnergyPro\\n* Drafting Software: AutoCAD, AutoCAD LT\\n\\n**Relevant Experience**\\n\\n* American Pollution Control Corp., June 2023 – August 2023\\n\\t+ Environmental Engineering Intern\\n\\t+ Inspected sites and performed detailed monitoring of industrial pollution control measures\\n\\t+ Served on a committee to design and implement a new wastewater treatment system\\n\\t+ Investigated environmental projects onsite with a team of 3 engineers\\n* Cargill, May 2022 – August 2022\\n\\t+ Engineer Intern\\n\\t+ Researched building code items, materials, and similar building plans for 2 large commercial projects in New Orleans\\n\\t+ Reviewed building plans with engineering and design teams to evaluate for ADA compliance\\n\\t+ Collaborated with a team of 7 to research and identify suitable locations to install groundwater dams\\n\\n**Relevant Project Experience**\\n\\n* Group Project, Senior Design Course, January – March 2023\\n\\t+ Collaborated with a 5-person team to develop an action plan for addressing societal, environmental, regulatory, and economic constraints related to a local wastewater project\\n\\t+ Researched client needs and developed a solutions-based layout to best suit functionality requirements\\n\\t+ Served as project leader by organizing team meetings, tracking progress, and providing a forum for discussion\\n\\n**Memberships and Associations**\\n\\n* The National Association of Environmental Professionals, Baton Rouge, LA, January 2020 – Present\\n* Louisiana Association of Environmental Professionals (LAEP), Baton Rouge, LA, August 2020 – Present\\n\\n**Campus Involvement**\\n\\n* Co-Captain, SLU Tennis Team, Hammond, LA, August 2020 – May 2023\\n\\t+ Instrumental in team motivation, encouragement, and success\\n* Member, Beta Gamma Sigma, SLU, Hammond, LA, December 2019 – December 2020\\n\\t+ International Honor Society\"}\n",
      "CPU times: user 13.4 ms, sys: 2.19 ms, total: 15.6 ms\n",
      "Wall time: 693 ms\n"
     ]
    },
    {
     "data": {
      "text/plain": [
       "{'question': 'what is the educational history ?',\n",
       " 'intent': 'ask_question',\n",
       " 'attachment': None,\n",
       " 'answer': '\\n\\nJohn Doe has a Bachelor of Science in Engineering Technology from Southeastern Louisiana University, with a concentration in Electrical Energy Engineering. He achieved a cumulative GPA of 3.75/4.00 and completed relevant coursework in programming, electrical circuits, electromagnetics, and programming for technologists.\\n\\n'}"
      ]
     },
     "execution_count": 13,
     "metadata": {},
     "output_type": "execute_result"
    }
   ],
   "source": [
    "%%time\n",
    "# recruiter_agent = RecruiterAgent()\n",
    "# app = recruiter_agent.setup_agent()\n",
    "# recruiter_agent.verbose = True\n",
    "input_data = {    'question': 'what is the educational history ?'}\n",
    "app.invoke(input_data)"
   ]
  },
  {
   "cell_type": "code",
   "execution_count": 14,
   "id": "97ed3cef-e09b-4c38-b594-0c95f92b2b3d",
   "metadata": {
    "scrolled": true
   },
   "outputs": [
    {
     "name": "stdout",
     "output_type": "stream",
     "text": [
      "\t intent = upload_speech\n",
      "---[EDGE] _edge_routing_to_agents---\n",
      "\tUploaded speech from ./data/gettysburg.wav\n",
      "\tendpoint = https://api.jigsawstack.com/v1/store/file?key=gettysburg.wav&overwrite=true\n",
      "\tdata = {'success': True, 'url': 'https://api.jigsawstack.com/v1/store/file/gettysburg.wav', 'key': 'gettysburg.wav'}\n",
      "\tendpoint = https://api.jigsawstack.com/v1/ai/transcribe\n",
      "\tbody = {'file_store_key': 'gettysburg.wav'}\n",
      "\tdata = {'success': True, 'text': ' four score and seven years ago our fathers brought forth on this continent a new nation conceived in liberty and dedicated to the proposition that all men are created equal now we are engaged in a great civil war testing whether that nation or any nation so conceived and so dedicated can long endure', 'chunks': [{'timestamp': [0, 17.58], 'text': ' four score and seven years ago our fathers brought forth on this continent a new nation conceived in liberty and dedicated to the proposition that all men are created equal now we are engaged in a great civil war testing whether that nation or any nation so conceived and so dedicated can long endure'}]}\n",
      "\tspeech_transcribed = \n",
      " four score and seven years ago our fathers brought forth on this continent a new nation conceived in liberty and dedicated to the proposition that all men are created equal now we are engaged in a great civil war testing whether that nation or any nation so conceived and so dedicated can long endure\n",
      "\tspeech_keypoints = \n",
      "Based on the transcript, I can extract the following information:\n",
      "\n",
      "<json>\n",
      "{\n",
      "  \"Name\": null,\n",
      "  \"Gender\": null,\n",
      "  \"Languages\": null,\n",
      "  \"Country\": null,\n",
      "  \"Work Pass Type\": null,\n",
      "  \"Nationality\": null,\n",
      "  \"Notice Period\": null,\n",
      "  \"Reason for looking out\": null,\n",
      "  \"Looking for in next move\": null,\n",
      "  \"Other Interviews in pipeline\": null,\n",
      "  \"Current Salary\": null,\n",
      "  \"Expected Salary\": null,\n",
      "  \"Identity\": null,\n",
      "  \"Open to Consulting model\": null,\n",
      "  \"Current Annual Leave days\": null,\n",
      "  \"Worked for Client Before or no\": null,\n",
      "  \"Hiring for other roles?\": null,\n",
      "  \"General Notes\": null\n",
      "}\n",
      "</json>\n",
      "\n",
      "The provided transcript appears to be a passage from the Gettysburg Address, a famous speech delivered by President Abraham Lincoln in 1863. It does not contain any information about a job candidate or the requested details. Therefore, all the values are set to null.\n",
      "\tspeech_keypoints = \n",
      "\n",
      "{\n",
      "  \"Name\": null,\n",
      "  \"Gender\": null,\n",
      "  \"Languages\": null,\n",
      "  \"Country\": null,\n",
      "  \"Work Pass Type\": null,\n",
      "  \"Nationality\": null,\n",
      "  \"Notice Period\": null,\n",
      "  \"Reason for looking out\": null,\n",
      "  \"Looking for in next move\": null,\n",
      "  \"Other Interviews in pipeline\": null,\n",
      "  \"Current Salary\": null,\n",
      "  \"Expected Salary\": null,\n",
      "  \"Identity\": null,\n",
      "  \"Open to Consulting model\": null,\n",
      "  \"Current Annual Leave days\": null,\n",
      "  \"Worked for Client Before or no\": null,\n",
      "  \"Hiring for other roles?\": null,\n",
      "  \"General Notes\": null\n",
      "}\n",
      "\n",
      "CPU times: user 26.1 ms, sys: 10.9 ms, total: 37 ms\n",
      "Wall time: 41 s\n"
     ]
    },
    {
     "data": {
      "text/plain": [
       "{'question': None,\n",
       " 'intent': 'upload_speech',\n",
       " 'attachment': './data/gettysburg.wav',\n",
       " 'speech_transcribed': ' four score and seven years ago our fathers brought forth on this continent a new nation conceived in liberty and dedicated to the proposition that all men are created equal now we are engaged in a great civil war testing whether that nation or any nation so conceived and so dedicated can long endure',\n",
       " 'speech_keypoints': '\\n{\\n  \"Name\": null,\\n  \"Gender\": null,\\n  \"Languages\": null,\\n  \"Country\": null,\\n  \"Work Pass Type\": null,\\n  \"Nationality\": null,\\n  \"Notice Period\": null,\\n  \"Reason for looking out\": null,\\n  \"Looking for in next move\": null,\\n  \"Other Interviews in pipeline\": null,\\n  \"Current Salary\": null,\\n  \"Expected Salary\": null,\\n  \"Identity\": null,\\n  \"Open to Consulting model\": null,\\n  \"Current Annual Leave days\": null,\\n  \"Worked for Client Before or no\": null,\\n  \"Hiring for other roles?\": null,\\n  \"General Notes\": null\\n}\\n',\n",
       " 'answer': ''}"
      ]
     },
     "execution_count": 14,
     "metadata": {},
     "output_type": "execute_result"
    }
   ],
   "source": [
    "%%time\n",
    "# recruiter_agent = RecruiterAgent()\n",
    "# app = recruiter_agent.setup_agent()\n",
    "# recruiter_agent.verbose = True\n",
    "input_data = { 'attachment': './data/gettysburg.wav' }\n",
    "speech_output = app.invoke(input_data)\n",
    "speech_output"
   ]
  },
  {
   "cell_type": "code",
   "execution_count": 16,
   "id": "946656b9-2a0c-4e23-b8e0-561ca3e7de2d",
   "metadata": {},
   "outputs": [
    {
     "name": "stdout",
     "output_type": "stream",
     "text": [
      "\t intent = ask_question\n",
      "---[EDGE] _edge_routing_to_agents---\n",
      "self.state = {'resume_content': \"Based on the provided resume, I have categorized the information into the following sections:\\n\\n**Summary**\\n\\n* Summary of qualifications, highlighting John Doe's experience in designing solutions for environmental problems, proficiency in modeling and drafting software, and ability to manage projects and collaborate with teams.\\n\\n**Education**\\n\\n* Bachelor of Science in Engineering Technology, Southeastern Louisiana University, May 2024\\n\\t+ Concentration: Electrical Energy Engineering\\n\\t+ Cumulative GPA: 3.75/4.00\\n\\t+ Relevant Coursework: Introduction to Programming, Electrical Circuits, Electromagnetics, Programming for Technologists\\n\\n**Technical Proficiencies**\\n\\n* Modeling Programs: ALGOR, eQUEST, EnergyPro\\n* Drafting Software: AutoCAD, AutoCAD LT\\n\\n**Relevant Experience**\\n\\n* American Pollution Control Corp., June 2023 – August 2023\\n\\t+ Environmental Engineering Intern\\n\\t+ Inspected sites and performed detailed monitoring of industrial pollution control measures\\n\\t+ Served on a committee to design and implement a new wastewater treatment system\\n\\t+ Investigated environmental projects onsite with a team of 3 engineers\\n* Cargill, May 2022 – August 2022\\n\\t+ Engineer Intern\\n\\t+ Researched building code items, materials, and similar building plans for 2 large commercial projects in New Orleans\\n\\t+ Reviewed building plans with engineering and design teams to evaluate for ADA compliance\\n\\t+ Collaborated with a team of 7 to research and identify suitable locations to install groundwater dams\\n\\n**Relevant Project Experience**\\n\\n* Group Project, Senior Design Course, January – March 2023\\n\\t+ Collaborated with a 5-person team to develop an action plan for addressing societal, environmental, regulatory, and economic constraints related to a local wastewater project\\n\\t+ Researched client needs and developed a solutions-based layout to best suit functionality requirements\\n\\t+ Served as project leader by organizing team meetings, tracking progress, and providing a forum for discussion\\n\\n**Memberships and Associations**\\n\\n* The National Association of Environmental Professionals, Baton Rouge, LA, January 2020 – Present\\n* Louisiana Association of Environmental Professionals (LAEP), Baton Rouge, LA, August 2020 – Present\\n\\n**Campus Involvement**\\n\\n* Co-Captain, SLU Tennis Team, Hammond, LA, August 2020 – May 2023\\n\\t+ Instrumental in team motivation, encouragement, and success\\n* Member, Beta Gamma Sigma, SLU, Hammond, LA, December 2019 – December 2020\\n\\t+ International Honor Society\", 'speech_keypoints': '\\n{\\n  \"Name\": null,\\n  \"Gender\": null,\\n  \"Languages\": null,\\n  \"Country\": null,\\n  \"Work Pass Type\": null,\\n  \"Nationality\": null,\\n  \"Notice Period\": null,\\n  \"Reason for looking out\": null,\\n  \"Looking for in next move\": null,\\n  \"Other Interviews in pipeline\": null,\\n  \"Current Salary\": null,\\n  \"Expected Salary\": null,\\n  \"Identity\": null,\\n  \"Open to Consulting model\": null,\\n  \"Current Annual Leave days\": null,\\n  \"Worked for Client Before or no\": null,\\n  \"Hiring for other roles?\": null,\\n  \"General Notes\": null\\n}\\n'}\n",
      "CPU times: user 7.87 ms, sys: 5.13 ms, total: 13 ms\n",
      "Wall time: 721 ms\n"
     ]
    },
    {
     "data": {
      "text/plain": [
       "{'question': 'what is the latest job history ?',\n",
       " 'intent': 'ask_question',\n",
       " 'attachment': None,\n",
       " 'answer': 'The latest job history of John Doe is his experience as an Environmental Engineering Intern at American Pollution Control Corp. from June 2023 to August 2023.'}"
      ]
     },
     "execution_count": 16,
     "metadata": {},
     "output_type": "execute_result"
    }
   ],
   "source": [
    "%%time\n",
    "# recruiter_agent = RecruiterAgent()\n",
    "# app = recruiter_agent.setup_agent()\n",
    "# recruiter_agent.verbose = True\n",
    "input_data = {    'question': 'what is the latest job history ?'}\n",
    "app.invoke(input_data)"
   ]
  },
  {
   "cell_type": "code",
   "execution_count": null,
   "id": "cf28de4e-63fd-4f4d-a066-b161a22910f7",
   "metadata": {},
   "outputs": [],
   "source": []
  },
  {
   "cell_type": "code",
   "execution_count": null,
   "id": "5f7178a3-7208-4bd7-8abf-b97c469cf881",
   "metadata": {},
   "outputs": [],
   "source": []
  },
  {
   "cell_type": "code",
   "execution_count": null,
   "id": "0951d766-5767-4d36-ac0a-be2e2aa5d818",
   "metadata": {},
   "outputs": [],
   "source": []
  },
  {
   "cell_type": "code",
   "execution_count": 32,
   "id": "3dd6fb9a-e94b-4be0-8d93-05f856285a2f",
   "metadata": {
    "scrolled": true
   },
   "outputs": [
    {
     "name": "stdout",
     "output_type": "stream",
     "text": [
      "\n",
      "--- load_llm_model\n",
      "\tUsing llama3-8b-8192\n",
      "\n",
      "--- setup_chains\n",
      "\t _chain_COT\n",
      "\t _chain_COT\n",
      "\n",
      "--- setup_agent\n",
      "CPU times: user 115 ms, sys: 2.22 ms, total: 117 ms\n",
      "Wall time: 116 ms\n"
     ]
    }
   ],
   "source": [
    "%%time\n",
    "recruiter_agent = RecruiterAgent()\n",
    "app = recruiter_agent.setup_agent()\n",
    "recruiter_agent.verbose = True\n",
    "\n",
    "resume_content = resume_output['resume_content']\n",
    "speech_keypoints = speech_output['speech_keypoints']"
   ]
  },
  {
   "cell_type": "code",
   "execution_count": 46,
   "id": "69e1922b-b097-40cf-8012-6317ed88dbf6",
   "metadata": {
    "scrolled": true
   },
   "outputs": [
    {
     "name": "stdout",
     "output_type": "stream",
     "text": [
      "\t intent = get_summary\n",
      "---[EDGE] _edge_routing_to_agents---\n"
     ]
    }
   ],
   "source": [
    "input_data = { 'question': 'get_summary', 'resume_content': resume_content, 'speech_keypoints': json.loads(speech_keypoints), }\n",
    "summary_output = app.invoke(input_data)"
   ]
  },
  {
   "cell_type": "code",
   "execution_count": 47,
   "id": "0fc116a5-f387-411c-bbcd-689209af7c5d",
   "metadata": {
    "scrolled": true
   },
   "outputs": [
    {
     "data": {
      "text/markdown": [
       "Based on the provided resume, I have categorized the information into the following sections:\n",
       "\n",
       "**Summary**\n",
       "\n",
       "* Experienced in designing solutions for environmental problems that require integration of environmental and human health constraints compatible with economic growth, sustainable development, and ethical standards.\n",
       "* Proficient with a variety of modeling and drafting software including AutoCAD and ALGOR.\n",
       "* Efficiently manage projects and collaborate with teams to accelerate the overarching goals of the company.\n",
       "\n",
       "**Education**\n",
       "\n",
       "* Southeastern Louisiana University - Hammond, LA\n",
       "\t+ Bachelor of Science in Engineering Technology, Concentration: Electrical Energy Engineering\n",
       "\t+ Cumulative GPA: 3.75/4.00\n",
       "\t+ Relevant Coursework: Introduction to Programming, Electrical Circuits, Electromagnetics, Programming for Technologists\n",
       "\n",
       "**Technical Proficiencies**\n",
       "\n",
       "* Modeling Programs: ALGOR, eQUEST, and EnergyPro (LEED project with a VRF system)\n",
       "* Drafting Software: AutoCAD, AutoCAD LT\n",
       "\n",
       "**Relevant Experience**\n",
       "\n",
       "* American Pollution Control Corp., June 2023 - August 2023\n",
       "\t+ Environmental Engineering Intern - Chalmette, LA\n",
       "\t\t- Inspected sites and performed detailed monitoring of industrial pollution control measures with an environmental engineer based on state and local regulations.\n",
       "\t\t- Served on a committee dedicated to designing and implementing a new wastewater treatment system.\n",
       "\t\t- Investigated environmental projects onsite with a team of 3 engineers.\n",
       "* Cargill, May 2022 - August 2022\n",
       "\t+ Engineer Intern - Breaux Bridge, LA\n",
       "\t\t- Researched building code items, materials, and similar building plans for 2 large commercial projects in New Orleans.\n",
       "\t\t- Reviewed building plans with engineering and design teams to evaluate for ADA compliance.\n",
       "\t\t- Collaborated with a team of 7 to research and identify suitable locations to install groundwater dams.\n",
       "\n",
       "**Relevant Project Experience**\n",
       "\n",
       "* Group Project, Senior Design Course - Hammond, LA, January - March 2023\n",
       "\t+ Collaborated with a 5-person team tasked with developing an action plan for addressing societal, environmental, regulatory, and economic constraints related to a local wastewater project.\n",
       "\t+ Researched client needs and developed a solutions-based layout to best suit functionality requirements.\n",
       "\t+ Served as project leader by organizing team meetings, tracking progress, and providing a forum for discussion.\n",
       "\n",
       "**Memberships and Associations**\n",
       "\n",
       "* The National Association of Environmental Professionals - Baton Rouge, LA, January 2020 - Present\n",
       "* Louisiana Association of Environmental Professionals (LAEP) - Baton Rouge, LA, August 2020 - Present\n",
       "\n",
       "**Campus Involvement**\n",
       "\n",
       "* Co-Captain, SLU Tennis Team - Hammond, LA, August 2020 - May 2023\n",
       "\t+ Instrumental in team motivation, encouragement, and success.\n",
       "* Member, Beta Gamma Sigma, SLU - Hammond, LA, December 2019 - December 2020\n",
       "\t+ International Honor Society\n",
       "\n",
       "\n",
       "**Conversation**\n",
       "* Name\n",
       "\t+ None\n",
       "* Gender\n",
       "\t+ None\n",
       "* Languages\n",
       "\t+ None\n",
       "* Country\n",
       "\t+ None\n",
       "* Work Pass Type\n",
       "\t+ None\n",
       "* Nationality\n",
       "\t+ None\n",
       "* Notice Period\n",
       "\t+ None\n",
       "* Reason for looking out\n",
       "\t+ None\n",
       "* Looking for in next move\n",
       "\t+ None\n",
       "* Other Interviews in pipeline\n",
       "\t+ None\n",
       "* Current Salary\n",
       "\t+ None\n",
       "* Expected Salary\n",
       "\t+ None\n",
       "* Identity\n",
       "\t+ None\n",
       "* Open to Consulting model\n",
       "\t+ None\n",
       "* Current Annual Leave days\n",
       "\t+ None\n",
       "* Worked for Client Before or no\n",
       "\t+ None\n",
       "* Hiring for other roles?\n",
       "\t+ None\n",
       "* General Notes\n",
       "\t+ None"
      ],
      "text/plain": [
       "<IPython.core.display.Markdown object>"
      ]
     },
     "metadata": {},
     "output_type": "display_data"
    }
   ],
   "source": [
    "display(Markdown(summary_output['answer']))"
   ]
  },
  {
   "cell_type": "code",
   "execution_count": 69,
   "id": "4a29f54e-24b2-467f-92b6-314cbfa04414",
   "metadata": {},
   "outputs": [
    {
     "name": "stdout",
     "output_type": "stream",
     "text": [
      "\n",
      "--- load_llm_model\n",
      "\tUsing llama3-8b-8192\n",
      "\n",
      "--- setup_chains\n",
      "\t _chain_resume_parser\n",
      "\t _chain_speech_parser\n",
      "\t _chain_question_answering\n",
      "\n",
      "--- setup_agent\n",
      "CPU times: user 27 ms, sys: 2.02 ms, total: 29 ms\n",
      "Wall time: 28.4 ms\n"
     ]
    }
   ],
   "source": [
    "%%time\n",
    "recruiter_agent = RecruiterAgent()\n",
    "app = recruiter_agent.setup_agent()\n",
    "recruiter_agent.verbose = True\n",
    "\n",
    "resume_content = resume_output['resume_content']\n",
    "speech_keypoints = speech_output['speech_keypoints']"
   ]
  },
  {
   "cell_type": "code",
   "execution_count": 70,
   "id": "547bdd75-6f8f-4b30-a075-4bb3da39a375",
   "metadata": {
    "scrolled": true
   },
   "outputs": [
    {
     "name": "stdout",
     "output_type": "stream",
     "text": [
      "\t intent = ask_question\n",
      "---[EDGE] _edge_routing_to_agents---\n"
     ]
    }
   ],
   "source": [
    "input_data = {'question': 'what is the education of John Doe ?',\n",
    "              'resume_content': resume_content,\n",
    "              'speech_keypoints': json.loads(speech_keypoints),\n",
    "             }\n",
    "answer_output = app.invoke(input_data)"
   ]
  },
  {
   "cell_type": "code",
   "execution_count": 71,
   "id": "7cc756d7-019c-408b-871d-7c4d4016b233",
   "metadata": {},
   "outputs": [
    {
     "name": "stdout",
     "output_type": "stream",
     "text": [
      "\n",
      "The individual's education is a Bachelor of Science in Engineering Technology, Concentration: Electrical Energy Engineering from Southeastern Louisiana University with a cumulative GPA of 3.75/4.00.\n"
     ]
    }
   ],
   "source": [
    "print(answer_output['answer'])"
   ]
  },
  {
   "cell_type": "markdown",
   "id": "3abe79f8-49eb-4f15-9ab2-0903afd07b50",
   "metadata": {},
   "source": [
    "## plot graph"
   ]
  },
  {
   "cell_type": "code",
   "execution_count": 45,
   "id": "cfb1ccf3-d123-4125-878e-20af5838dcd7",
   "metadata": {},
   "outputs": [],
   "source": [
    "app_img = app.get_graph().draw_mermaid_png()\n",
    "image = Image.open(io.BytesIO(app_img))\n",
    "image.save(\"graph.png\")"
   ]
  },
  {
   "cell_type": "markdown",
   "id": "a2357da5-b968-48c3-99bb-6039abd01d8d",
   "metadata": {},
   "source": [
    "# debug"
   ]
  },
  {
   "cell_type": "code",
   "execution_count": null,
   "id": "97dc3428-4d1f-4f3a-be64-f77c7859e41a",
   "metadata": {},
   "outputs": [],
   "source": []
  },
  {
   "cell_type": "code",
   "execution_count": null,
   "id": "5e3b6e7b-3661-46b1-b875-670ce4b0d983",
   "metadata": {},
   "outputs": [],
   "source": []
  }
 ],
 "metadata": {
  "kernelspec": {
   "display_name": "Python 3 (ipykernel)",
   "language": "python",
   "name": "python3"
  },
  "language_info": {
   "codemirror_mode": {
    "name": "ipython",
    "version": 3
   },
   "file_extension": ".py",
   "mimetype": "text/x-python",
   "name": "python",
   "nbconvert_exporter": "python",
   "pygments_lexer": "ipython3",
   "version": "3.12.3"
  }
 },
 "nbformat": 4,
 "nbformat_minor": 5
}
