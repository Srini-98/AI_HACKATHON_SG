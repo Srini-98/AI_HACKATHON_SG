{
 "cells": [
  {
   "cell_type": "markdown",
   "id": "8c0bfd4e-348e-41dd-9999-6ccdfd55e38e",
   "metadata": {},
   "source": [
    "# import"
   ]
  },
  {
   "cell_type": "code",
   "execution_count": 1,
   "id": "94520407-5710-43ac-a56f-e45e830c4a49",
   "metadata": {
    "scrolled": true
   },
   "outputs": [],
   "source": [
    "import os\n",
    "import pdb\n",
    "import time\n",
    "from pprint import pprint\n",
    "import requests\n",
    "import json\n",
    "\n",
    "import pandas as pd\n",
    "from dotenv import load_dotenv, find_dotenv\n",
    "from tqdm import tqdm"
   ]
  },
  {
   "cell_type": "code",
   "execution_count": 2,
   "id": "1094a208-a9b1-49cd-9530-d49a36dbdbe7",
   "metadata": {},
   "outputs": [],
   "source": [
    "from IPython.display import Markdown, display"
   ]
  },
  {
   "cell_type": "code",
   "execution_count": 3,
   "id": "40948eb8-aaa9-4136-903d-5c69ee2f1b10",
   "metadata": {},
   "outputs": [],
   "source": [
    "# Model\n",
    "load_dotenv(find_dotenv()) # read local .env file\n",
    "assert os.environ[\"JIGSAW_API_KEY\"]  != ''\n",
    "assert os.environ[\"JIGSAW_PUBLIC_KEY\"]  != ''\n",
    "assert os.environ[\"GROQ_API_KEY\"]  != ''"
   ]
  },
  {
   "cell_type": "raw",
   "id": "243f0ce1-7bd9-4300-9073-b772841761cb",
   "metadata": {},
   "source": [
    "from utils import RecruiterAgent"
   ]
  },
  {
   "attachments": {},
   "cell_type": "markdown",
   "id": "13204013-20fc-4a68-9993-b397ab361895",
   "metadata": {
    "jp-MarkdownHeadingCollapsed": true
   },
   "source": [
    "# Jigsaw"
   ]
  },
  {
   "cell_type": "code",
   "execution_count": 4,
   "id": "212a353c-77f5-4e01-b34a-bbab9ec400e1",
   "metadata": {},
   "outputs": [],
   "source": [
    "JIGSAW_API_KEY = os.environ[\"JIGSAW_API_KEY\"]"
   ]
  },
  {
   "cell_type": "code",
   "execution_count": 5,
   "id": "a14e6bb3-e55a-45d6-a51d-9556e8e04c62",
   "metadata": {},
   "outputs": [],
   "source": [
    "JIGSAW_PUBLIC_KEY = os.environ[\"JIGSAW_PUBLIC_KEY\"]"
   ]
  },
  {
   "cell_type": "markdown",
   "id": "4906fcfe-6a8f-4954-9152-a0eb63f6a8c5",
   "metadata": {},
   "source": [
    "## upload"
   ]
  },
  {
   "cell_type": "code",
   "execution_count": 6,
   "id": "19d52be5-e878-40f8-8daf-f42843bdbcb6",
   "metadata": {},
   "outputs": [
    {
     "name": "stdout",
     "output_type": "stream",
     "text": [
      "https://api.jigsawstack.com/v1/store/file?key=gettysburg.wav&overwrite=true\n"
     ]
    }
   ],
   "source": [
    "# Define the endpoint and the API key\n",
    "endpoint = \"https://api.jigsawstack.com/v1/store/file?key=gettysburg.wav&overwrite=true\"\n",
    "print(endpoint)\n",
    "\n",
    "# Define the headers\n",
    "headers = {\n",
    "    \"Content-Type\": \"audio/wav\",\n",
    "    \"x-api-key\": JIGSAW_API_KEY,\n",
    "}"
   ]
  },
  {
   "cell_type": "code",
   "execution_count": 7,
   "id": "5e8d4703-1a92-40a1-9229-1b6956e8ce09",
   "metadata": {},
   "outputs": [
    {
     "name": "stdout",
     "output_type": "stream",
     "text": [
      "{'success': True, 'url': 'https://api.jigsawstack.com/v1/store/file/gettysburg.wav', 'key': 'gettysburg.wav'}\n",
      "CPU times: user 45.2 ms, sys: 63.1 ms, total: 108 ms\n",
      "Wall time: 4.62 s\n"
     ]
    }
   ],
   "source": [
    "%%time\n",
    "# Define the body of the request\n",
    "body = open('data/gettysburg.wav', 'rb')\n",
    "\n",
    "# Make the POST request\n",
    "response = requests.post(endpoint,\n",
    "                         headers=headers,\n",
    "                         data=body\n",
    "                        )\n",
    "\n",
    "# Parse the JSON response\n",
    "data = response.json()\n",
    "\n",
    "# Print the result\n",
    "print(data)"
   ]
  },
  {
   "cell_type": "markdown",
   "id": "8d7c4563-6b2b-4fc8-9b72-30330ca97b28",
   "metadata": {},
   "source": [
    "## transcribe"
   ]
  },
  {
   "cell_type": "code",
   "execution_count": 8,
   "id": "baed2216-2e7b-4edf-b92c-13b2a6890847",
   "metadata": {},
   "outputs": [],
   "source": [
    "# Define the endpoint and the API key\n",
    "endpoint = \"https://api.jigsawstack.com/v1/ai/transcribe\"\n",
    "\n",
    "# Define the headers\n",
    "headers = {\n",
    "    \"Content-Type\": \"application/json\",\n",
    "    \"x-api-key\": JIGSAW_API_KEY,\n",
    "}\n",
    "\n",
    "# Define the body of the request\n",
    "body = {\n",
    "    \"file_store_key\": \"gettysburg.wav\",\n",
    "}"
   ]
  },
  {
   "cell_type": "code",
   "execution_count": 9,
   "id": "53e5251d-3c48-4f52-be97-d99776af16b1",
   "metadata": {},
   "outputs": [
    {
     "name": "stdout",
     "output_type": "stream",
     "text": [
      "https://api.jigsawstack.com/v1/ai/transcribe\n",
      "{'Content-Type': 'application/json', 'x-api-key': 'sk_acd188330c1f9f68e2bc78bd43d8166965a8dad216eb01cb95a0a338b962ef30639891eb20133044ef621920a9f2dde49c00b5f0eedb6977219e1843f0d7688d024AFgZoUHfu6FCv1Hjg4'}\n",
      "{'file_store_key': 'gettysburg.wav'}\n"
     ]
    }
   ],
   "source": [
    "print(endpoint)\n",
    "print(headers)\n",
    "print(body)"
   ]
  },
  {
   "cell_type": "code",
   "execution_count": 10,
   "id": "e618357b-77c7-44ef-af40-6af08bc21dce",
   "metadata": {},
   "outputs": [
    {
     "name": "stdout",
     "output_type": "stream",
     "text": [
      "{'success': True, 'text': ' four score and seven years ago our fathers brought forth on this continent a new nation conceived in liberty and dedicated to the proposition that all men are created equal now we are engaged in a great civil war testing whether that nation or any nation so conceived and so dedicated can long endure', 'chunks': [{'timestamp': [0, 17.58], 'text': ' four score and seven years ago our fathers brought forth on this continent a new nation conceived in liberty and dedicated to the proposition that all men are created equal now we are engaged in a great civil war testing whether that nation or any nation so conceived and so dedicated can long endure'}]}\n",
      "CPU times: user 11.4 ms, sys: 1.08 ms, total: 12.5 ms\n",
      "Wall time: 37.6 s\n"
     ]
    }
   ],
   "source": [
    "%%time\n",
    "# Make the POST request\n",
    "response = requests.post(endpoint,\n",
    "                         headers=headers,\n",
    "                         data=json.dumps(body)\n",
    "                        )\n",
    "\n",
    "# Parse the JSON response\n",
    "data = response.json()\n",
    "\n",
    "# Print the result\n",
    "print(data)"
   ]
  },
  {
   "cell_type": "code",
   "execution_count": 11,
   "id": "f0d66519-ec5d-4595-ba34-b29240d0ed92",
   "metadata": {},
   "outputs": [
    {
     "name": "stdout",
     "output_type": "stream",
     "text": [
      "{'success': True, 'text': ' four score and seven years ago our fathers brought forth on this continent a new nation conceived in liberty and dedicated to the proposition that all men are created equal now we are engaged in a great civil war testing whether that nation or any nation so conceived and so dedicated can long endure', 'chunks': [{'timestamp': [0, 17.58], 'text': ' four score and seven years ago our fathers brought forth on this continent a new nation conceived in liberty and dedicated to the proposition that all men are created equal now we are engaged in a great civil war testing whether that nation or any nation so conceived and so dedicated can long endure'}]}\n",
      "CPU times: user 6.02 ms, sys: 18.1 ms, total: 24.1 ms\n",
      "Wall time: 6.99 s\n"
     ]
    }
   ],
   "source": [
    "%%time\n",
    "# Define the endpoint and the API key\n",
    "endpoint = \"https://api.jigsawstack.com/v1/ai/transcribe\"\n",
    "\n",
    "# Define the headers\n",
    "headers = {\n",
    "    \"Content-Type\": \"application/json\",\n",
    "    \"x-api-key\": JIGSAW_API_KEY,\n",
    "}\n",
    "\n",
    "# Define the body of the request\n",
    "body = {\n",
    "    \"file_store_key\": \"gettysburg.wav\",\n",
    "}\n",
    "\n",
    "# Make the POST request\n",
    "response = requests.post(endpoint,\n",
    "                         headers=headers,\n",
    "                         data=json.dumps(body)\n",
    "                        )\n",
    "\n",
    "# Parse the JSON response\n",
    "data = response.json()\n",
    "\n",
    "# Print the result\n",
    "print(data)"
   ]
  },
  {
   "cell_type": "markdown",
   "id": "9436a123-3774-406f-bc16-fd8d6e4c5ec7",
   "metadata": {},
   "source": [
    "# Groq"
   ]
  },
  {
   "cell_type": "code",
   "execution_count": 12,
   "id": "9c7ceffe-11ad-4a0b-aa59-73e5636b1796",
   "metadata": {},
   "outputs": [],
   "source": [
    "os.environ[\"GROQ_KEY\"] = os.environ[\"GROQ_API_KEY\"]"
   ]
  },
  {
   "cell_type": "code",
   "execution_count": 15,
   "id": "7cb2480f-b923-40e4-b5ca-05dfcd857681",
   "metadata": {},
   "outputs": [],
   "source": [
    "import PyPDF2"
   ]
  },
  {
   "cell_type": "code",
   "execution_count": 13,
   "id": "2002d86f-6479-4f7f-8bfb-1c836e4cccfb",
   "metadata": {},
   "outputs": [],
   "source": [
    "from splitResume import get_response"
   ]
  },
  {
   "cell_type": "code",
   "execution_count": 16,
   "id": "5fbe372b-0af2-42ce-9ee1-235cce0bde33",
   "metadata": {},
   "outputs": [],
   "source": [
    "uploaded_file = \"./data/JohnDoeResume.pdf\"\n",
    "\n",
    "pdfReader = PyPDF2.PdfReader(uploaded_file)\n",
    "resume_text = \"\\n\"\n",
    "for pageObj in pdfReader.pages:\n",
    "    current_text = pageObj.extract_text()\n",
    "    resume_text += f\"{current_text}\\n\"\n",
    "\n",
    "response = get_response(resume_text)"
   ]
  },
  {
   "cell_type": "code",
   "execution_count": 18,
   "id": "859e0031-bba7-4e21-b7c9-48c92f3b1df5",
   "metadata": {
    "scrolled": true
   },
   "outputs": [
    {
     "data": {
      "text/markdown": [
       "Here is the resume split into different sections:\n",
       "\n",
       "**Contact Information**\n",
       "\n",
       "* Name: John Doe\n",
       "* Address: Simei Street 1, (520133)\n",
       "* Email: [John_Doe@hotmail.com](mailto:John_Doe@hotmail.com)\n",
       "* LinkedIn: https://www.linkedin.com/in/john-doe-840510214\n",
       "\n",
       "**Summary of Qualifications**\n",
       "\n",
       "* Experienced in designing solutions for environmental problems\n",
       "* Proficient in various modeling and drafting software\n",
       "* Efficiently manages projects and collaborates with teams\n",
       "\n",
       "**Education**\n",
       "\n",
       "* Institution: Southeastern Louisiana University, Hammond, LA\n",
       "* Degree: Bachelor of Science in Engineering Technology, Concentration: Electrical Energy Engineering\n",
       "* Graduation Date: May 2024\n",
       "* Cumulative GPA: 3.75/4.00\n",
       "* Relevant Coursework:\n",
       "\t+ Introduction to Programming\n",
       "\t+ Electrical Circuits\n",
       "\t+ Electromagnetics\n",
       "\t+ Programming for Technologists\n",
       "\n",
       "**Technical Proficiencies**\n",
       "\n",
       "* Modeling Programs:\n",
       "\t+ ALGOR\n",
       "\t+ eQUEST\n",
       "\t+ EnergyPro (LEED project with a VRF system)\n",
       "* Drafting Software:\n",
       "\t+ AutoCAD\n",
       "\t+ AutoCAD LT\n",
       "\n",
       "**Experience**\n",
       "\n",
       "* American Pollution Control Corp., Environmental Engineering Intern, Chalmette, LA (June 2023 - August 2023)\n",
       "\t+ Inspected sites and performed detailed monitoring of industrial pollution control measures\n",
       "\t+ Served on a committee dedicated to designing and implementing a new wastewater treatment system\n",
       "\t+ Investigated environmental projects onsite with a team of 3 engineers\n",
       "* Cargill, Engineer Intern, Breaux Bridge, LA (May 2022 - August 2022)\n",
       "\t+ Researched building code items, materials, and similar building plans for 2 large commercial projects in New Orleans\n",
       "\t+ Reviewed building plans with engineering and design teams to evaluate for ADA compliance\n",
       "\t+ Collaborated with a team of 7 to research and identify suitable locations to install groundwater dams\n",
       "\n",
       "**Project Experience**\n",
       "\n",
       "* Group Project, Senior Design Course, Hammond, LA (January - March 2023)\n",
       "\t+ Collaborated with a 5-person team to develop an action plan for addressing societal, environmental, regulatory, and economic constraints related to a local wastewater project\n",
       "\t+ Researched client needs and developed a solutions-based layout to best suit functionality requirements\n",
       "\t+ Served as project leader by organizing team meetings, tracking progress, and providing a forum for discussion\n",
       "\n",
       "**Memberships and Associations**\n",
       "\n",
       "* The National Association of Environmental Professionals, Baton Rouge, LA (January 2020 - Present)\n",
       "* Louisiana Association of Environmental Professionals (LAEP), Baton Rouge, LA (August 2020 - Present)\n",
       "\n",
       "**Campus Involvement**\n",
       "\n",
       "* Co-Captain, SLU Tennis Team, Hammond, LA (August 2020 - May 2023)\n",
       "* Member, Beta Gamma Sigma, SLU, Hammond, LA (December 2019 - December 2020)"
      ],
      "text/plain": [
       "<IPython.core.display.Markdown object>"
      ]
     },
     "metadata": {},
     "output_type": "display_data"
    }
   ],
   "source": [
    "display(Markdown(response))"
   ]
  },
  {
   "cell_type": "code",
   "execution_count": null,
   "id": "2d8c5af2-c110-41fc-8edb-cc3f8bf3809e",
   "metadata": {},
   "outputs": [],
   "source": []
  }
 ],
 "metadata": {
  "kernelspec": {
   "display_name": "Python 3 (ipykernel)",
   "language": "python",
   "name": "python3"
  },
  "language_info": {
   "codemirror_mode": {
    "name": "ipython",
    "version": 3
   },
   "file_extension": ".py",
   "mimetype": "text/x-python",
   "name": "python",
   "nbconvert_exporter": "python",
   "pygments_lexer": "ipython3",
   "version": "3.12.3"
  }
 },
 "nbformat": 4,
 "nbformat_minor": 5
}
