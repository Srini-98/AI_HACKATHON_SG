{
 "cells": [
  {
   "cell_type": "code",
   "execution_count": 2,
   "metadata": {},
   "outputs": [],
   "source": [
    "from openai import OpenAI\n",
    "import os \n",
    "\n",
    "api_key = os.environ['OPENAI_API_KEY']\n",
    "client = OpenAI(api_key=api_key)\n",
    "\n"
   ]
  },
  {
   "cell_type": "code",
   "execution_count": 3,
   "metadata": {},
   "outputs": [],
   "source": [
    "import pandas as pd\n",
    "\n",
    "df = pd.read_csv(\"./data/job_description.csv\")"
   ]
  },
  {
   "cell_type": "code",
   "execution_count": 4,
   "metadata": {},
   "outputs": [],
   "source": [
    "job_des = df['Job_Description'].tolist()"
   ]
  },
  {
   "cell_type": "code",
   "execution_count": 5,
   "metadata": {},
   "outputs": [
    {
     "data": {
      "text/plain": [
       "\"Here is a job description for a Software Engineer at Mary Technology:\\n\\n**Job Title:** Software Engineer\\n\\n**Company:** Mary Technology\\n\\n**Salary:** $100,000 - $180,000 per annum (dependent on experience and level)\\n\\n**Location:** Sydney, NSW (REMOTE options available)\\n\\n**Job Summary:**\\n\\nWe are seeking an exceptional Software Engineer to join our innovative team at Mary Technology. As a Software Engineer, you will play a key role in designing, developing, and maintaining cutting-edge software solutions that drive business growth and excellence. You will have the opportunity to work on complex projects, collaborate with cross-functional teams, and contribute to the development of new products and features.\\n\\n**Responsibilities:**\\n\\n* Design, develop, test, and deploy high-quality software applications using various programming languages and technologies\\n* Collaborate with product managers, designers, and other engineers to identify and prioritize project requirements\\n* Write clean, efficient, and well-documented code that meets industry standards\\n* Participate in code reviews, ensure adherence to coding standards, and contribute to the improvement of the overall codebase\\n* Troubleshoot and debug software issues, identifying and resolving problems in a timely and efficient manner\\n* Stay up-to-date with industry trends, best practices, and emerging technologies, applying this knowledge to continuously improve our software solutions\\n* Collaborate with QA engineers to ensure software meets quality and reliability standards\\n* Work closely with DevOps teams to ensure seamless deployment and integration of software applications\\n\\n**Requirements:**\\n\\n**Experience:**\\n\\n* 5+ years of experience in software development, with a focus on backend, frontend, or full-stack development\\n* 2+ years of experience with cloud-based technologies (AWS, Azure, Google Cloud)\\n\\n**Skills:**\\n\\n* Proficiency in one or more programming languages, such as Java, Python, JavaScript, or C++\\n* Experience with Agile development methodologies and version control systems (Git, SVN)\\n* Strong understanding of software design patterns, principles, and best practices\\n* Experience with containerization (Docker) and orchestration (Kubernetes)\\n* Knowledge of database management systems, including relational and NoSQL databases\\n* Strong problem-solving skills, with the ability to debug and troubleshoot complex issues\\n* Excellent communication and collaboration skills, with experience working in a team environment\\n* Bachelor's or Master's degree in Computer Science, Engineering, or a related field\\n\\n**Nice to Have:**\\n\\n* Experience with cloud-native applications, serverless architecture, and event-driven design\\n* Knowledge of DevOps practices, including continuous integration and continuous deployment (CI/CD)\\n* Familiarity with machine learning, artificial intelligence, or data analytics\\n* Experience with modern front-end frameworks, such as React, Angular, or Vue.js\\n\\n**What We Offer:**\\n\\n* Competitive salary package ($100,000 - $180,000 per annum, dependent on experience and level)\\n* Flexible work arrangements, including remote work options\\n* Opportunities for professional growth and career development\\n* Collaborative and dynamic work environment\\n* Access to cutting-edge technologies and tools\\n* Recognition and reward programs\\n\\nIf you're a motivated and talented Software Engineer looking for a new challenge, please submit your application, including your resume and a cover letter outlining your experience and skills. We can't wait to hear from you!\""
      ]
     },
     "execution_count": 5,
     "metadata": {},
     "output_type": "execute_result"
    }
   ],
   "source": [
    "job_des[0]"
   ]
  },
  {
   "cell_type": "code",
   "execution_count": 8,
   "metadata": {},
   "outputs": [],
   "source": [
    "\n",
    "from supabase import create_client\n",
    "def setup():\n",
    "    client = create_client(\n",
    "        os.environ.get(\"SUPABASE_URL\"),\n",
    "        os.environ.get(\"SUPABASE_KEY\")\n",
    "    )\n",
    "    return client\n",
    "\n",
    "supabase = setup()\n"
   ]
  },
  {
   "cell_type": "code",
   "execution_count": null,
   "metadata": {},
   "outputs": [],
   "source": [
    "for i in range(1, len(job_des)):\n",
    "    print(i)\n",
    "    st = job_des[i]\n",
    "    response = client.embeddings.create(\n",
    "        input=st,\n",
    "        model=\"text-embedding-3-small\"\n",
    "    )\n",
    "    embedding = response.data[0].embedding\n",
    "    response = {}\n",
    "    response['embedding'] = embedding\n",
    "    response['description'] = st\n",
    "    data, count = supabase.table(\"embeddings\").insert(response).execute()"
   ]
  },
  {
   "cell_type": "markdown",
   "metadata": {},
   "source": [
    "create or replace function match_documents (\n",
    "  embedding vector(1536),\n",
    "  match_threshold float,\n",
    "  match_count int\n",
    ")\n",
    "returns table (\n",
    "  id bigint,\n",
    "  content text,\n",
    "  similarity float\n",
    ")\n",
    "language sql stable\n",
    "as $$\n",
    "  select\n",
    "    documents.id,\n",
    "    documents.description,\n",
    "    1 - (documents.embedding <=> embedding) as similarity\n",
    "  from documents\n",
    "  where documents.embedding <=> embedding < 1 - match_threshold\n",
    "  order by documents.embedding <=> embedding\n",
    "  limit match_count;\n",
    "$$;"
   ]
  },
  {
   "cell_type": "code",
   "execution_count": null,
   "metadata": {},
   "outputs": [],
   "source": []
  },
  {
   "cell_type": "code",
   "execution_count": 9,
   "metadata": {},
   "outputs": [],
   "source": [
    "temp_st = \"\"\"Based on the provided resume, I've generated a job description that aligns with the candidate's skills and experience:\n",
    "\n",
    "Job Title: Senior Cloud Automation Architect - Machine Learning Infrastructure\n",
    "\n",
    "Job Summary:\n",
    "\n",
    "We are seeking an experienced Senior Cloud Automation Architect to join our team, focusing on machine learning infrastructure development. The ideal candidate will have a strong background in automation, cloud computing, and DevOps practices, with expertise in scripting languages and a passion for building scalable and efficient systems. As a key member of our team, you will design, implement, and maintain the infrastructure supporting our machine learning workloads, ensuring high availability, scalability, and security.\n",
    "\n",
    "Responsibilities:\n",
    "\n",
    "Design and implement infrastructure automation using SaltStack, Ansible, or Chef for large-scale machine learning workloads on cloud platforms (GCP, AWS, Linode)\n",
    "Develop and maintain scalable, secure, and efficient cloud architectures using Python, Bash, and other scripting languages\n",
    "Collaborate with data scientists and engineers to develop and deploy machine learning models on cloud-based infrastructure\n",
    "Ensure compliance with industry standards and regulations (CIS, SOC2, PCI-DSS, GDPR, ITIL) for machine learning infrastructure\n",
    "Develop and maintain automated testing and deployment pipelines using Pytest, Docker, CircleCI, and Jenkins\n",
    "Participate in the design and implementation of new features and tools to improve the efficiency and reliability of machine learning infrastructure\n",
    "Collaborate with cross-functional teams to ensure seamless integration of machine learning workflows with existing systems\n",
    "Requirements:\n",
    "\n",
    "5+ years of experience in automation, DevOps, or cloud architecture, with a focus on machine learning infrastructure\n",
    "Strong expertise in automation tools (SaltStack, Ansible, Chef) and cloud platforms (GCP, AWS, Linode)\n",
    "Proficiency in scripting languages (Python, Bash, PHP, Perl)\n",
    "Experience with machine learning frameworks and tools (TensorFlow, PyTorch, scikit-learn)\n",
    "Strong understanding of security and compliance regulations (CIS, SOC2, PCI-DSS, GDPR, ITIL)\n",
    "Excellent problem-solving skills, with the ability to work independently and collaboratively as part of a team\n",
    "Strong communication and documentation skills, with the ability to convey complex technical information to non-technical stakeholders\n",
    "Nice to Have:\n",
    "\n",
    "Experience with machine learning frameworks and tools (TensorFlow, PyTorch, scikit-learn)\n",
    "Knowledge of containerization using Docker and orchestration using Kubernetes\n",
    "Experience with agile development methodologies and version control systems (Git)\n",
    "Certifications in cloud computing (GCP, AWS) and automation tools (SaltStack)\n",
    "What We Offer:\n",
    "\n",
    "Competitive salary and benefits package\n",
    "Opportunities for professional growth and development in a dynamic and innovative environment\n",
    "Collaborative and diverse team with a passion for machine learning and automation\n",
    "Flexible work arrangements, including remote work options\n",
    "Access to the latest tools and technologies in the field\n",
    "If you're a motivated and experienced professional with a passion for machine learning infrastructure, we encourage you to apply for this exciting opportunity!\"\"\""
   ]
  },
  {
   "cell_type": "code",
   "execution_count": 10,
   "metadata": {},
   "outputs": [],
   "source": [
    "response = client.embeddings.create(\n",
    "    input=temp_st,\n",
    "    model=\"text-embedding-3-small\"\n",
    ")\n",
    "embedding = response.data[0].embedding"
   ]
  },
  {
   "cell_type": "code",
   "execution_count": 32,
   "metadata": {},
   "outputs": [
    {
     "data": {
      "text/plain": [
       "1536"
      ]
     },
     "execution_count": 32,
     "metadata": {},
     "output_type": "execute_result"
    }
   ],
   "source": [
    "len(embedding)"
   ]
  },
  {
   "cell_type": "code",
   "execution_count": 39,
   "metadata": {},
   "outputs": [],
   "source": [
    "output = supabase.rpc('match_documents' ,{ \"query_embedding\" : embedding,\n",
    "  \"match_threshold\" : 0.7, \n",
    "  \"match_count\" : 5, \n",
    "}).select('*').execute()"
   ]
  },
  {
   "cell_type": "code",
   "execution_count": 41,
   "metadata": {},
   "outputs": [
    {
     "data": {
      "text/plain": [
       "[{'id': 37,\n",
       "  'content': \"Here is a job description based on the provided information:\\n\\n**Job Title:** Senior Machine Learning Engineer\\n\\n**Company:** Fingerprint for Success (F4S)\\n\\n**Location:** Australia\\n\\n**Salary Range:** Competitive salary package (negotiable based on experience)\\n\\n**Job Type:** Full-time\\n\\n**About Us:**\\n\\nFingerprint for Success (F4S) is a cutting-edge technology company that is revolutionizing the way businesses approach people management. We're dedicated to helping organizations unlock the full potential of their teams by leveraging the power of AI-driven insights. Our innovative solutions empower leaders to make data-driven decisions, driving growth, and success.\\n\\n**Job Overview:**\\n\\nWe're seeking an exceptional Senior Machine Learning Engineer to join our high-performing team in Australia. As a Senior Machine Learning Engineer, you will be responsible for designing, developing, and deploying machine learning models that drive business value. You will work closely with cross-functional teams to identify opportunities to leverage machine learning and AI to drive innovation and growth.\\n\\n**Responsibilities:**\\n\\n* Design, develop, and deploy machine learning models to solve complex business problems\\n* Collaborate with data scientists and engineers to develop and integrate AI-driven solutions\\n* Develop and maintain large-scale machine learning systems, ensuring scalability, reliability, and performance\\n* Conduct exploratory data analysis, feature engineering, and model evaluation\\n* Work closely with product owners to understand business requirements and develop solutions that meet business needs\\n* Stay up-to-date with emerging trends and advancements in machine learning and AI\\n* Mentor junior engineers and contribute to the development of best practices in machine learning engineering\\n\\n**Requirements:**\\n\\n* 5+ years of experience in machine learning engineering, with a focus on building and deploying models in production environments\\n* Master's or Ph.D. in Computer Science, Machine Learning, or a related field\\n* Proficiency in Python, with experience in popular machine learning frameworks such as TensorFlow, PyTorch, or scikit-learn\\n* Strong understanding of machine learning concepts, including supervised and unsupervised learning, deep learning, and neural networks\\n* Experience with cloud-based technologies, such as AWS or GCP\\n* Excellent problem-solving skills, with the ability to work independently and collaboratively as part of a team\\n* Strong communication skills, with the ability to explain complex technical concepts to non-technical stakeholders\\n\\n**Nice to Have:**\\n\\n* Experience with big data technologies, such as Hadoop, Spark, or NoSQL databases\\n* Knowledge of containerization using Docker and orchestration using Kubernetes\\n* Experience with Agile development methodologies and version control systems such as Git\\n\\n**What We Offer:**\\n\\n* Competitive salary package\\n* Opportunities for professional growth and development\\n* Collaborative and dynamic work environment\\n* Access to cutting-edge technologies and tools\\n* Flexible working arrangements and remote work options\\n* Recognition and rewards for outstanding performance\\n\\nIf you're a motivated and talented machine learning engineer looking for a new challenge, we'd love to hear from you! Please submit your resume and a brief cover letter outlining your experience and interests.\",\n",
       "  'similarity': 0.709528011651528}]"
      ]
     },
     "execution_count": 41,
     "metadata": {},
     "output_type": "execute_result"
    }
   ],
   "source": [
    "st = \"\"\n",
    "for i in output.data:\n",
    "    st = st + i['content'] + \"\\n\\n****************************************************************\\n\\n\"\n",
    "\n"
   ]
  },
  {
   "cell_type": "code",
   "execution_count": null,
   "metadata": {},
   "outputs": [],
   "source": [
    "\n"
   ]
  }
 ],
 "metadata": {
  "kernelspec": {
   "display_name": "Python 3 (ipykernel)",
   "language": "python",
   "name": "python3"
  },
  "language_info": {
   "codemirror_mode": {
    "name": "ipython",
    "version": 3
   },
   "file_extension": ".py",
   "mimetype": "text/x-python",
   "name": "python",
   "nbconvert_exporter": "python",
   "pygments_lexer": "ipython3",
   "version": "3.12.3"
  }
 },
 "nbformat": 4,
 "nbformat_minor": 4
}
